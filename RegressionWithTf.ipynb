{
  "nbformat": 4,
  "nbformat_minor": 0,
  "metadata": {
    "colab": {
      "name": "RegressionWithTf.ipynb",
      "provenance": []
    },
    "kernelspec": {
      "name": "python3",
      "display_name": "Python 3"
    },
    "language_info": {
      "name": "python"
    },
    "accelerator": "GPU"
  },
  "cells": [
    {
      "cell_type": "markdown",
      "metadata": {
        "id": "mqwj5Myhn1P_"
      },
      "source": [
        "# Intro to neural network with regression\n",
        "\n",
        "Regression is simply predicting a number like predicting price of something\n"
      ]
    },
    {
      "cell_type": "code",
      "metadata": {
        "colab": {
          "base_uri": "https://localhost:8080/",
          "height": 35
        },
        "id": "xBBy4AFco6Xz",
        "outputId": "2b796b9d-3d23-42a9-9746-268129696654"
      },
      "source": [
        "## import tf\n",
        "import tensorflow as tf\n",
        "\n",
        "tf.__version__"
      ],
      "execution_count": null,
      "outputs": [
        {
          "output_type": "execute_result",
          "data": {
            "application/vnd.google.colaboratory.intrinsic+json": {
              "type": "string"
            },
            "text/plain": [
              "'2.6.0'"
            ]
          },
          "metadata": {},
          "execution_count": 1
        }
      ]
    },
    {
      "cell_type": "code",
      "metadata": {
        "id": "JRxu3Cbor42X"
      },
      "source": [
        "## basic imports\n",
        "import matplotlib.pyplot as plt\n",
        "import numpy as np\n",
        "import pandas as pd"
      ],
      "execution_count": null,
      "outputs": []
    },
    {
      "cell_type": "code",
      "metadata": {
        "colab": {
          "base_uri": "https://localhost:8080/",
          "height": 286
        },
        "id": "TftoNtn5o_jp",
        "outputId": "2e5ed97a-e108-474f-d83f-b86fcfb273b2"
      },
      "source": [
        "\n",
        "## creating data to view and fit \n",
        "\n",
        "## features\n",
        "X = np.array([-7.0,-4.0,-1.0,2.0,5.0,8.0,11.0,14.0])\n",
        "\n",
        "## labels\n",
        "y = np.array([3.0,6.0,9.0,12.0,15.0,18.0,21.0,24.0])\n",
        "\n",
        "## visualize\n",
        "\n",
        "plt.scatter(X,y)"
      ],
      "execution_count": null,
      "outputs": [
        {
          "output_type": "execute_result",
          "data": {
            "text/plain": [
              "<matplotlib.collections.PathCollection at 0x7f6627a67d10>"
            ]
          },
          "metadata": {},
          "execution_count": 3
        },
        {
          "output_type": "display_data",
          "data": {
            "image/png": "[encoded data removed]",
            "text/plain": [
              "<Figure size 432x288 with 1 Axes>"
            ]
          },
          "metadata": {
            "needs_background": "light"
          }
        }
      ]
    },
    {
      "cell_type": "code",
      "metadata": {
        "colab": {
          "base_uri": "https://localhost:8080/"
        },
        "id": "15lI0bUFsiNa",
        "outputId": "2ad64ffb-41cc-4a9a-d0c4-3b7663fadb17"
      },
      "source": [
        "## relation between x and y\n",
        "y == X+10"
      ],
      "execution_count": null,
      "outputs": [
        {
          "output_type": "execute_result",
          "data": {
            "text/plain": [
              "array([ True,  True,  True,  True,  True,  True,  True,  True])"
            ]
          },
          "metadata": {},
          "execution_count": 4
        }
      ]
    },
    {
      "cell_type": "markdown",
      "metadata": {
        "id": "z3H_ly4br-yJ"
      },
      "source": [
        "## Input and Output shapes(**impt**)"
      ]
    },
    {
      "cell_type": "code",
      "metadata": {
        "colab": {
          "base_uri": "https://localhost:8080/"
        },
        "id": "YO3rYGw4sQjC",
        "outputId": "b18f053c-a35c-49ce-8e89-fe72e724590e"
      },
      "source": [
        "X.shape,y.shape"
      ],
      "execution_count": null,
      "outputs": [
        {
          "output_type": "execute_result",
          "data": {
            "text/plain": [
              "((8,), (8,))"
            ]
          },
          "metadata": {},
          "execution_count": 5
        }
      ]
    },
    {
      "cell_type": "code",
      "metadata": {
        "colab": {
          "base_uri": "https://localhost:8080/"
        },
        "id": "owBv_iz0swpp",
        "outputId": "e7495df6-15fe-4720-86b6-11937256ae6c"
      },
      "source": [
        "## convert into tensors and change dtype to float 32 as sequential uses float 32\n",
        "\n",
        "X = tf.cast(tf.constant(X), dtype=tf.float32)\n",
        "y = tf.cast(tf.constant(y), dtype = tf.float32)\n",
        "X,y"
      ],
      "execution_count": null,
      "outputs": [
        {
          "output_type": "execute_result",
          "data": {
            "text/plain": [
              "(<tf.Tensor: shape=(8,), dtype=float32, numpy=array([-7., -4., -1.,  2.,  5.,  8., 11., 14.], dtype=float32)>,\n",
              " <tf.Tensor: shape=(8,), dtype=float32, numpy=array([ 3.,  6.,  9., 12., 15., 18., 21., 24.], dtype=float32)>)"
            ]
          },
          "metadata": {},
          "execution_count": 6
        }
      ]
    },
    {
      "cell_type": "code",
      "metadata": {
        "colab": {
          "base_uri": "https://localhost:8080/"
        },
        "id": "z_KMC5Vi2pJE",
        "outputId": "3b0484ac-55aa-4544-9293-36e01856a75a"
      },
      "source": [
        "## but we want to predict 1 value of y using 1 value of x, lets take shape of one , one value of both\n",
        "X[0].shape,y[0].shape"
      ],
      "execution_count": null,
      "outputs": [
        {
          "output_type": "execute_result",
          "data": {
            "text/plain": [
              "(TensorShape([]), TensorShape([]))"
            ]
          },
          "metadata": {},
          "execution_count": 7
        }
      ]
    },
    {
      "cell_type": "markdown",
      "metadata": {
        "id": "bJ8vt6AV29JC"
      },
      "source": [
        "## above we cam see that there is no shape that means it is a scalar, now lets figure out how to make a model to take one input of x to predict one output of y"
      ]
    },
    {
      "cell_type": "markdown",
      "metadata": {
        "id": "f_MWUJMf3N_C"
      },
      "source": [
        "## steps of modelling in tensorflow\n",
        "\n",
        "1) **creating a model**- define input and output layers as well as the hidden layers for deep learning model.\n",
        " \n",
        "2) **compiling model** - define a ***loss function***(tells us how wrong is our model)\n",
        "and ***optimizer***(tells our model how to improve patterns)and ***evaluation matrix***(says what we can use to improve the performance of our model)\n",
        "\n",
        "3)**fitting a model** - letting the model to find patterns between ***X and y***(features and labels)"
      ]
    },
    {
      "cell_type": "code",
      "metadata": {
        "colab": {
          "base_uri": "https://localhost:8080/"
        },
        "id": "PRwrkds36kbU",
        "outputId": "564650dc-5847-4277-b2e1-9033c6bea393"
      },
      "source": [
        "## creating a model\n",
        "\n",
        "model = tf.keras.Sequential([\n",
        "                     tf.keras.layers.Dense(1)## this means taking input for one output\n",
        "])\n",
        "\n",
        "## compiling the model\n",
        "\n",
        "model.compile(loss = tf.keras.losses.mae,\n",
        "              optimizer = tf.keras.optimizers.SGD(),\n",
        "              metrics = [\"mae\"])\n",
        "\n",
        "## fitting the model\n",
        "\n",
        "model.fit(X,y,epochs=100)"
      ],
      "execution_count": null,
      "outputs": [
        {
          "output_type": "stream",
          "name": "stdout",
          "text": [
            "Epoch 1/100\n",
            "1/1 [==============================] - 3s 3s/step - loss: 14.8059 - mae: 14.8059\n",
            "Epoch 2/100\n",
            "1/1 [==============================] - 0s 7ms/step - loss: 14.6734 - mae: 14.6734\n",
            "Epoch 3/100\n",
            "1/1 [==============================] - 0s 14ms/step - loss: 14.5409 - mae: 14.5409\n",
            "Epoch 4/100\n",
            "1/1 [==============================] - 0s 14ms/step - loss: 14.4084 - mae: 14.4084\n",
            "Epoch 5/100\n",
            "1/1 [==============================] - 0s 8ms/step - loss: 14.2759 - mae: 14.2759\n",
            "Epoch 6/100\n",
            "1/1 [==============================] - 0s 6ms/step - loss: 14.1434 - mae: 14.1434\n",
            "Epoch 7/100\n",
            "1/1 [==============================] - 0s 15ms/step - loss: 14.0109 - mae: 14.0109\n",
            "Epoch 8/100\n",
            "1/1 [==============================] - 0s 8ms/step - loss: 13.8784 - mae: 13.8784\n",
            "Epoch 9/100\n",
            "1/1 [==============================] - 0s 13ms/step - loss: 13.7459 - mae: 13.7459\n",
            "Epoch 10/100\n",
            "1/1 [==============================] - 0s 5ms/step - loss: 13.6134 - mae: 13.6134\n",
            "Epoch 11/100\n",
            "1/1 [==============================] - 0s 9ms/step - loss: 13.4809 - mae: 13.4809\n",
            "Epoch 12/100\n",
            "1/1 [==============================] - 0s 11ms/step - loss: 13.3484 - mae: 13.3484\n",
            "Epoch 13/100\n",
            "1/1 [==============================] - 0s 5ms/step - loss: 13.2159 - mae: 13.2159\n",
            "Epoch 14/100\n",
            "1/1 [==============================] - 0s 10ms/step - loss: 13.0834 - mae: 13.0834\n",
            "Epoch 15/100\n",
            "1/1 [==============================] - 0s 11ms/step - loss: 12.9509 - mae: 12.9509\n",
            "Epoch 16/100\n",
            "1/1 [==============================] - 0s 9ms/step - loss: 12.8184 - mae: 12.8184\n",
            "Epoch 17/100\n",
            "1/1 [==============================] - 0s 7ms/step - loss: 12.6859 - mae: 12.6859\n",
            "Epoch 18/100\n",
            "1/1 [==============================] - 0s 11ms/step - loss: 12.5534 - mae: 12.5534\n",
            "Epoch 19/100\n",
            "1/1 [==============================] - 0s 12ms/step - loss: 12.4209 - mae: 12.4209\n",
            "Epoch 20/100\n",
            "1/1 [==============================] - 0s 12ms/step - loss: 12.2884 - mae: 12.2884\n",
            "Epoch 21/100\n",
            "1/1 [==============================] - 0s 18ms/step - loss: 12.1559 - mae: 12.1559\n",
            "Epoch 22/100\n",
            "1/1 [==============================] - 0s 8ms/step - loss: 12.0234 - mae: 12.0234\n",
            "Epoch 23/100\n",
            "1/1 [==============================] - 0s 7ms/step - loss: 11.8909 - mae: 11.8909\n",
            "Epoch 24/100\n",
            "1/1 [==============================] - 0s 12ms/step - loss: 11.7584 - mae: 11.7584\n",
            "Epoch 25/100\n",
            "1/1 [==============================] - 0s 6ms/step - loss: 11.6259 - mae: 11.6259\n",
            "Epoch 26/100\n",
            "1/1 [==============================] - 0s 5ms/step - loss: 11.4934 - mae: 11.4934\n",
            "Epoch 27/100\n",
            "1/1 [==============================] - 0s 6ms/step - loss: 11.3609 - mae: 11.3609\n",
            "Epoch 28/100\n",
            "1/1 [==============================] - 0s 7ms/step - loss: 11.2284 - mae: 11.2284\n",
            "Epoch 29/100\n",
            "1/1 [==============================] - 0s 8ms/step - loss: 11.0959 - mae: 11.0959\n",
            "Epoch 30/100\n",
            "1/1 [==============================] - 0s 7ms/step - loss: 10.9634 - mae: 10.9634\n",
            "Epoch 31/100\n",
            "1/1 [==============================] - 0s 8ms/step - loss: 10.8309 - mae: 10.8309\n",
            "Epoch 32/100\n",
            "1/1 [==============================] - 0s 6ms/step - loss: 10.6984 - mae: 10.6984\n",
            "Epoch 33/100\n",
            "1/1 [==============================] - 0s 8ms/step - loss: 10.5659 - mae: 10.5659\n",
            "Epoch 34/100\n",
            "1/1 [==============================] - 0s 8ms/step - loss: 10.4334 - mae: 10.4334\n",
            "Epoch 35/100\n",
            "1/1 [==============================] - 0s 7ms/step - loss: 10.3009 - mae: 10.3009\n",
            "Epoch 36/100\n",
            "1/1 [==============================] - 0s 7ms/step - loss: 10.1684 - mae: 10.1684\n",
            "Epoch 37/100\n",
            "1/1 [==============================] - 0s 7ms/step - loss: 10.0359 - mae: 10.0359\n",
            "Epoch 38/100\n",
            "1/1 [==============================] - 0s 8ms/step - loss: 9.9034 - mae: 9.9034\n",
            "Epoch 39/100\n",
            "1/1 [==============================] - 0s 7ms/step - loss: 9.7709 - mae: 9.7709\n",
            "Epoch 40/100\n",
            "1/1 [==============================] - 0s 8ms/step - loss: 9.6384 - mae: 9.6384\n",
            "Epoch 41/100\n",
            "1/1 [==============================] - 0s 7ms/step - loss: 9.5059 - mae: 9.5059\n",
            "Epoch 42/100\n",
            "1/1 [==============================] - 0s 6ms/step - loss: 9.3734 - mae: 9.3734\n",
            "Epoch 43/100\n",
            "1/1 [==============================] - 0s 10ms/step - loss: 9.2409 - mae: 9.2409\n",
            "Epoch 44/100\n",
            "1/1 [==============================] - 0s 7ms/step - loss: 9.1084 - mae: 9.1084\n",
            "Epoch 45/100\n",
            "1/1 [==============================] - 0s 8ms/step - loss: 8.9759 - mae: 8.9759\n",
            "Epoch 46/100\n",
            "1/1 [==============================] - 0s 9ms/step - loss: 8.8434 - mae: 8.8434\n",
            "Epoch 47/100\n",
            "1/1 [==============================] - 0s 7ms/step - loss: 8.7109 - mae: 8.7109\n",
            "Epoch 48/100\n",
            "1/1 [==============================] - 0s 11ms/step - loss: 8.5784 - mae: 8.5784\n",
            "Epoch 49/100\n",
            "1/1 [==============================] - 0s 20ms/step - loss: 8.4459 - mae: 8.4459\n",
            "Epoch 50/100\n",
            "1/1 [==============================] - 0s 11ms/step - loss: 8.3134 - mae: 8.3134\n",
            "Epoch 51/100\n",
            "1/1 [==============================] - 0s 11ms/step - loss: 8.1809 - mae: 8.1809\n",
            "Epoch 52/100\n",
            "1/1 [==============================] - 0s 9ms/step - loss: 8.0484 - mae: 8.0484\n",
            "Epoch 53/100\n",
            "1/1 [==============================] - 0s 9ms/step - loss: 7.9159 - mae: 7.9159\n",
            "Epoch 54/100\n",
            "1/1 [==============================] - 0s 11ms/step - loss: 7.7834 - mae: 7.7834\n",
            "Epoch 55/100\n",
            "1/1 [==============================] - 0s 11ms/step - loss: 7.6509 - mae: 7.6509\n",
            "Epoch 56/100\n",
            "1/1 [==============================] - 0s 13ms/step - loss: 7.5184 - mae: 7.5184\n",
            "Epoch 57/100\n",
            "1/1 [==============================] - 0s 12ms/step - loss: 7.3859 - mae: 7.3859\n",
            "Epoch 58/100\n",
            "1/1 [==============================] - 0s 16ms/step - loss: 7.2534 - mae: 7.2534\n",
            "Epoch 59/100\n",
            "1/1 [==============================] - 0s 7ms/step - loss: 7.1209 - mae: 7.1209\n",
            "Epoch 60/100\n",
            "1/1 [==============================] - 0s 8ms/step - loss: 7.0575 - mae: 7.0575\n",
            "Epoch 61/100\n",
            "1/1 [==============================] - 0s 10ms/step - loss: 7.0519 - mae: 7.0519\n",
            "Epoch 62/100\n",
            "1/1 [==============================] - 0s 10ms/step - loss: 7.0462 - mae: 7.0462\n",
            "Epoch 63/100\n",
            "1/1 [==============================] - 0s 10ms/step - loss: 7.0406 - mae: 7.0406\n",
            "Epoch 64/100\n",
            "1/1 [==============================] - 0s 13ms/step - loss: 7.0350 - mae: 7.0350\n",
            "Epoch 65/100\n",
            "1/1 [==============================] - 0s 8ms/step - loss: 7.0294 - mae: 7.0294\n",
            "Epoch 66/100\n",
            "1/1 [==============================] - 0s 8ms/step - loss: 7.0238 - mae: 7.0238\n",
            "Epoch 67/100\n",
            "1/1 [==============================] - 0s 6ms/step - loss: 7.0181 - mae: 7.0181\n",
            "Epoch 68/100\n",
            "1/1 [==============================] - 0s 6ms/step - loss: 7.0125 - mae: 7.0125\n",
            "Epoch 69/100\n",
            "1/1 [==============================] - 0s 9ms/step - loss: 7.0069 - mae: 7.0069\n",
            "Epoch 70/100\n",
            "1/1 [==============================] - 0s 8ms/step - loss: 7.0013 - mae: 7.0013\n",
            "Epoch 71/100\n",
            "1/1 [==============================] - 0s 7ms/step - loss: 6.9956 - mae: 6.9956\n",
            "Epoch 72/100\n",
            "1/1 [==============================] - 0s 8ms/step - loss: 6.9900 - mae: 6.9900\n",
            "Epoch 73/100\n",
            "1/1 [==============================] - 0s 9ms/step - loss: 6.9844 - mae: 6.9844\n",
            "Epoch 74/100\n",
            "1/1 [==============================] - 0s 10ms/step - loss: 6.9788 - mae: 6.9788\n",
            "Epoch 75/100\n",
            "1/1 [==============================] - 0s 11ms/step - loss: 6.9731 - mae: 6.9731\n",
            "Epoch 76/100\n",
            "1/1 [==============================] - 0s 7ms/step - loss: 6.9675 - mae: 6.9675\n",
            "Epoch 77/100\n",
            "1/1 [==============================] - 0s 9ms/step - loss: 6.9619 - mae: 6.9619\n",
            "Epoch 78/100\n",
            "1/1 [==============================] - 0s 8ms/step - loss: 6.9563 - mae: 6.9563\n",
            "Epoch 79/100\n",
            "1/1 [==============================] - 0s 8ms/step - loss: 6.9506 - mae: 6.9506\n",
            "Epoch 80/100\n",
            "1/1 [==============================] - 0s 9ms/step - loss: 6.9450 - mae: 6.9450\n",
            "Epoch 81/100\n",
            "1/1 [==============================] - 0s 9ms/step - loss: 6.9394 - mae: 6.9394\n",
            "Epoch 82/100\n",
            "1/1 [==============================] - 0s 10ms/step - loss: 6.9338 - mae: 6.9338\n",
            "Epoch 83/100\n",
            "1/1 [==============================] - 0s 8ms/step - loss: 6.9281 - mae: 6.9281\n",
            "Epoch 84/100\n",
            "1/1 [==============================] - 0s 7ms/step - loss: 6.9225 - mae: 6.9225\n",
            "Epoch 85/100\n",
            "1/1 [==============================] - 0s 10ms/step - loss: 6.9169 - mae: 6.9169\n",
            "Epoch 86/100\n",
            "1/1 [==============================] - 0s 10ms/step - loss: 6.9113 - mae: 6.9113\n",
            "Epoch 87/100\n",
            "1/1 [==============================] - 0s 12ms/step - loss: 6.9056 - mae: 6.9056\n",
            "Epoch 88/100\n",
            "1/1 [==============================] - 0s 9ms/step - loss: 6.9000 - mae: 6.9000\n",
            "Epoch 89/100\n",
            "1/1 [==============================] - 0s 11ms/step - loss: 6.8944 - mae: 6.8944\n",
            "Epoch 90/100\n",
            "1/1 [==============================] - 0s 23ms/step - loss: 6.8888 - mae: 6.8888\n",
            "Epoch 91/100\n",
            "1/1 [==============================] - 0s 7ms/step - loss: 6.8831 - mae: 6.8831\n",
            "Epoch 92/100\n",
            "1/1 [==============================] - 0s 16ms/step - loss: 6.8775 - mae: 6.8775\n",
            "Epoch 93/100\n",
            "1/1 [==============================] - 0s 19ms/step - loss: 6.8719 - mae: 6.8719\n",
            "Epoch 94/100\n",
            "1/1 [==============================] - 0s 18ms/step - loss: 6.8663 - mae: 6.8663\n",
            "Epoch 95/100\n",
            "1/1 [==============================] - 0s 7ms/step - loss: 6.8606 - mae: 6.8606\n",
            "Epoch 96/100\n",
            "1/1 [==============================] - 0s 11ms/step - loss: 6.8550 - mae: 6.8550\n",
            "Epoch 97/100\n",
            "1/1 [==============================] - 0s 14ms/step - loss: 6.8494 - mae: 6.8494\n",
            "Epoch 98/100\n",
            "1/1 [==============================] - 0s 23ms/step - loss: 6.8438 - mae: 6.8438\n",
            "Epoch 99/100\n",
            "1/1 [==============================] - 0s 27ms/step - loss: 6.8381 - mae: 6.8381\n",
            "Epoch 100/100\n",
            "1/1 [==============================] - 0s 10ms/step - loss: 6.8325 - mae: 6.8325\n"
          ]
        },
        {
          "output_type": "execute_result",
          "data": {
            "text/plain": [
              "<keras.callbacks.History at 0x7f65aed8d550>"
            ]
          },
          "metadata": {},
          "execution_count": 8
        }
      ]
    },
    {
      "cell_type": "code",
      "metadata": {
        "colab": {
          "base_uri": "https://localhost:8080/"
        },
        "id": "04sKK0iTKqHA",
        "outputId": "fb0c17c6-8e95-451a-99e3-2d572f0ca5e0"
      },
      "source": [
        "## make few predictions\n",
        "\n",
        "model.predict([17.0])"
      ],
      "execution_count": null,
      "outputs": [
        {
          "output_type": "execute_result",
          "data": {
            "text/plain": [
              "array([[29.659332]], dtype=float32)"
            ]
          },
          "metadata": {},
          "execution_count": 9
        }
      ]
    },
    {
      "cell_type": "markdown",
      "metadata": {
        "id": "tGahMK0SK5o-"
      },
      "source": [
        "## our model is not predicting well now lets see how to improve it\n",
        "\n",
        "**creating a model** - we can add more number of hidden layers\n",
        "\n",
        "**compiling a model** - we can change the optimizer or change the learning rate of optimizer\n",
        "\n",
        "**fitting a model** - we can alter the number of epochs\n"
      ]
    },
    {
      "cell_type": "code",
      "metadata": {
        "colab": {
          "base_uri": "https://localhost:8080/"
        },
        "id": "3_DHUNrAPKSQ",
        "outputId": "f635e53d-3511-4e94-8043-6400101fbb33"
      },
      "source": [
        "model = tf.keras.Sequential([\n",
        "                             tf.keras.layers.Dense(100,activation=\"relu\"),\n",
        "                             tf.keras.layers.Dense(100,activation=\"relu\"),\n",
        "                             tf.keras.layers.Dense(100,activation=\"relu\"),\n",
        "                             tf.keras.layers.Dense(100,activation=\"relu\"),\n",
        "                             tf.keras.layers.Dense(1)\n",
        "])\n",
        "\n",
        "model.compile(loss = tf.keras.losses.mae,\n",
        "              optimizer = tf.keras.optimizers.SGD(),\n",
        "              metrics=[\"mae\"])\n",
        "\n",
        "model.fit(X,y,epochs=100)\n",
        "\n"
      ],
      "execution_count": null,
      "outputs": [
        {
          "output_type": "stream",
          "name": "stdout",
          "text": [
            "Epoch 1/100\n",
            "1/1 [==============================] - 0s 471ms/step - loss: 13.4041 - mae: 13.4041\n",
            "Epoch 2/100\n",
            "1/1 [==============================] - 0s 9ms/step - loss: 13.0578 - mae: 13.0578\n",
            "Epoch 3/100\n",
            "1/1 [==============================] - 0s 7ms/step - loss: 12.7501 - mae: 12.7501\n",
            "Epoch 4/100\n",
            "1/1 [==============================] - 0s 7ms/step - loss: 12.4391 - mae: 12.4391\n",
            "Epoch 5/100\n",
            "1/1 [==============================] - 0s 8ms/step - loss: 12.0993 - mae: 12.0993\n",
            "Epoch 6/100\n",
            "1/1 [==============================] - 0s 12ms/step - loss: 11.6913 - mae: 11.6913\n",
            "Epoch 7/100\n",
            "1/1 [==============================] - 0s 8ms/step - loss: 11.2001 - mae: 11.2001\n",
            "Epoch 8/100\n",
            "1/1 [==============================] - 0s 12ms/step - loss: 10.5672 - mae: 10.5672\n",
            "Epoch 9/100\n",
            "1/1 [==============================] - 0s 6ms/step - loss: 9.7178 - mae: 9.7178\n",
            "Epoch 10/100\n",
            "1/1 [==============================] - 0s 6ms/step - loss: 8.5624 - mae: 8.5624\n",
            "Epoch 11/100\n",
            "1/1 [==============================] - 0s 15ms/step - loss: 6.8802 - mae: 6.8802\n",
            "Epoch 12/100\n",
            "1/1 [==============================] - 0s 14ms/step - loss: 4.2222 - mae: 4.2222\n",
            "Epoch 13/100\n",
            "1/1 [==============================] - 0s 10ms/step - loss: 5.2396 - mae: 5.2396\n",
            "Epoch 14/100\n",
            "1/1 [==============================] - 0s 12ms/step - loss: 3.9489 - mae: 3.9489\n",
            "Epoch 15/100\n",
            "1/1 [==============================] - 0s 12ms/step - loss: 3.9853 - mae: 3.9853\n",
            "Epoch 16/100\n",
            "1/1 [==============================] - 0s 11ms/step - loss: 3.8863 - mae: 3.8863\n",
            "Epoch 17/100\n",
            "1/1 [==============================] - 0s 14ms/step - loss: 3.9964 - mae: 3.9964\n",
            "Epoch 18/100\n",
            "1/1 [==============================] - 0s 8ms/step - loss: 3.8200 - mae: 3.8200\n",
            "Epoch 19/100\n",
            "1/1 [==============================] - 0s 8ms/step - loss: 4.0091 - mae: 4.0091\n",
            "Epoch 20/100\n",
            "1/1 [==============================] - 0s 8ms/step - loss: 3.7514 - mae: 3.7514\n",
            "Epoch 21/100\n",
            "1/1 [==============================] - 0s 8ms/step - loss: 4.0259 - mae: 4.0259\n",
            "Epoch 22/100\n",
            "1/1 [==============================] - 0s 8ms/step - loss: 3.7449 - mae: 3.7449\n",
            "Epoch 23/100\n",
            "1/1 [==============================] - 0s 15ms/step - loss: 3.9224 - mae: 3.9224\n",
            "Epoch 24/100\n",
            "1/1 [==============================] - 0s 11ms/step - loss: 3.8126 - mae: 3.8126\n",
            "Epoch 25/100\n",
            "1/1 [==============================] - 0s 16ms/step - loss: 3.8514 - mae: 3.8514\n",
            "Epoch 26/100\n",
            "1/1 [==============================] - 0s 7ms/step - loss: 3.8299 - mae: 3.8299\n",
            "Epoch 27/100\n",
            "1/1 [==============================] - 0s 6ms/step - loss: 3.7758 - mae: 3.7758\n",
            "Epoch 28/100\n",
            "1/1 [==============================] - 0s 12ms/step - loss: 3.8499 - mae: 3.8499\n",
            "Epoch 29/100\n",
            "1/1 [==============================] - 0s 8ms/step - loss: 3.6967 - mae: 3.6967\n",
            "Epoch 30/100\n",
            "1/1 [==============================] - 0s 15ms/step - loss: 3.8732 - mae: 3.8732\n",
            "Epoch 31/100\n",
            "1/1 [==============================] - 0s 7ms/step - loss: 3.6134 - mae: 3.6134\n",
            "Epoch 32/100\n",
            "1/1 [==============================] - 0s 8ms/step - loss: 3.8997 - mae: 3.8997\n",
            "Epoch 33/100\n",
            "1/1 [==============================] - 0s 8ms/step - loss: 3.6288 - mae: 3.6288\n",
            "Epoch 34/100\n",
            "1/1 [==============================] - 0s 8ms/step - loss: 3.7687 - mae: 3.7687\n",
            "Epoch 35/100\n",
            "1/1 [==============================] - 0s 8ms/step - loss: 3.7057 - mae: 3.7057\n",
            "Epoch 36/100\n",
            "1/1 [==============================] - 0s 9ms/step - loss: 3.6836 - mae: 3.6836\n",
            "Epoch 37/100\n",
            "1/1 [==============================] - 0s 9ms/step - loss: 3.7324 - mae: 3.7324\n",
            "Epoch 38/100\n",
            "1/1 [==============================] - 0s 16ms/step - loss: 3.5944 - mae: 3.5944\n",
            "Epoch 39/100\n",
            "1/1 [==============================] - 0s 8ms/step - loss: 3.7634 - mae: 3.7634\n",
            "Epoch 40/100\n",
            "1/1 [==============================] - 0s 10ms/step - loss: 3.4996 - mae: 3.4996\n",
            "Epoch 41/100\n",
            "1/1 [==============================] - 0s 8ms/step - loss: 3.7973 - mae: 3.7973\n",
            "Epoch 42/100\n",
            "1/1 [==============================] - 0s 9ms/step - loss: 3.5252 - mae: 3.5252\n",
            "Epoch 43/100\n",
            "1/1 [==============================] - 0s 10ms/step - loss: 3.7147 - mae: 3.7147\n",
            "Epoch 44/100\n",
            "1/1 [==============================] - 0s 14ms/step - loss: 3.6098 - mae: 3.6098\n",
            "Epoch 45/100\n",
            "1/1 [==============================] - 0s 8ms/step - loss: 3.5476 - mae: 3.5476\n",
            "Epoch 46/100\n",
            "1/1 [==============================] - 0s 9ms/step - loss: 3.6439 - mae: 3.6439\n",
            "Epoch 47/100\n",
            "1/1 [==============================] - 0s 8ms/step - loss: 3.4437 - mae: 3.4437\n",
            "Epoch 48/100\n",
            "1/1 [==============================] - 0s 7ms/step - loss: 3.6827 - mae: 3.6827\n",
            "Epoch 49/100\n",
            "1/1 [==============================] - 0s 8ms/step - loss: 3.4208 - mae: 3.4208\n",
            "Epoch 50/100\n",
            "1/1 [==============================] - 0s 7ms/step - loss: 3.6138 - mae: 3.6138\n",
            "Epoch 51/100\n",
            "1/1 [==============================] - 0s 6ms/step - loss: 3.4626 - mae: 3.4626\n",
            "Epoch 52/100\n",
            "1/1 [==============================] - 0s 8ms/step - loss: 3.5036 - mae: 3.5036\n",
            "Epoch 53/100\n",
            "1/1 [==============================] - 0s 9ms/step - loss: 3.5040 - mae: 3.5040\n",
            "Epoch 54/100\n",
            "1/1 [==============================] - 0s 8ms/step - loss: 3.3899 - mae: 3.3899\n",
            "Epoch 55/100\n",
            "1/1 [==============================] - 0s 8ms/step - loss: 3.5480 - mae: 3.5480\n",
            "Epoch 56/100\n",
            "1/1 [==============================] - 0s 9ms/step - loss: 3.3008 - mae: 3.3008\n",
            "Epoch 57/100\n",
            "1/1 [==============================] - 0s 11ms/step - loss: 3.5834 - mae: 3.5834\n",
            "Epoch 58/100\n",
            "1/1 [==============================] - 0s 11ms/step - loss: 4.9681 - mae: 4.9681\n",
            "Epoch 59/100\n",
            "1/1 [==============================] - 0s 12ms/step - loss: 3.2825 - mae: 3.2825\n",
            "Epoch 60/100\n",
            "1/1 [==============================] - 0s 17ms/step - loss: 3.5349 - mae: 3.5349\n",
            "Epoch 61/100\n",
            "1/1 [==============================] - 0s 11ms/step - loss: 3.2835 - mae: 3.2835\n",
            "Epoch 62/100\n",
            "1/1 [==============================] - 0s 10ms/step - loss: 3.4279 - mae: 3.4279\n",
            "Epoch 63/100\n",
            "1/1 [==============================] - 0s 14ms/step - loss: 3.3259 - mae: 3.3259\n",
            "Epoch 64/100\n",
            "1/1 [==============================] - 0s 9ms/step - loss: 3.3013 - mae: 3.3013\n",
            "Epoch 65/100\n",
            "1/1 [==============================] - 0s 9ms/step - loss: 3.3726 - mae: 3.3726\n",
            "Epoch 66/100\n",
            "1/1 [==============================] - 0s 10ms/step - loss: 3.1671 - mae: 3.1671\n",
            "Epoch 67/100\n",
            "1/1 [==============================] - 0s 9ms/step - loss: 3.4293 - mae: 3.4293\n",
            "Epoch 68/100\n",
            "1/1 [==============================] - 0s 10ms/step - loss: 4.0945 - mae: 4.0945\n",
            "Epoch 69/100\n",
            "1/1 [==============================] - 0s 12ms/step - loss: 4.1369 - mae: 4.1369\n",
            "Epoch 70/100\n",
            "1/1 [==============================] - 0s 15ms/step - loss: 3.3278 - mae: 3.3278\n",
            "Epoch 71/100\n",
            "1/1 [==============================] - 0s 11ms/step - loss: 3.2044 - mae: 3.2044\n",
            "Epoch 72/100\n",
            "1/1 [==============================] - 0s 11ms/step - loss: 3.1884 - mae: 3.1884\n",
            "Epoch 73/100\n",
            "1/1 [==============================] - 0s 11ms/step - loss: 3.2593 - mae: 3.2593\n",
            "Epoch 74/100\n",
            "1/1 [==============================] - 0s 12ms/step - loss: 3.0373 - mae: 3.0373\n",
            "Epoch 75/100\n",
            "1/1 [==============================] - 0s 13ms/step - loss: 3.3732 - mae: 3.3732\n",
            "Epoch 76/100\n",
            "1/1 [==============================] - 0s 13ms/step - loss: 3.8934 - mae: 3.8934\n",
            "Epoch 77/100\n",
            "1/1 [==============================] - 0s 9ms/step - loss: 4.1016 - mae: 4.1016\n",
            "Epoch 78/100\n",
            "1/1 [==============================] - 0s 11ms/step - loss: 3.1810 - mae: 3.1810\n",
            "Epoch 79/100\n",
            "1/1 [==============================] - 0s 9ms/step - loss: 3.1048 - mae: 3.1048\n",
            "Epoch 80/100\n",
            "1/1 [==============================] - 0s 11ms/step - loss: 3.0240 - mae: 3.0240\n",
            "Epoch 81/100\n",
            "1/1 [==============================] - 0s 11ms/step - loss: 3.1617 - mae: 3.1617\n",
            "Epoch 82/100\n",
            "1/1 [==============================] - 0s 12ms/step - loss: 2.9375 - mae: 2.9375\n",
            "Epoch 83/100\n",
            "1/1 [==============================] - 0s 12ms/step - loss: 3.1148 - mae: 3.1148\n",
            "Epoch 84/100\n",
            "1/1 [==============================] - 0s 22ms/step - loss: 2.9919 - mae: 2.9919\n",
            "Epoch 85/100\n",
            "1/1 [==============================] - 0s 12ms/step - loss: 2.9485 - mae: 2.9485\n",
            "Epoch 86/100\n",
            "1/1 [==============================] - 0s 9ms/step - loss: 3.0537 - mae: 3.0537\n",
            "Epoch 87/100\n",
            "1/1 [==============================] - 0s 11ms/step - loss: 2.8336 - mae: 2.8336\n",
            "Epoch 88/100\n",
            "1/1 [==============================] - 0s 7ms/step - loss: 3.0320 - mae: 3.0320\n",
            "Epoch 89/100\n",
            "1/1 [==============================] - 0s 8ms/step - loss: 4.5757 - mae: 4.5757\n",
            "Epoch 90/100\n",
            "1/1 [==============================] - 0s 9ms/step - loss: 3.5870 - mae: 3.5870\n",
            "Epoch 91/100\n",
            "1/1 [==============================] - 0s 10ms/step - loss: 3.8989 - mae: 3.8989\n",
            "Epoch 92/100\n",
            "1/1 [==============================] - 0s 12ms/step - loss: 2.9112 - mae: 2.9112\n",
            "Epoch 93/100\n",
            "1/1 [==============================] - 0s 12ms/step - loss: 2.8709 - mae: 2.8709\n",
            "Epoch 94/100\n",
            "1/1 [==============================] - 0s 12ms/step - loss: 2.7218 - mae: 2.7218\n",
            "Epoch 95/100\n",
            "1/1 [==============================] - 0s 13ms/step - loss: 3.0375 - mae: 3.0375\n",
            "Epoch 96/100\n",
            "1/1 [==============================] - 0s 8ms/step - loss: 3.6058 - mae: 3.6058\n",
            "Epoch 97/100\n",
            "1/1 [==============================] - 0s 11ms/step - loss: 3.8193 - mae: 3.8193\n",
            "Epoch 98/100\n",
            "1/1 [==============================] - 0s 12ms/step - loss: 2.7998 - mae: 2.7998\n",
            "Epoch 99/100\n",
            "1/1 [==============================] - 0s 11ms/step - loss: 2.7627 - mae: 2.7627\n",
            "Epoch 100/100\n",
            "1/1 [==============================] - 0s 10ms/step - loss: 2.5924 - mae: 2.5924\n"
          ]
        },
        {
          "output_type": "execute_result",
          "data": {
            "text/plain": [
              "<keras.callbacks.History at 0x7f65aece3b10>"
            ]
          },
          "metadata": {},
          "execution_count": 10
        }
      ]
    },
    {
      "cell_type": "code",
      "metadata": {
        "colab": {
          "base_uri": "https://localhost:8080/"
        },
        "id": "TtW95FbCSB_g",
        "outputId": "d8df1a61-a569-4548-9d46-2024bc4beae1"
      },
      "source": [
        "model.predict([17.0])"
      ],
      "execution_count": null,
      "outputs": [
        {
          "output_type": "execute_result",
          "data": {
            "text/plain": [
              "array([[34.866962]], dtype=float32)"
            ]
          },
          "metadata": {},
          "execution_count": 11
        }
      ]
    },
    {
      "cell_type": "code",
      "metadata": {
        "colab": {
          "base_uri": "https://localhost:8080/"
        },
        "id": "53HfJuNNSGou",
        "outputId": "1128dff5-2bd7-40c2-9b6f-fc7b4b884b63"
      },
      "source": [
        "model = tf.keras.Sequential([\n",
        "                             tf.keras.layers.Dense(100,activation=None),\n",
        "                             \n",
        "                             \n",
        "                             \n",
        "                             tf.keras.layers.Dense(1)\n",
        "])\n",
        "\n",
        "model.compile(loss = tf.keras.losses.mae,\n",
        "              optimizer = tf.keras.optimizers.Adam(learning_rate=0.01),\n",
        "              metrics=[\"mae\"])\n",
        "\n",
        "model.fit(X,y,epochs=100)\n",
        "\n"
      ],
      "execution_count": null,
      "outputs": [
        {
          "output_type": "stream",
          "name": "stdout",
          "text": [
            "Epoch 1/100\n",
            "1/1 [==============================] - 0s 405ms/step - loss: 14.5422 - mae: 14.5422\n",
            "Epoch 2/100\n",
            "1/1 [==============================] - 0s 13ms/step - loss: 13.5371 - mae: 13.5371\n",
            "Epoch 3/100\n",
            "1/1 [==============================] - 0s 14ms/step - loss: 12.5297 - mae: 12.5297\n",
            "Epoch 4/100\n",
            "1/1 [==============================] - 0s 17ms/step - loss: 11.5148 - mae: 11.5148\n",
            "Epoch 5/100\n",
            "1/1 [==============================] - 0s 8ms/step - loss: 10.4874 - mae: 10.4874\n",
            "Epoch 6/100\n",
            "1/1 [==============================] - 0s 7ms/step - loss: 9.4420 - mae: 9.4420\n",
            "Epoch 7/100\n",
            "1/1 [==============================] - 0s 11ms/step - loss: 8.3727 - mae: 8.3727\n",
            "Epoch 8/100\n",
            "1/1 [==============================] - 0s 6ms/step - loss: 7.2741 - mae: 7.2741\n",
            "Epoch 9/100\n",
            "1/1 [==============================] - 0s 12ms/step - loss: 6.5834 - mae: 6.5834\n",
            "Epoch 10/100\n",
            "1/1 [==============================] - 0s 9ms/step - loss: 7.0602 - mae: 7.0602\n",
            "Epoch 11/100\n",
            "1/1 [==============================] - 0s 14ms/step - loss: 7.6983 - mae: 7.6983\n",
            "Epoch 12/100\n",
            "1/1 [==============================] - 0s 8ms/step - loss: 7.9850 - mae: 7.9850\n",
            "Epoch 13/100\n",
            "1/1 [==============================] - 0s 6ms/step - loss: 7.9279 - mae: 7.9279\n",
            "Epoch 14/100\n",
            "1/1 [==============================] - 0s 8ms/step - loss: 7.6248 - mae: 7.6248\n",
            "Epoch 15/100\n",
            "1/1 [==============================] - 0s 8ms/step - loss: 7.1442 - mae: 7.1442\n",
            "Epoch 16/100\n",
            "1/1 [==============================] - 0s 7ms/step - loss: 6.5865 - mae: 6.5865\n",
            "Epoch 17/100\n",
            "1/1 [==============================] - 0s 8ms/step - loss: 6.1927 - mae: 6.1927\n",
            "Epoch 18/100\n",
            "1/1 [==============================] - 0s 19ms/step - loss: 5.8159 - mae: 5.8159\n",
            "Epoch 19/100\n",
            "1/1 [==============================] - 0s 7ms/step - loss: 5.7594 - mae: 5.7594\n",
            "Epoch 20/100\n",
            "1/1 [==============================] - 0s 7ms/step - loss: 5.9292 - mae: 5.9292\n",
            "Epoch 21/100\n",
            "1/1 [==============================] - 0s 13ms/step - loss: 6.0274 - mae: 6.0274\n",
            "Epoch 22/100\n",
            "1/1 [==============================] - 0s 15ms/step - loss: 5.9792 - mae: 5.9792\n",
            "Epoch 23/100\n",
            "1/1 [==============================] - 0s 9ms/step - loss: 5.8034 - mae: 5.8034\n",
            "Epoch 24/100\n",
            "1/1 [==============================] - 0s 10ms/step - loss: 5.5130 - mae: 5.5130\n",
            "Epoch 25/100\n",
            "1/1 [==============================] - 0s 7ms/step - loss: 5.1166 - mae: 5.1166\n",
            "Epoch 26/100\n",
            "1/1 [==============================] - 0s 8ms/step - loss: 4.9330 - mae: 4.9330\n",
            "Epoch 27/100\n",
            "1/1 [==============================] - 0s 7ms/step - loss: 4.9133 - mae: 4.9133\n",
            "Epoch 28/100\n",
            "1/1 [==============================] - 0s 7ms/step - loss: 4.9331 - mae: 4.9331\n",
            "Epoch 29/100\n",
            "1/1 [==============================] - 0s 6ms/step - loss: 4.8898 - mae: 4.8898\n",
            "Epoch 30/100\n",
            "1/1 [==============================] - 0s 17ms/step - loss: 4.7871 - mae: 4.7871\n",
            "Epoch 31/100\n",
            "1/1 [==============================] - 0s 10ms/step - loss: 4.6344 - mae: 4.6344\n",
            "Epoch 32/100\n",
            "1/1 [==============================] - 0s 6ms/step - loss: 4.3832 - mae: 4.3832\n",
            "Epoch 33/100\n",
            "1/1 [==============================] - 0s 7ms/step - loss: 4.0945 - mae: 4.0945\n",
            "Epoch 34/100\n",
            "1/1 [==============================] - 0s 9ms/step - loss: 3.7657 - mae: 3.7657\n",
            "Epoch 35/100\n",
            "1/1 [==============================] - 0s 9ms/step - loss: 3.5677 - mae: 3.5677\n",
            "Epoch 36/100\n",
            "1/1 [==============================] - 0s 13ms/step - loss: 3.5753 - mae: 3.5753\n",
            "Epoch 37/100\n",
            "1/1 [==============================] - 0s 20ms/step - loss: 3.5061 - mae: 3.5061\n",
            "Epoch 38/100\n",
            "1/1 [==============================] - 0s 13ms/step - loss: 3.2663 - mae: 3.2663\n",
            "Epoch 39/100\n",
            "1/1 [==============================] - 0s 11ms/step - loss: 2.8668 - mae: 2.8668\n",
            "Epoch 40/100\n",
            "1/1 [==============================] - 0s 9ms/step - loss: 2.5025 - mae: 2.5025\n",
            "Epoch 41/100\n",
            "1/1 [==============================] - 0s 21ms/step - loss: 2.4243 - mae: 2.4243\n",
            "Epoch 42/100\n",
            "1/1 [==============================] - 0s 12ms/step - loss: 2.3890 - mae: 2.3890\n",
            "Epoch 43/100\n",
            "1/1 [==============================] - 0s 14ms/step - loss: 2.1730 - mae: 2.1730\n",
            "Epoch 44/100\n",
            "1/1 [==============================] - 0s 15ms/step - loss: 1.7474 - mae: 1.7474\n",
            "Epoch 45/100\n",
            "1/1 [==============================] - 0s 15ms/step - loss: 1.2128 - mae: 1.2128\n",
            "Epoch 46/100\n",
            "1/1 [==============================] - 0s 9ms/step - loss: 1.1677 - mae: 1.1677\n",
            "Epoch 47/100\n",
            "1/1 [==============================] - 0s 17ms/step - loss: 1.0769 - mae: 1.0769\n",
            "Epoch 48/100\n",
            "1/1 [==============================] - 0s 12ms/step - loss: 0.8293 - mae: 0.8293\n",
            "Epoch 49/100\n",
            "1/1 [==============================] - 0s 9ms/step - loss: 0.4470 - mae: 0.4470\n",
            "Epoch 50/100\n",
            "1/1 [==============================] - 0s 11ms/step - loss: 0.5869 - mae: 0.5869\n",
            "Epoch 51/100\n",
            "1/1 [==============================] - 0s 10ms/step - loss: 1.0606 - mae: 1.0606\n",
            "Epoch 52/100\n",
            "1/1 [==============================] - 0s 13ms/step - loss: 1.2372 - mae: 1.2372\n",
            "Epoch 53/100\n",
            "1/1 [==============================] - 0s 7ms/step - loss: 1.1478 - mae: 1.1478\n",
            "Epoch 54/100\n",
            "1/1 [==============================] - 0s 11ms/step - loss: 0.8268 - mae: 0.8268\n",
            "Epoch 55/100\n",
            "1/1 [==============================] - 0s 9ms/step - loss: 0.9414 - mae: 0.9414\n",
            "Epoch 56/100\n",
            "1/1 [==============================] - 0s 17ms/step - loss: 1.1792 - mae: 1.1792\n",
            "Epoch 57/100\n",
            "1/1 [==============================] - 0s 15ms/step - loss: 1.0420 - mae: 1.0420\n",
            "Epoch 58/100\n",
            "1/1 [==============================] - 0s 8ms/step - loss: 0.5803 - mae: 0.5803\n",
            "Epoch 59/100\n",
            "1/1 [==============================] - 0s 14ms/step - loss: 0.4491 - mae: 0.4491\n",
            "Epoch 60/100\n",
            "1/1 [==============================] - 0s 8ms/step - loss: 0.7139 - mae: 0.7139\n",
            "Epoch 61/100\n",
            "1/1 [==============================] - 0s 14ms/step - loss: 0.6972 - mae: 0.6972\n",
            "Epoch 62/100\n",
            "1/1 [==============================] - 0s 10ms/step - loss: 0.3680 - mae: 0.3680\n",
            "Epoch 63/100\n",
            "1/1 [==============================] - 0s 12ms/step - loss: 0.5423 - mae: 0.5423\n",
            "Epoch 64/100\n",
            "1/1 [==============================] - 0s 6ms/step - loss: 0.8142 - mae: 0.8142\n",
            "Epoch 65/100\n",
            "1/1 [==============================] - 0s 9ms/step - loss: 0.8993 - mae: 0.8993\n",
            "Epoch 66/100\n",
            "1/1 [==============================] - 0s 11ms/step - loss: 0.7226 - mae: 0.7226\n",
            "Epoch 67/100\n",
            "1/1 [==============================] - 0s 8ms/step - loss: 0.4042 - mae: 0.4042\n",
            "Epoch 68/100\n",
            "1/1 [==============================] - 0s 8ms/step - loss: 0.3849 - mae: 0.3849\n",
            "Epoch 69/100\n",
            "1/1 [==============================] - 0s 11ms/step - loss: 0.5659 - mae: 0.5659\n",
            "Epoch 70/100\n",
            "1/1 [==============================] - 0s 12ms/step - loss: 0.4155 - mae: 0.4155\n",
            "Epoch 71/100\n",
            "1/1 [==============================] - 0s 10ms/step - loss: 0.1684 - mae: 0.1684\n",
            "Epoch 72/100\n",
            "1/1 [==============================] - 0s 21ms/step - loss: 0.4347 - mae: 0.4347\n",
            "Epoch 73/100\n",
            "1/1 [==============================] - 0s 15ms/step - loss: 0.4201 - mae: 0.4201\n",
            "Epoch 74/100\n",
            "1/1 [==============================] - 0s 20ms/step - loss: 0.2140 - mae: 0.2140\n",
            "Epoch 75/100\n",
            "1/1 [==============================] - 0s 16ms/step - loss: 0.3220 - mae: 0.3220\n",
            "Epoch 76/100\n",
            "1/1 [==============================] - 0s 7ms/step - loss: 0.2566 - mae: 0.2566\n",
            "Epoch 77/100\n",
            "1/1 [==============================] - 0s 9ms/step - loss: 0.0513 - mae: 0.0513\n",
            "Epoch 78/100\n",
            "1/1 [==============================] - 0s 13ms/step - loss: 0.1270 - mae: 0.1270\n",
            "Epoch 79/100\n",
            "1/1 [==============================] - 0s 9ms/step - loss: 0.1402 - mae: 0.1402\n",
            "Epoch 80/100\n",
            "1/1 [==============================] - 0s 21ms/step - loss: 0.0796 - mae: 0.0796\n",
            "Epoch 81/100\n",
            "1/1 [==============================] - 0s 13ms/step - loss: 0.0750 - mae: 0.0750\n",
            "Epoch 82/100\n",
            "1/1 [==============================] - 0s 9ms/step - loss: 0.1722 - mae: 0.1722\n",
            "Epoch 83/100\n",
            "1/1 [==============================] - 0s 7ms/step - loss: 0.1130 - mae: 0.1130\n",
            "Epoch 84/100\n",
            "1/1 [==============================] - 0s 9ms/step - loss: 0.2845 - mae: 0.2845\n",
            "Epoch 85/100\n",
            "1/1 [==============================] - 0s 7ms/step - loss: 0.2750 - mae: 0.2750\n",
            "Epoch 86/100\n",
            "1/1 [==============================] - 0s 10ms/step - loss: 0.0668 - mae: 0.0668\n",
            "Epoch 87/100\n",
            "1/1 [==============================] - 0s 7ms/step - loss: 0.1683 - mae: 0.1683\n",
            "Epoch 88/100\n",
            "1/1 [==============================] - 0s 11ms/step - loss: 0.0624 - mae: 0.0624\n",
            "Epoch 89/100\n",
            "1/1 [==============================] - 0s 6ms/step - loss: 0.2138 - mae: 0.2138\n",
            "Epoch 90/100\n",
            "1/1 [==============================] - 0s 12ms/step - loss: 0.1184 - mae: 0.1184\n",
            "Epoch 91/100\n",
            "1/1 [==============================] - 0s 7ms/step - loss: 0.2650 - mae: 0.2650\n",
            "Epoch 92/100\n",
            "1/1 [==============================] - 0s 7ms/step - loss: 0.2847 - mae: 0.2847\n",
            "Epoch 93/100\n",
            "1/1 [==============================] - 0s 11ms/step - loss: 0.0210 - mae: 0.0210\n",
            "Epoch 94/100\n",
            "1/1 [==============================] - 0s 8ms/step - loss: 0.3427 - mae: 0.3427\n",
            "Epoch 95/100\n",
            "1/1 [==============================] - 0s 9ms/step - loss: 0.3605 - mae: 0.3605\n",
            "Epoch 96/100\n",
            "1/1 [==============================] - 0s 22ms/step - loss: 0.0791 - mae: 0.0791\n",
            "Epoch 97/100\n",
            "1/1 [==============================] - 0s 14ms/step - loss: 0.4640 - mae: 0.4640\n",
            "Epoch 98/100\n",
            "1/1 [==============================] - 0s 12ms/step - loss: 0.6597 - mae: 0.6597\n",
            "Epoch 99/100\n",
            "1/1 [==============================] - 0s 14ms/step - loss: 0.5516 - mae: 0.5516\n",
            "Epoch 100/100\n",
            "1/1 [==============================] - 0s 11ms/step - loss: 0.1737 - mae: 0.1737\n"
          ]
        },
        {
          "output_type": "execute_result",
          "data": {
            "text/plain": [
              "<keras.callbacks.History at 0x7f65aeb7ff10>"
            ]
          },
          "metadata": {},
          "execution_count": 12
        }
      ]
    },
    {
      "cell_type": "code",
      "metadata": {
        "colab": {
          "base_uri": "https://localhost:8080/"
        },
        "id": "wGoBo9Kynjq0",
        "outputId": "a9c28eae-c60d-4231-9c07-b20cc6a694d8"
      },
      "source": [
        "model.predict([20.0])"
      ],
      "execution_count": null,
      "outputs": [
        {
          "output_type": "execute_result",
          "data": {
            "text/plain": [
              "array([[31.406347]], dtype=float32)"
            ]
          },
          "metadata": {},
          "execution_count": 13
        }
      ]
    },
    {
      "cell_type": "markdown",
      "metadata": {
        "id": "IJXv_rsynn3y"
      },
      "source": [
        "## evaluating\n",
        "\n",
        "remember 3 words , visualize,visualize,visualize\n",
        "\n",
        "1) do it on data\n",
        "2) do it on training\n",
        "3) on predictions"
      ]
    },
    {
      "cell_type": "code",
      "metadata": {
        "colab": {
          "base_uri": "https://localhost:8080/"
        },
        "id": "wUMImWl2sPdC",
        "outputId": "680c3208-4d3c-41b3-a44e-ef2d452a1b11"
      },
      "source": [
        "## lets try predicting some bigger data\n",
        "\n",
        "X = tf.range(-100,100,4)\n",
        "X"
      ],
      "execution_count": null,
      "outputs": [
        {
          "output_type": "execute_result",
          "data": {
            "text/plain": [
              "<tf.Tensor: shape=(50,), dtype=int32, numpy=\n",
              "array([-100,  -96,  -92,  -88,  -84,  -80,  -76,  -72,  -68,  -64,  -60,\n",
              "        -56,  -52,  -48,  -44,  -40,  -36,  -32,  -28,  -24,  -20,  -16,\n",
              "        -12,   -8,   -4,    0,    4,    8,   12,   16,   20,   24,   28,\n",
              "         32,   36,   40,   44,   48,   52,   56,   60,   64,   68,   72,\n",
              "         76,   80,   84,   88,   92,   96], dtype=int32)>"
            ]
          },
          "metadata": {},
          "execution_count": 14
        }
      ]
    },
    {
      "cell_type": "code",
      "metadata": {
        "id": "mC5_fMKjsYEA"
      },
      "source": [
        "## labels\n",
        "y = X+10"
      ],
      "execution_count": null,
      "outputs": []
    },
    {
      "cell_type": "code",
      "metadata": {
        "id": "_ydhsarNtj5y"
      },
      "source": [
        "## splitting data\n",
        "\n",
        "x_train = X[:40]\n",
        "x_test = X[40:]\n",
        "\n",
        "y_train = y[:40]\n",
        "y_test = y[40:]"
      ],
      "execution_count": null,
      "outputs": []
    },
    {
      "cell_type": "code",
      "metadata": {
        "colab": {
          "base_uri": "https://localhost:8080/"
        },
        "id": "nCKKsGrzvSlH",
        "outputId": "235dc926-ba3f-4ee6-cedd-5766587c0e28"
      },
      "source": [
        "## fitting\n",
        "\n",
        "model.fit(x_train,y_train,epochs=100)"
      ],
      "execution_count": null,
      "outputs": [
        {
          "output_type": "stream",
          "name": "stdout",
          "text": [
            "Epoch 1/100\n",
            "2/2 [==============================] - 0s 8ms/step - loss: 2.9819 - mae: 2.9819\n",
            "Epoch 2/100\n",
            "2/2 [==============================] - 0s 8ms/step - loss: 3.2113 - mae: 3.2113\n",
            "Epoch 3/100\n",
            "2/2 [==============================] - 0s 9ms/step - loss: 3.2786 - mae: 3.2786\n",
            "Epoch 4/100\n",
            "2/2 [==============================] - 0s 9ms/step - loss: 1.6916 - mae: 1.6916\n",
            "Epoch 5/100\n",
            "2/2 [==============================] - 0s 8ms/step - loss: 5.2274 - mae: 5.2274\n",
            "Epoch 6/100\n",
            "2/2 [==============================] - 0s 8ms/step - loss: 2.8228 - mae: 2.8228\n",
            "Epoch 7/100\n",
            "2/2 [==============================] - 0s 10ms/step - loss: 2.6676 - mae: 2.6676\n",
            "Epoch 8/100\n",
            "2/2 [==============================] - 0s 8ms/step - loss: 4.6925 - mae: 4.6925\n",
            "Epoch 9/100\n",
            "2/2 [==============================] - 0s 8ms/step - loss: 2.5502 - mae: 2.5502\n",
            "Epoch 10/100\n",
            "2/2 [==============================] - 0s 10ms/step - loss: 4.7821 - mae: 4.7821\n",
            "Epoch 11/100\n",
            "2/2 [==============================] - 0s 11ms/step - loss: 1.1430 - mae: 1.1430\n",
            "Epoch 12/100\n",
            "2/2 [==============================] - 0s 9ms/step - loss: 6.6404 - mae: 6.6404\n",
            "Epoch 13/100\n",
            "2/2 [==============================] - 0s 8ms/step - loss: 2.6990 - mae: 2.6990\n",
            "Epoch 14/100\n",
            "2/2 [==============================] - 0s 9ms/step - loss: 5.2641 - mae: 5.2641\n",
            "Epoch 15/100\n",
            "2/2 [==============================] - 0s 10ms/step - loss: 2.3013 - mae: 2.3013\n",
            "Epoch 16/100\n",
            "2/2 [==============================] - 0s 9ms/step - loss: 3.8866 - mae: 3.8866\n",
            "Epoch 17/100\n",
            "2/2 [==============================] - 0s 9ms/step - loss: 1.0104 - mae: 1.0104\n",
            "Epoch 18/100\n",
            "2/2 [==============================] - 0s 10ms/step - loss: 4.2302 - mae: 4.2302\n",
            "Epoch 19/100\n",
            "2/2 [==============================] - 0s 21ms/step - loss: 0.6481 - mae: 0.6481\n",
            "Epoch 20/100\n",
            "2/2 [==============================] - 0s 10ms/step - loss: 0.9858 - mae: 0.9858\n",
            "Epoch 21/100\n",
            "2/2 [==============================] - 0s 8ms/step - loss: 1.9786 - mae: 1.9786\n",
            "Epoch 22/100\n",
            "2/2 [==============================] - 0s 12ms/step - loss: 3.6819 - mae: 3.6819\n",
            "Epoch 23/100\n",
            "2/2 [==============================] - 0s 10ms/step - loss: 3.3170 - mae: 3.3170\n",
            "Epoch 24/100\n",
            "2/2 [==============================] - 0s 13ms/step - loss: 3.6212 - mae: 3.6212\n",
            "Epoch 25/100\n",
            "2/2 [==============================] - 0s 10ms/step - loss: 4.3558 - mae: 4.3558\n",
            "Epoch 26/100\n",
            "2/2 [==============================] - 0s 8ms/step - loss: 1.4684 - mae: 1.4684\n",
            "Epoch 27/100\n",
            "2/2 [==============================] - 0s 10ms/step - loss: 2.2458 - mae: 2.2458\n",
            "Epoch 28/100\n",
            "2/2 [==============================] - 0s 10ms/step - loss: 3.0206 - mae: 3.0206\n",
            "Epoch 29/100\n",
            "2/2 [==============================] - 0s 6ms/step - loss: 3.8854 - mae: 3.8854\n",
            "Epoch 30/100\n",
            "2/2 [==============================] - 0s 9ms/step - loss: 1.0557 - mae: 1.0557\n",
            "Epoch 31/100\n",
            "2/2 [==============================] - 0s 10ms/step - loss: 1.2509 - mae: 1.2509\n",
            "Epoch 32/100\n",
            "2/2 [==============================] - 0s 9ms/step - loss: 1.8058 - mae: 1.8058\n",
            "Epoch 33/100\n",
            "2/2 [==============================] - 0s 10ms/step - loss: 0.7455 - mae: 0.7455\n",
            "Epoch 34/100\n",
            "2/2 [==============================] - 0s 8ms/step - loss: 1.1895 - mae: 1.1895\n",
            "Epoch 35/100\n",
            "2/2 [==============================] - 0s 12ms/step - loss: 0.2129 - mae: 0.2129\n",
            "Epoch 36/100\n",
            "2/2 [==============================] - 0s 12ms/step - loss: 0.9944 - mae: 0.9944\n",
            "Epoch 37/100\n",
            "2/2 [==============================] - 0s 10ms/step - loss: 0.9953 - mae: 0.9953\n",
            "Epoch 38/100\n",
            "2/2 [==============================] - 0s 13ms/step - loss: 0.4421 - mae: 0.4421\n",
            "Epoch 39/100\n",
            "2/2 [==============================] - 0s 8ms/step - loss: 1.6931 - mae: 1.6931\n",
            "Epoch 40/100\n",
            "2/2 [==============================] - 0s 13ms/step - loss: 0.9208 - mae: 0.9208\n",
            "Epoch 41/100\n",
            "2/2 [==============================] - 0s 11ms/step - loss: 2.4779 - mae: 2.4779\n",
            "Epoch 42/100\n",
            "2/2 [==============================] - 0s 9ms/step - loss: 0.5618 - mae: 0.5618\n",
            "Epoch 43/100\n",
            "2/2 [==============================] - 0s 9ms/step - loss: 0.5980 - mae: 0.5980\n",
            "Epoch 44/100\n",
            "2/2 [==============================] - 0s 8ms/step - loss: 1.9416 - mae: 1.9416\n",
            "Epoch 45/100\n",
            "2/2 [==============================] - 0s 11ms/step - loss: 1.4510 - mae: 1.4510\n",
            "Epoch 46/100\n",
            "2/2 [==============================] - 0s 9ms/step - loss: 1.3148 - mae: 1.3148\n",
            "Epoch 47/100\n",
            "2/2 [==============================] - 0s 8ms/step - loss: 0.8777 - mae: 0.8777\n",
            "Epoch 48/100\n",
            "2/2 [==============================] - 0s 10ms/step - loss: 0.3853 - mae: 0.3853\n",
            "Epoch 49/100\n",
            "2/2 [==============================] - 0s 10ms/step - loss: 0.5549 - mae: 0.5549\n",
            "Epoch 50/100\n",
            "2/2 [==============================] - 0s 8ms/step - loss: 1.4920 - mae: 1.4920\n",
            "Epoch 51/100\n",
            "2/2 [==============================] - 0s 13ms/step - loss: 1.8920 - mae: 1.8920\n",
            "Epoch 52/100\n",
            "2/2 [==============================] - 0s 10ms/step - loss: 1.6037 - mae: 1.6037\n",
            "Epoch 53/100\n",
            "2/2 [==============================] - 0s 9ms/step - loss: 2.9808 - mae: 2.9808\n",
            "Epoch 54/100\n",
            "2/2 [==============================] - 0s 11ms/step - loss: 3.4781 - mae: 3.4781\n",
            "Epoch 55/100\n",
            "2/2 [==============================] - 0s 9ms/step - loss: 0.4843 - mae: 0.4843\n",
            "Epoch 56/100\n",
            "2/2 [==============================] - 0s 10ms/step - loss: 0.6561 - mae: 0.6561\n",
            "Epoch 57/100\n",
            "2/2 [==============================] - 0s 10ms/step - loss: 1.4728 - mae: 1.4728\n",
            "Epoch 58/100\n",
            "2/2 [==============================] - 0s 6ms/step - loss: 2.2987 - mae: 2.2987\n",
            "Epoch 59/100\n",
            "2/2 [==============================] - 0s 8ms/step - loss: 3.1851 - mae: 3.1851\n",
            "Epoch 60/100\n",
            "2/2 [==============================] - 0s 11ms/step - loss: 0.3699 - mae: 0.3699\n",
            "Epoch 61/100\n",
            "2/2 [==============================] - 0s 9ms/step - loss: 0.6232 - mae: 0.6232\n",
            "Epoch 62/100\n",
            "2/2 [==============================] - 0s 19ms/step - loss: 1.8429 - mae: 1.8429\n",
            "Epoch 63/100\n",
            "2/2 [==============================] - 0s 9ms/step - loss: 0.7124 - mae: 0.7124\n",
            "Epoch 64/100\n",
            "2/2 [==============================] - 0s 9ms/step - loss: 0.6943 - mae: 0.6943\n",
            "Epoch 65/100\n",
            "2/2 [==============================] - 0s 13ms/step - loss: 1.0074 - mae: 1.0074\n",
            "Epoch 66/100\n",
            "2/2 [==============================] - 0s 14ms/step - loss: 0.6162 - mae: 0.6162\n",
            "Epoch 67/100\n",
            "2/2 [==============================] - 0s 10ms/step - loss: 1.6720 - mae: 1.6720\n",
            "Epoch 68/100\n",
            "2/2 [==============================] - 0s 13ms/step - loss: 1.0475 - mae: 1.0475\n",
            "Epoch 69/100\n",
            "2/2 [==============================] - 0s 9ms/step - loss: 1.5012 - mae: 1.5012\n",
            "Epoch 70/100\n",
            "2/2 [==============================] - 0s 13ms/step - loss: 0.6029 - mae: 0.6029\n",
            "Epoch 71/100\n",
            "2/2 [==============================] - 0s 10ms/step - loss: 0.3357 - mae: 0.3357\n",
            "Epoch 72/100\n",
            "2/2 [==============================] - 0s 8ms/step - loss: 1.6647 - mae: 1.6647\n",
            "Epoch 73/100\n",
            "2/2 [==============================] - 0s 8ms/step - loss: 0.7659 - mae: 0.7659\n",
            "Epoch 74/100\n",
            "2/2 [==============================] - 0s 10ms/step - loss: 0.3335 - mae: 0.3335\n",
            "Epoch 75/100\n",
            "2/2 [==============================] - 0s 8ms/step - loss: 0.7222 - mae: 0.7222\n",
            "Epoch 76/100\n",
            "2/2 [==============================] - 0s 9ms/step - loss: 0.7464 - mae: 0.7464\n",
            "Epoch 77/100\n",
            "2/2 [==============================] - 0s 9ms/step - loss: 0.3845 - mae: 0.3845\n",
            "Epoch 78/100\n",
            "2/2 [==============================] - 0s 10ms/step - loss: 0.7097 - mae: 0.7097\n",
            "Epoch 79/100\n",
            "2/2 [==============================] - 0s 10ms/step - loss: 1.0196 - mae: 1.0196\n",
            "Epoch 80/100\n",
            "2/2 [==============================] - 0s 9ms/step - loss: 0.4434 - mae: 0.4434\n",
            "Epoch 81/100\n",
            "2/2 [==============================] - 0s 11ms/step - loss: 2.9320 - mae: 2.9320\n",
            "Epoch 82/100\n",
            "2/2 [==============================] - 0s 7ms/step - loss: 1.3095 - mae: 1.3095\n",
            "Epoch 83/100\n",
            "2/2 [==============================] - 0s 9ms/step - loss: 2.1102 - mae: 2.1102\n",
            "Epoch 84/100\n",
            "2/2 [==============================] - 0s 14ms/step - loss: 0.9222 - mae: 0.9222\n",
            "Epoch 85/100\n",
            "2/2 [==============================] - 0s 7ms/step - loss: 2.2787 - mae: 2.2787\n",
            "Epoch 86/100\n",
            "2/2 [==============================] - 0s 9ms/step - loss: 0.8956 - mae: 0.8956\n",
            "Epoch 87/100\n",
            "2/2 [==============================] - 0s 10ms/step - loss: 2.4026 - mae: 2.4026\n",
            "Epoch 88/100\n",
            "2/2 [==============================] - 0s 9ms/step - loss: 0.9162 - mae: 0.9162\n",
            "Epoch 89/100\n",
            "2/2 [==============================] - 0s 9ms/step - loss: 1.5752 - mae: 1.5752\n",
            "Epoch 90/100\n",
            "2/2 [==============================] - 0s 11ms/step - loss: 0.9739 - mae: 0.9739\n",
            "Epoch 91/100\n",
            "2/2 [==============================] - 0s 14ms/step - loss: 0.6969 - mae: 0.6969\n",
            "Epoch 92/100\n",
            "2/2 [==============================] - 0s 12ms/step - loss: 1.7000 - mae: 1.7000\n",
            "Epoch 93/100\n",
            "2/2 [==============================] - 0s 12ms/step - loss: 0.4672 - mae: 0.4672\n",
            "Epoch 94/100\n",
            "2/2 [==============================] - 0s 19ms/step - loss: 0.6245 - mae: 0.6245\n",
            "Epoch 95/100\n",
            "2/2 [==============================] - 0s 7ms/step - loss: 1.5119 - mae: 1.5119\n",
            "Epoch 96/100\n",
            "2/2 [==============================] - 0s 8ms/step - loss: 0.3099 - mae: 0.3099\n",
            "Epoch 97/100\n",
            "2/2 [==============================] - 0s 9ms/step - loss: 0.1796 - mae: 0.1796\n",
            "Epoch 98/100\n",
            "2/2 [==============================] - 0s 9ms/step - loss: 1.1240 - mae: 1.1240\n",
            "Epoch 99/100\n",
            "2/2 [==============================] - 0s 10ms/step - loss: 0.4116 - mae: 0.4116\n",
            "Epoch 100/100\n",
            "2/2 [==============================] - 0s 10ms/step - loss: 2.7378 - mae: 2.7378\n"
          ]
        },
        {
          "output_type": "execute_result",
          "data": {
            "text/plain": [
              "<keras.callbacks.History at 0x7f65ae28e490>"
            ]
          },
          "metadata": {},
          "execution_count": 17
        }
      ]
    },
    {
      "cell_type": "code",
      "metadata": {
        "colab": {
          "base_uri": "https://localhost:8080/"
        },
        "id": "Dd8vl4X-YN4x",
        "outputId": "5785f871-3b1d-4df8-9ce0-813505b5de39"
      },
      "source": [
        "model.summary()"
      ],
      "execution_count": null,
      "outputs": [
        {
          "output_type": "stream",
          "name": "stdout",
          "text": [
            "Model: \"sequential_2\"\n",
            "_________________________________________________________________\n",
            "Layer (type)                 Output Shape              Param #   \n",
            "=================================================================\n",
            "dense_6 (Dense)              (None, 100)               200       \n",
            "_________________________________________________________________\n",
            "dense_7 (Dense)              (None, 1)                 101       \n",
            "=================================================================\n",
            "Total params: 301\n",
            "Trainable params: 301\n",
            "Non-trainable params: 0\n",
            "_________________________________________________________________\n"
          ]
        }
      ]
    },
    {
      "cell_type": "markdown",
      "metadata": {
        "id": "qeKwf52AZPK5"
      },
      "source": [
        "## total params- total number of parameters in the model\n",
        "## trainable params - total number of params that can update during training\n",
        "## non trainable params - total number of params that cant be updated during training\n",
        "\n",
        "**refer mit deeplearning vieo for trainable params**"
      ]
    },
    {
      "cell_type": "markdown",
      "metadata": {
        "id": "d6Glxni4vyOz"
      },
      "source": [
        "viaulizing model summary"
      ]
    },
    {
      "cell_type": "code",
      "metadata": {
        "colab": {
          "base_uri": "https://localhost:8080/",
          "height": 312
        },
        "id": "yu25D99jv3Qi",
        "outputId": "f9bbc331-4783-494e-8f02-9acdfc6bb628"
      },
      "source": [
        "from tensorflow.keras.utils import plot_model\n",
        "\n",
        "plot_model(model,show_shapes=True)"
      ],
      "execution_count": null,
      "outputs": [
        {
          "output_type": "execute_result",
          "data": {
            "image/png": "[encoded data removed]",
            "text/plain": [
              "<IPython.core.display.Image object>"
            ]
          },
          "metadata": {},
          "execution_count": 19
        }
      ]
    },
    {
      "cell_type": "code",
      "metadata": {
        "id": "aAd3WJLQsbd5"
      },
      "source": [
        "# predicting\n",
        "\n",
        "y_preds = model.predict(x_test)"
      ],
      "execution_count": null,
      "outputs": []
    },
    {
      "cell_type": "code",
      "metadata": {
        "colab": {
          "base_uri": "https://localhost:8080/"
        },
        "id": "ZSnkJBiFyENl",
        "outputId": "189c63e4-4a38-4c24-b0bb-81a2223f34fb"
      },
      "source": [
        "y_preds"
      ],
      "execution_count": null,
      "outputs": [
        {
          "output_type": "execute_result",
          "data": {
            "text/plain": [
              "array([[ 72.01199 ],\n",
              "       [ 76.14424 ],\n",
              "       [ 80.276474],\n",
              "       [ 84.40872 ],\n",
              "       [ 88.54097 ],\n",
              "       [ 92.6732  ],\n",
              "       [ 96.80545 ],\n",
              "       [100.93768 ],\n",
              "       [105.06993 ],\n",
              "       [109.20218 ]], dtype=float32)"
            ]
          },
          "metadata": {},
          "execution_count": 21
        }
      ]
    },
    {
      "cell_type": "code",
      "metadata": {
        "colab": {
          "base_uri": "https://localhost:8080/"
        },
        "id": "e20S9uz_yGcU",
        "outputId": "832de947-6f35-4415-df8a-a8792a9adf50"
      },
      "source": [
        "y_test"
      ],
      "execution_count": null,
      "outputs": [
        {
          "output_type": "execute_result",
          "data": {
            "text/plain": [
              "<tf.Tensor: shape=(10,), dtype=int32, numpy=array([ 70,  74,  78,  82,  86,  90,  94,  98, 102, 106], dtype=int32)>"
            ]
          },
          "metadata": {},
          "execution_count": 22
        }
      ]
    },
    {
      "cell_type": "code",
      "metadata": {
        "colab": {
          "base_uri": "https://localhost:8080/"
        },
        "id": "UuJNxI6QYoiK",
        "outputId": "bb74fdd5-d2d2-4aa3-e7d3-b2d709593801"
      },
      "source": [
        "model.predict([20.0])"
      ],
      "execution_count": null,
      "outputs": [
        {
          "output_type": "execute_result",
          "data": {
            "text/plain": [
              "array([[30.689577]], dtype=float32)"
            ]
          },
          "metadata": {},
          "execution_count": 23
        }
      ]
    },
    {
      "cell_type": "code",
      "metadata": {
        "colab": {
          "base_uri": "https://localhost:8080/",
          "height": 282
        },
        "id": "h81e933Gskbx",
        "outputId": "320c91bb-1dbe-49c8-e365-49ff60f8827d"
      },
      "source": [
        "## visualize\n",
        "\n",
        "plt.scatter(y_test,y_preds)"
      ],
      "execution_count": null,
      "outputs": [
        {
          "output_type": "execute_result",
          "data": {
            "text/plain": [
              "<matplotlib.collections.PathCollection at 0x7f6679a15990>"
            ]
          },
          "metadata": {},
          "execution_count": 24
        },
        {
          "output_type": "display_data",
          "data": {
            "image/png": "[encoded data removed]",
            "text/plain": [
              "<Figure size 432x288 with 1 Axes>"
            ]
          },
          "metadata": {
            "needs_background": "light"
          }
        }
      ]
    },
    {
      "cell_type": "code",
      "metadata": {
        "id": "5rWRkxLCs0tg"
      },
      "source": [
        "## make a fucntion to visualize all predictions\n",
        "\n",
        "def visu(training_data=x_train,\n",
        "         training_label=y_train,\n",
        "         testing_data=x_test,\n",
        "         testing_label=y_test,\n",
        "         predictions=y_preds):\n",
        "  \n",
        "  plt.figure(figsize=(10,7))\n",
        "\n",
        "  ## training data\n",
        "\n",
        "  plt.scatter(training_data,training_label,c='b',label=\"training\")\n",
        "\n",
        "  plt.scatter(testing_data,testing_label,c='r',label=\"testing\")\n",
        "\n",
        "  plt.scatter(testing_data,predictions,c='y',label=\"predictions\")\n",
        "\n",
        "  plt.legend();"
      ],
      "execution_count": null,
      "outputs": []
    },
    {
      "cell_type": "code",
      "metadata": {
        "colab": {
          "base_uri": "https://localhost:8080/",
          "height": 428
        },
        "id": "w2bOPzJwZM2H",
        "outputId": "477cdf17-7245-4ece-bd14-d1e0768a6148"
      },
      "source": [
        "visu()"
      ],
      "execution_count": null,
      "outputs": [
        {
          "output_type": "display_data",
          "data": {
            "image/png": "[encoded data removed]",
            "text/plain": [
              "<Figure size 720x504 with 1 Axes>"
            ]
          },
          "metadata": {
            "needs_background": "light"
          }
        }
      ]
    },
    {
      "cell_type": "markdown",
      "metadata": {
        "id": "Ws4FL0wGvuXL"
      },
      "source": [
        "## evaluating with evalution metrics\n",
        "\n",
        "1) MAE\n",
        "\n",
        "2) MSE"
      ]
    },
    {
      "cell_type": "code",
      "metadata": {
        "colab": {
          "base_uri": "https://localhost:8080/"
        },
        "id": "DTjS0c8Y2Uhz",
        "outputId": "7c8cd4c7-0ee6-447b-91c5-b501ae2ab29a"
      },
      "source": [
        "model.evaluate(x_test,y_test)"
      ],
      "execution_count": null,
      "outputs": [
        {
          "output_type": "stream",
          "name": "stdout",
          "text": [
            "1/1 [==============================] - 0s 146ms/step - loss: 2.6071 - mae: 2.6071\n"
          ]
        },
        {
          "output_type": "execute_result",
          "data": {
            "text/plain": [
              "[2.6070847511291504, 2.6070847511291504]"
            ]
          },
          "metadata": {},
          "execution_count": 27
        }
      ]
    },
    {
      "cell_type": "code",
      "metadata": {
        "colab": {
          "base_uri": "https://localhost:8080/"
        },
        "id": "H3TLaRkR3vFa",
        "outputId": "1d1a53c8-108b-404d-f5b6-8887aa01d1b7"
      },
      "source": [
        "mae = tf.keras.losses.mae(y_test,y_preds)\n",
        "mae"
      ],
      "execution_count": null,
      "outputs": [
        {
          "output_type": "execute_result",
          "data": {
            "text/plain": [
              "<tf.Tensor: shape=(10,), dtype=float32, numpy=\n",
              "array([16.390406, 13.513455, 11.48941 , 10.318255, 10.      , 10.53464 ,\n",
              "       11.92218 , 14.16261 , 17.255945, 21.202179], dtype=float32)>"
            ]
          },
          "metadata": {},
          "execution_count": 28
        }
      ]
    },
    {
      "cell_type": "code",
      "metadata": {
        "id": "qaZ8pU5B34UC"
      },
      "source": [
        "## y_preds and y_test are not in same shape and convert y_preds to tnsor ad use tf.squeez\n",
        "\n",
        "y_preds = tf.constant(y_preds)\n",
        "\n"
      ],
      "execution_count": null,
      "outputs": []
    },
    {
      "cell_type": "code",
      "metadata": {
        "colab": {
          "base_uri": "https://localhost:8080/"
        },
        "id": "xMMU6LTe6Pe1",
        "outputId": "0ef18ee7-514f-4e65-a56f-58f3710715fd"
      },
      "source": [
        "tf.squeeze(y_preds)"
      ],
      "execution_count": null,
      "outputs": [
        {
          "output_type": "execute_result",
          "data": {
            "text/plain": [
              "<tf.Tensor: shape=(10,), dtype=float32, numpy=\n",
              "array([ 72.01199 ,  76.14424 ,  80.276474,  84.40872 ,  88.54097 ,\n",
              "        92.6732  ,  96.80545 , 100.93768 , 105.06993 , 109.20218 ],\n",
              "      dtype=float32)>"
            ]
          },
          "metadata": {},
          "execution_count": 30
        }
      ]
    },
    {
      "cell_type": "code",
      "metadata": {
        "colab": {
          "base_uri": "https://localhost:8080/"
        },
        "id": "uFk_Ntol6RZl",
        "outputId": "cc362e23-1ef2-4cfa-b6ab-2bde2081c643"
      },
      "source": [
        "mae = tf.keras.losses.mae(y_test,tf.squeeze(y_preds))\n",
        "mae"
      ],
      "execution_count": null,
      "outputs": [
        {
          "output_type": "execute_result",
          "data": {
            "text/plain": [
              "<tf.Tensor: shape=(), dtype=float32, numpy=2.6070848>"
            ]
          },
          "metadata": {},
          "execution_count": 31
        }
      ]
    },
    {
      "cell_type": "code",
      "metadata": {
        "colab": {
          "base_uri": "https://localhost:8080/"
        },
        "id": "aTJd_RGY6WAk",
        "outputId": "fbdde305-62bd-4dcd-9706-a63f34a9118f"
      },
      "source": [
        "model.save(\"nsave_model_format\")"
      ],
      "execution_count": null,
      "outputs": [
        {
          "output_type": "stream",
          "name": "stdout",
          "text": [
            "INFO:tensorflow:Assets written to: nsave_model_format/assets\n"
          ]
        }
      ]
    },
    {
      "cell_type": "markdown",
      "metadata": {
        "id": "lD_owkcr07RE"
      },
      "source": [
        "# larger model"
      ]
    },
    {
      "cell_type": "code",
      "metadata": {
        "id": "_RWPVe64PHu7"
      },
      "source": [
        "## basic imports\n",
        "\n",
        "import tensorflow as tf\n",
        "import pandas as pd\n",
        "import numpy as np\n",
        "import matplotlib.pyplot as plt"
      ],
      "execution_count": null,
      "outputs": []
    },
    {
      "cell_type": "code",
      "metadata": {
        "id": "BoYO2gGOPS8M"
      },
      "source": [
        "## get our data\n",
        "\n",
        "data = pd.read_csv(\"/content/insurance.csv\")"
      ],
      "execution_count": null,
      "outputs": []
    },
    {
      "cell_type": "code",
      "metadata": {
        "colab": {
          "base_uri": "https://localhost:8080/",
          "height": 206
        },
        "id": "dAQ3pcPLPurl",
        "outputId": "f61cff57-cfda-42d6-aa23-125977b88553"
      },
      "source": [
        "data.head()"
      ],
      "execution_count": null,
      "outputs": [
        {
          "output_type": "execute_result",
          "data": {
            "text/html": [
              "<div>\n",
              "<style scoped>\n",
              "    .dataframe tbody tr th:only-of-type {\n",
              "        vertical-align: middle;\n",
              "    }\n",
              "\n",
              "    .dataframe tbody tr th {\n",
              "        vertical-align: top;\n",
              "    }\n",
              "\n",
              "    .dataframe thead th {\n",
              "        text-align: right;\n",
              "    }\n",
              "</style>\n",
              "<table border=\"1\" class=\"dataframe\">\n",
              "  <thead>\n",
              "    <tr style=\"text-align: right;\">\n",
              "      <th></th>\n",
              "      <th>age</th>\n",
              "      <th>sex</th>\n",
              "      <th>bmi</th>\n",
              "      <th>children</th>\n",
              "      <th>smoker</th>\n",
              "      <th>region</th>\n",
              "      <th>charges</th>\n",
              "    </tr>\n",
              "  </thead>\n",
              "  <tbody>\n",
              "    <tr>\n",
              "      <th>0</th>\n",
              "      <td>19</td>\n",
              "      <td>female</td>\n",
              "      <td>27.900</td>\n",
              "      <td>0</td>\n",
              "      <td>yes</td>\n",
              "      <td>southwest</td>\n",
              "      <td>16884.92400</td>\n",
              "    </tr>\n",
              "    <tr>\n",
              "      <th>1</th>\n",
              "      <td>18</td>\n",
              "      <td>male</td>\n",
              "      <td>33.770</td>\n",
              "      <td>1</td>\n",
              "      <td>no</td>\n",
              "      <td>southeast</td>\n",
              "      <td>1725.55230</td>\n",
              "    </tr>\n",
              "    <tr>\n",
              "      <th>2</th>\n",
              "      <td>28</td>\n",
              "      <td>male</td>\n",
              "      <td>33.000</td>\n",
              "      <td>3</td>\n",
              "      <td>no</td>\n",
              "      <td>southeast</td>\n",
              "      <td>4449.46200</td>\n",
              "    </tr>\n",
              "    <tr>\n",
              "      <th>3</th>\n",
              "      <td>33</td>\n",
              "      <td>male</td>\n",
              "      <td>22.705</td>\n",
              "      <td>0</td>\n",
              "      <td>no</td>\n",
              "      <td>northwest</td>\n",
              "      <td>21984.47061</td>\n",
              "    </tr>\n",
              "    <tr>\n",
              "      <th>4</th>\n",
              "      <td>32</td>\n",
              "      <td>male</td>\n",
              "      <td>28.880</td>\n",
              "      <td>0</td>\n",
              "      <td>no</td>\n",
              "      <td>northwest</td>\n",
              "      <td>3866.85520</td>\n",
              "    </tr>\n",
              "  </tbody>\n",
              "</table>\n",
              "</div>"
            ],
            "text/plain": [
              "   age     sex     bmi  children smoker     region      charges\n",
              "0   19  female  27.900         0    yes  southwest  16884.92400\n",
              "1   18    male  33.770         1     no  southeast   1725.55230\n",
              "2   28    male  33.000         3     no  southeast   4449.46200\n",
              "3   33    male  22.705         0     no  northwest  21984.47061\n",
              "4   32    male  28.880         0     no  northwest   3866.85520"
            ]
          },
          "metadata": {},
          "execution_count": 3
        }
      ]
    },
    {
      "cell_type": "code",
      "metadata": {
        "colab": {
          "base_uri": "https://localhost:8080/"
        },
        "id": "lhygjFoPQCIc",
        "outputId": "cd58eda0-067c-4a0c-8a05-098c620e69a2"
      },
      "source": [
        "data.info()"
      ],
      "execution_count": null,
      "outputs": [
        {
          "output_type": "stream",
          "name": "stdout",
          "text": [
            "<class 'pandas.core.frame.DataFrame'>\n",
            "RangeIndex: 1338 entries, 0 to 1337\n",
            "Data columns (total 7 columns):\n",
            " #   Column    Non-Null Count  Dtype  \n",
            "---  ------    --------------  -----  \n",
            " 0   age       1338 non-null   int64  \n",
            " 1   sex       1338 non-null   object \n",
            " 2   bmi       1338 non-null   float64\n",
            " 3   children  1338 non-null   int64  \n",
            " 4   smoker    1338 non-null   object \n",
            " 5   region    1338 non-null   object \n",
            " 6   charges   1338 non-null   float64\n",
            "dtypes: float64(2), int64(2), object(3)\n",
            "memory usage: 73.3+ KB\n"
          ]
        }
      ]
    },
    {
      "cell_type": "code",
      "metadata": {
        "colab": {
          "base_uri": "https://localhost:8080/",
          "height": 226
        },
        "id": "LBvsxfnwQE-k",
        "outputId": "80e20980-c007-4257-8135-f69a20b2f699"
      },
      "source": [
        "## there are few object data types so lets convert it to numbers using one hot encoding\n",
        "\n",
        "numeric_data = pd.get_dummies(data)\n",
        "numeric_data.head()"
      ],
      "execution_count": null,
      "outputs": [
        {
          "output_type": "execute_result",
          "data": {
            "text/html": [
              "<div>\n",
              "<style scoped>\n",
              "    .dataframe tbody tr th:only-of-type {\n",
              "        vertical-align: middle;\n",
              "    }\n",
              "\n",
              "    .dataframe tbody tr th {\n",
              "        vertical-align: top;\n",
              "    }\n",
              "\n",
              "    .dataframe thead th {\n",
              "        text-align: right;\n",
              "    }\n",
              "</style>\n",
              "<table border=\"1\" class=\"dataframe\">\n",
              "  <thead>\n",
              "    <tr style=\"text-align: right;\">\n",
              "      <th></th>\n",
              "      <th>age</th>\n",
              "      <th>bmi</th>\n",
              "      <th>children</th>\n",
              "      <th>charges</th>\n",
              "      <th>sex_female</th>\n",
              "      <th>sex_male</th>\n",
              "      <th>smoker_no</th>\n",
              "      <th>smoker_yes</th>\n",
              "      <th>region_northeast</th>\n",
              "      <th>region_northwest</th>\n",
              "      <th>region_southeast</th>\n",
              "      <th>region_southwest</th>\n",
              "    </tr>\n",
              "  </thead>\n",
              "  <tbody>\n",
              "    <tr>\n",
              "      <th>0</th>\n",
              "      <td>19</td>\n",
              "      <td>27.900</td>\n",
              "      <td>0</td>\n",
              "      <td>16884.92400</td>\n",
              "      <td>1</td>\n",
              "      <td>0</td>\n",
              "      <td>0</td>\n",
              "      <td>1</td>\n",
              "      <td>0</td>\n",
              "      <td>0</td>\n",
              "      <td>0</td>\n",
              "      <td>1</td>\n",
              "    </tr>\n",
              "    <tr>\n",
              "      <th>1</th>\n",
              "      <td>18</td>\n",
              "      <td>33.770</td>\n",
              "      <td>1</td>\n",
              "      <td>1725.55230</td>\n",
              "      <td>0</td>\n",
              "      <td>1</td>\n",
              "      <td>1</td>\n",
              "      <td>0</td>\n",
              "      <td>0</td>\n",
              "      <td>0</td>\n",
              "      <td>1</td>\n",
              "      <td>0</td>\n",
              "    </tr>\n",
              "    <tr>\n",
              "      <th>2</th>\n",
              "      <td>28</td>\n",
              "      <td>33.000</td>\n",
              "      <td>3</td>\n",
              "      <td>4449.46200</td>\n",
              "      <td>0</td>\n",
              "      <td>1</td>\n",
              "      <td>1</td>\n",
              "      <td>0</td>\n",
              "      <td>0</td>\n",
              "      <td>0</td>\n",
              "      <td>1</td>\n",
              "      <td>0</td>\n",
              "    </tr>\n",
              "    <tr>\n",
              "      <th>3</th>\n",
              "      <td>33</td>\n",
              "      <td>22.705</td>\n",
              "      <td>0</td>\n",
              "      <td>21984.47061</td>\n",
              "      <td>0</td>\n",
              "      <td>1</td>\n",
              "      <td>1</td>\n",
              "      <td>0</td>\n",
              "      <td>0</td>\n",
              "      <td>1</td>\n",
              "      <td>0</td>\n",
              "      <td>0</td>\n",
              "    </tr>\n",
              "    <tr>\n",
              "      <th>4</th>\n",
              "      <td>32</td>\n",
              "      <td>28.880</td>\n",
              "      <td>0</td>\n",
              "      <td>3866.85520</td>\n",
              "      <td>0</td>\n",
              "      <td>1</td>\n",
              "      <td>1</td>\n",
              "      <td>0</td>\n",
              "      <td>0</td>\n",
              "      <td>1</td>\n",
              "      <td>0</td>\n",
              "      <td>0</td>\n",
              "    </tr>\n",
              "  </tbody>\n",
              "</table>\n",
              "</div>"
            ],
            "text/plain": [
              "   age     bmi  children  ...  region_northwest  region_southeast  region_southwest\n",
              "0   19  27.900         0  ...                 0                 0                 1\n",
              "1   18  33.770         1  ...                 0                 1                 0\n",
              "2   28  33.000         3  ...                 0                 1                 0\n",
              "3   33  22.705         0  ...                 1                 0                 0\n",
              "4   32  28.880         0  ...                 1                 0                 0\n",
              "\n",
              "[5 rows x 12 columns]"
            ]
          },
          "metadata": {},
          "execution_count": 4
        }
      ]
    },
    {
      "cell_type": "markdown",
      "metadata": {
        "id": "QYChFGp3QaHG"
      },
      "source": [
        "## steps to follow\n",
        "\n",
        "1) split x and y\n",
        "\n",
        "2) form training and testing data\n",
        "\n",
        "3) build a model "
      ]
    },
    {
      "cell_type": "code",
      "metadata": {
        "id": "y2PZsSMZQn7O"
      },
      "source": [
        "## 1) split x and y\n",
        "\n",
        "x = numeric_data.drop(labels=\"charges\",axis=1)\n",
        "y = numeric_data['charges']"
      ],
      "execution_count": null,
      "outputs": []
    },
    {
      "cell_type": "code",
      "metadata": {
        "colab": {
          "base_uri": "https://localhost:8080/"
        },
        "id": "IvgLP5ShQ2_2",
        "outputId": "ab2f05fb-f43a-47cf-9588-180645ff422d"
      },
      "source": [
        "x.head(),y.head()"
      ],
      "execution_count": null,
      "outputs": [
        {
          "output_type": "execute_result",
          "data": {
            "text/plain": [
              "(   age     bmi  children  ...  region_northwest  region_southeast  region_southwest\n",
              " 0   19  27.900         0  ...                 0                 0                 1\n",
              " 1   18  33.770         1  ...                 0                 1                 0\n",
              " 2   28  33.000         3  ...                 0                 1                 0\n",
              " 3   33  22.705         0  ...                 1                 0                 0\n",
              " 4   32  28.880         0  ...                 1                 0                 0\n",
              " \n",
              " [5 rows x 11 columns], 0    16884.92400\n",
              " 1     1725.55230\n",
              " 2     4449.46200\n",
              " 3    21984.47061\n",
              " 4     3866.85520\n",
              " Name: charges, dtype: float64)"
            ]
          },
          "metadata": {},
          "execution_count": 7
        }
      ]
    },
    {
      "cell_type": "code",
      "metadata": {
        "colab": {
          "base_uri": "https://localhost:8080/"
        },
        "id": "dSY_v64jRKXo",
        "outputId": "8dc39744-bbd9-4cc2-9d70-80c49218be2f"
      },
      "source": [
        "## check length\n",
        "\n",
        "len(x),len((y))\n"
      ],
      "execution_count": null,
      "outputs": [
        {
          "output_type": "execute_result",
          "data": {
            "text/plain": [
              "(1338, 1338)"
            ]
          },
          "metadata": {},
          "execution_count": 6
        }
      ]
    },
    {
      "cell_type": "markdown",
      "metadata": {
        "id": "wJcwTbo5Q5j7"
      },
      "source": [
        "## split training and testing data\n",
        "\n"
      ]
    },
    {
      "cell_type": "code",
      "metadata": {
        "colab": {
          "base_uri": "https://localhost:8080/"
        },
        "id": "vU3Wfu4fRb_O",
        "outputId": "2d654945-d1d4-4e2f-e4b0-e0a9c652a853"
      },
      "source": [
        "x_train  = x[:1070]\n",
        "x_test = x[1070:]\n",
        "\n",
        "y_train = y[:1070]\n",
        "y_test = y[1070:]\n",
        "\n",
        "x_train,x_test,y_train,y_test"
      ],
      "execution_count": null,
      "outputs": [
        {
          "output_type": "execute_result",
          "data": {
            "text/plain": [
              "(      age     bmi  ...  region_southeast  region_southwest\n",
              " 0      19  27.900  ...                 0                 1\n",
              " 1      18  33.770  ...                 1                 0\n",
              " 2      28  33.000  ...                 1                 0\n",
              " 3      33  22.705  ...                 0                 0\n",
              " 4      32  28.880  ...                 0                 0\n",
              " ...   ...     ...  ...               ...               ...\n",
              " 1065   42  25.300  ...                 0                 1\n",
              " 1066   48  37.290  ...                 1                 0\n",
              " 1067   39  42.655  ...                 0                 0\n",
              " 1068   63  21.660  ...                 0                 0\n",
              " 1069   54  31.900  ...                 1                 0\n",
              " \n",
              " [1070 rows x 11 columns],\n",
              "       age     bmi  ...  region_southeast  region_southwest\n",
              " 1070   37  37.070  ...                 1                 0\n",
              " 1071   63  31.445  ...                 0                 0\n",
              " 1072   21  31.255  ...                 0                 0\n",
              " 1073   54  28.880  ...                 0                 0\n",
              " 1074   60  18.335  ...                 0                 0\n",
              " ...   ...     ...  ...               ...               ...\n",
              " 1333   50  30.970  ...                 0                 0\n",
              " 1334   18  31.920  ...                 0                 0\n",
              " 1335   18  36.850  ...                 1                 0\n",
              " 1336   21  25.800  ...                 0                 1\n",
              " 1337   61  29.070  ...                 0                 0\n",
              " \n",
              " [268 rows x 11 columns],\n",
              " 0       16884.92400\n",
              " 1        1725.55230\n",
              " 2        4449.46200\n",
              " 3       21984.47061\n",
              " 4        3866.85520\n",
              "            ...     \n",
              " 1065     7045.49900\n",
              " 1066     8978.18510\n",
              " 1067     5757.41345\n",
              " 1068    14349.85440\n",
              " 1069    10928.84900\n",
              " Name: charges, Length: 1070, dtype: float64,\n",
              " 1070    39871.70430\n",
              " 1071    13974.45555\n",
              " 1072     1909.52745\n",
              " 1073    12096.65120\n",
              " 1074    13204.28565\n",
              "            ...     \n",
              " 1333    10600.54830\n",
              " 1334     2205.98080\n",
              " 1335     1629.83350\n",
              " 1336     2007.94500\n",
              " 1337    29141.36030\n",
              " Name: charges, Length: 268, dtype: float64)"
            ]
          },
          "metadata": {},
          "execution_count": 7
        }
      ]
    },
    {
      "cell_type": "markdown",
      "metadata": {
        "id": "QQXXiKkmRqrH"
      },
      "source": [
        "## training a model\n"
      ]
    },
    {
      "cell_type": "code",
      "metadata": {
        "colab": {
          "base_uri": "https://localhost:8080/"
        },
        "id": "9X88Ouw6R0a-",
        "outputId": "46211449-88f5-4991-a784-bb71c2482bdb"
      },
      "source": [
        "tf.random.set_seed(42)\n",
        "\n",
        "model1 = tf.keras.Sequential([\n",
        "                              tf.keras.layers.Dense(100, activation=\"relu\"),\n",
        "                              tf.keras.layers.Dense(1)\n",
        "])\n",
        "\n",
        "model1.compile(loss=tf.keras.losses.mae,\n",
        "               optimizer= tf.keras.optimizers.Adam(learning_rate=0.1),\n",
        "               metrics=[\"mae\"])\n",
        "\n",
        "model1.fit(x_train,y_train,epochs=100)"
      ],
      "execution_count": null,
      "outputs": [
        {
          "output_type": "stream",
          "name": "stdout",
          "text": [
            "Epoch 1/100\n",
            "34/34 [==============================] - 2s 4ms/step - loss: 9047.3047 - mae: 9047.3047\n",
            "Epoch 2/100\n",
            "34/34 [==============================] - 0s 4ms/step - loss: 7123.3691 - mae: 7123.3691\n",
            "Epoch 3/100\n",
            "34/34 [==============================] - 0s 4ms/step - loss: 6545.3423 - mae: 6545.3423\n",
            "Epoch 4/100\n",
            "34/34 [==============================] - 0s 4ms/step - loss: 6177.9546 - mae: 6177.9546\n",
            "Epoch 5/100\n",
            "34/34 [==============================] - 0s 3ms/step - loss: 5874.8022 - mae: 5874.8022\n",
            "Epoch 6/100\n",
            "34/34 [==============================] - 0s 3ms/step - loss: 5501.1353 - mae: 5501.1353\n",
            "Epoch 7/100\n",
            "34/34 [==============================] - 0s 3ms/step - loss: 4975.3691 - mae: 4975.3691\n",
            "Epoch 8/100\n",
            "34/34 [==============================] - 0s 4ms/step - loss: 4284.0420 - mae: 4284.0420\n",
            "Epoch 9/100\n",
            "34/34 [==============================] - 0s 4ms/step - loss: 3761.2949 - mae: 3761.2949\n",
            "Epoch 10/100\n",
            "34/34 [==============================] - 0s 4ms/step - loss: 3687.4036 - mae: 3687.4036\n",
            "Epoch 11/100\n",
            "34/34 [==============================] - 0s 3ms/step - loss: 3585.0195 - mae: 3585.0195\n",
            "Epoch 12/100\n",
            "34/34 [==============================] - 0s 4ms/step - loss: 3481.5027 - mae: 3481.5027\n",
            "Epoch 13/100\n",
            "34/34 [==============================] - 0s 3ms/step - loss: 3393.9692 - mae: 3393.9692\n",
            "Epoch 14/100\n",
            "34/34 [==============================] - 0s 3ms/step - loss: 3368.6946 - mae: 3368.6946\n",
            "Epoch 15/100\n",
            "34/34 [==============================] - 0s 4ms/step - loss: 3320.9146 - mae: 3320.9146\n",
            "Epoch 16/100\n",
            "34/34 [==============================] - 0s 4ms/step - loss: 3327.4346 - mae: 3327.4346\n",
            "Epoch 17/100\n",
            "34/34 [==============================] - 0s 3ms/step - loss: 3460.2290 - mae: 3460.2290\n",
            "Epoch 18/100\n",
            "34/34 [==============================] - 0s 4ms/step - loss: 3318.1279 - mae: 3318.1279\n",
            "Epoch 19/100\n",
            "34/34 [==============================] - 0s 3ms/step - loss: 3219.2773 - mae: 3219.2773\n",
            "Epoch 20/100\n",
            "34/34 [==============================] - 0s 3ms/step - loss: 3262.9836 - mae: 3262.9836\n",
            "Epoch 21/100\n",
            "34/34 [==============================] - 0s 4ms/step - loss: 3175.7468 - mae: 3175.7468\n",
            "Epoch 22/100\n",
            "34/34 [==============================] - 0s 4ms/step - loss: 3174.2744 - mae: 3174.2744\n",
            "Epoch 23/100\n",
            "34/34 [==============================] - 0s 3ms/step - loss: 3108.6758 - mae: 3108.6758\n",
            "Epoch 24/100\n",
            "34/34 [==============================] - 0s 4ms/step - loss: 3095.0200 - mae: 3095.0200\n",
            "Epoch 25/100\n",
            "34/34 [==============================] - 0s 4ms/step - loss: 2956.5769 - mae: 2956.5769\n",
            "Epoch 26/100\n",
            "34/34 [==============================] - 0s 4ms/step - loss: 2956.6577 - mae: 2956.6577\n",
            "Epoch 27/100\n",
            "34/34 [==============================] - 0s 4ms/step - loss: 2896.1345 - mae: 2896.1345\n",
            "Epoch 28/100\n",
            "34/34 [==============================] - 0s 4ms/step - loss: 2798.5466 - mae: 2798.5466\n",
            "Epoch 29/100\n",
            "34/34 [==============================] - 0s 4ms/step - loss: 2828.2798 - mae: 2828.2798\n",
            "Epoch 30/100\n",
            "34/34 [==============================] - 0s 4ms/step - loss: 2792.0203 - mae: 2792.0203\n",
            "Epoch 31/100\n",
            "34/34 [==============================] - 0s 4ms/step - loss: 2784.4478 - mae: 2784.4478\n",
            "Epoch 32/100\n",
            "34/34 [==============================] - 0s 4ms/step - loss: 2697.9033 - mae: 2697.9033\n",
            "Epoch 33/100\n",
            "34/34 [==============================] - 0s 3ms/step - loss: 2751.2192 - mae: 2751.2192\n",
            "Epoch 34/100\n",
            "34/34 [==============================] - 0s 4ms/step - loss: 2707.7507 - mae: 2707.7507\n",
            "Epoch 35/100\n",
            "34/34 [==============================] - 0s 4ms/step - loss: 2679.2720 - mae: 2679.2720\n",
            "Epoch 36/100\n",
            "34/34 [==============================] - 0s 3ms/step - loss: 2678.2361 - mae: 2678.2361\n",
            "Epoch 37/100\n",
            "34/34 [==============================] - 0s 4ms/step - loss: 2640.3691 - mae: 2640.3691\n",
            "Epoch 38/100\n",
            "34/34 [==============================] - 0s 3ms/step - loss: 2739.0034 - mae: 2739.0034\n",
            "Epoch 39/100\n",
            "34/34 [==============================] - 0s 4ms/step - loss: 2609.4897 - mae: 2609.4897\n",
            "Epoch 40/100\n",
            "34/34 [==============================] - 0s 4ms/step - loss: 2555.0059 - mae: 2555.0059\n",
            "Epoch 41/100\n",
            "34/34 [==============================] - 0s 4ms/step - loss: 2572.5244 - mae: 2572.5244\n",
            "Epoch 42/100\n",
            "34/34 [==============================] - 0s 4ms/step - loss: 2527.7466 - mae: 2527.7466\n",
            "Epoch 43/100\n",
            "34/34 [==============================] - 0s 4ms/step - loss: 2571.4417 - mae: 2571.4417\n",
            "Epoch 44/100\n",
            "34/34 [==============================] - 0s 4ms/step - loss: 2547.5667 - mae: 2547.5667\n",
            "Epoch 45/100\n",
            "34/34 [==============================] - 0s 4ms/step - loss: 2437.0027 - mae: 2437.0027\n",
            "Epoch 46/100\n",
            "34/34 [==============================] - 0s 4ms/step - loss: 2504.7124 - mae: 2504.7124\n",
            "Epoch 47/100\n",
            "34/34 [==============================] - 0s 4ms/step - loss: 2397.7361 - mae: 2397.7361\n",
            "Epoch 48/100\n",
            "34/34 [==============================] - 0s 4ms/step - loss: 2344.6221 - mae: 2344.6221\n",
            "Epoch 49/100\n",
            "34/34 [==============================] - 0s 4ms/step - loss: 2329.2908 - mae: 2329.2908\n",
            "Epoch 50/100\n",
            "34/34 [==============================] - 0s 4ms/step - loss: 2294.0254 - mae: 2294.0254\n",
            "Epoch 51/100\n",
            "34/34 [==============================] - 0s 4ms/step - loss: 2411.6582 - mae: 2411.6582\n",
            "Epoch 52/100\n",
            "34/34 [==============================] - 0s 4ms/step - loss: 2289.3538 - mae: 2289.3538\n",
            "Epoch 53/100\n",
            "34/34 [==============================] - 0s 4ms/step - loss: 2317.2756 - mae: 2317.2756\n",
            "Epoch 54/100\n",
            "34/34 [==============================] - 0s 4ms/step - loss: 2267.8064 - mae: 2267.8064\n",
            "Epoch 55/100\n",
            "34/34 [==============================] - 0s 4ms/step - loss: 2241.4539 - mae: 2241.4539\n",
            "Epoch 56/100\n",
            "34/34 [==============================] - 0s 4ms/step - loss: 2231.0854 - mae: 2231.0854\n",
            "Epoch 57/100\n",
            "34/34 [==============================] - 0s 4ms/step - loss: 2233.7905 - mae: 2233.7905\n",
            "Epoch 58/100\n",
            "34/34 [==============================] - 0s 4ms/step - loss: 2215.2363 - mae: 2215.2363\n",
            "Epoch 59/100\n",
            "34/34 [==============================] - 0s 3ms/step - loss: 2162.4048 - mae: 2162.4048\n",
            "Epoch 60/100\n",
            "34/34 [==============================] - 0s 4ms/step - loss: 2180.3413 - mae: 2180.3413\n",
            "Epoch 61/100\n",
            "34/34 [==============================] - 0s 4ms/step - loss: 2116.1357 - mae: 2116.1357\n",
            "Epoch 62/100\n",
            "34/34 [==============================] - 0s 4ms/step - loss: 2120.0193 - mae: 2120.0193\n",
            "Epoch 63/100\n",
            "34/34 [==============================] - 0s 3ms/step - loss: 2087.0710 - mae: 2087.0710\n",
            "Epoch 64/100\n",
            "34/34 [==============================] - 0s 4ms/step - loss: 2268.4658 - mae: 2268.4658\n",
            "Epoch 65/100\n",
            "34/34 [==============================] - 0s 3ms/step - loss: 2124.4595 - mae: 2124.4595\n",
            "Epoch 66/100\n",
            "34/34 [==============================] - 0s 3ms/step - loss: 2150.6919 - mae: 2150.6919\n",
            "Epoch 67/100\n",
            "34/34 [==============================] - 0s 4ms/step - loss: 2156.3435 - mae: 2156.3435\n",
            "Epoch 68/100\n",
            "34/34 [==============================] - 0s 4ms/step - loss: 2122.3525 - mae: 2122.3525\n",
            "Epoch 69/100\n",
            "34/34 [==============================] - 0s 4ms/step - loss: 2059.9458 - mae: 2059.9458\n",
            "Epoch 70/100\n",
            "34/34 [==============================] - 0s 4ms/step - loss: 2062.0874 - mae: 2062.0874\n",
            "Epoch 71/100\n",
            "34/34 [==============================] - 0s 3ms/step - loss: 2046.8658 - mae: 2046.8658\n",
            "Epoch 72/100\n",
            "34/34 [==============================] - 0s 4ms/step - loss: 2047.8433 - mae: 2047.8433\n",
            "Epoch 73/100\n",
            "34/34 [==============================] - 0s 3ms/step - loss: 2061.9211 - mae: 2061.9211\n",
            "Epoch 74/100\n",
            "34/34 [==============================] - 0s 3ms/step - loss: 2053.8884 - mae: 2053.8884\n",
            "Epoch 75/100\n",
            "34/34 [==============================] - 0s 4ms/step - loss: 2021.5577 - mae: 2021.5577\n",
            "Epoch 76/100\n",
            "34/34 [==============================] - 0s 4ms/step - loss: 2010.6879 - mae: 2010.6879\n",
            "Epoch 77/100\n",
            "34/34 [==============================] - 0s 4ms/step - loss: 2028.7196 - mae: 2028.7196\n",
            "Epoch 78/100\n",
            "34/34 [==============================] - 0s 4ms/step - loss: 2055.0615 - mae: 2055.0615\n",
            "Epoch 79/100\n",
            "34/34 [==============================] - 0s 4ms/step - loss: 2107.0471 - mae: 2107.0471\n",
            "Epoch 80/100\n",
            "34/34 [==============================] - 0s 4ms/step - loss: 1981.8729 - mae: 1981.8729\n",
            "Epoch 81/100\n",
            "34/34 [==============================] - 0s 4ms/step - loss: 2025.0948 - mae: 2025.0948\n",
            "Epoch 82/100\n",
            "34/34 [==============================] - 0s 4ms/step - loss: 2071.5388 - mae: 2071.5388\n",
            "Epoch 83/100\n",
            "34/34 [==============================] - 0s 3ms/step - loss: 2036.0386 - mae: 2036.0386\n",
            "Epoch 84/100\n",
            "34/34 [==============================] - 0s 3ms/step - loss: 2033.3423 - mae: 2033.3423\n",
            "Epoch 85/100\n",
            "34/34 [==============================] - 0s 4ms/step - loss: 2033.7250 - mae: 2033.7250\n",
            "Epoch 86/100\n",
            "34/34 [==============================] - 0s 4ms/step - loss: 2008.2042 - mae: 2008.2042\n",
            "Epoch 87/100\n",
            "34/34 [==============================] - 0s 4ms/step - loss: 2107.4387 - mae: 2107.4387\n",
            "Epoch 88/100\n",
            "34/34 [==============================] - 0s 4ms/step - loss: 2062.3140 - mae: 2062.3140\n",
            "Epoch 89/100\n",
            "34/34 [==============================] - 0s 4ms/step - loss: 1967.5841 - mae: 1967.5841\n",
            "Epoch 90/100\n",
            "34/34 [==============================] - 0s 3ms/step - loss: 1955.3942 - mae: 1955.3942\n",
            "Epoch 91/100\n",
            "34/34 [==============================] - 0s 4ms/step - loss: 1964.8439 - mae: 1964.8439\n",
            "Epoch 92/100\n",
            "34/34 [==============================] - 0s 4ms/step - loss: 1991.6671 - mae: 1991.6671\n",
            "Epoch 93/100\n",
            "34/34 [==============================] - 0s 4ms/step - loss: 2088.5193 - mae: 2088.5193\n",
            "Epoch 94/100\n",
            "34/34 [==============================] - 0s 4ms/step - loss: 2047.8164 - mae: 2047.8164\n",
            "Epoch 95/100\n",
            "34/34 [==============================] - 0s 4ms/step - loss: 2085.9189 - mae: 2085.9189\n",
            "Epoch 96/100\n",
            "34/34 [==============================] - 0s 3ms/step - loss: 1979.9332 - mae: 1979.9332\n",
            "Epoch 97/100\n",
            "34/34 [==============================] - 0s 3ms/step - loss: 2055.2979 - mae: 2055.2979\n",
            "Epoch 98/100\n",
            "34/34 [==============================] - 0s 4ms/step - loss: 2013.4166 - mae: 2013.4166\n",
            "Epoch 99/100\n",
            "34/34 [==============================] - 0s 4ms/step - loss: 2018.0596 - mae: 2018.0596\n",
            "Epoch 100/100\n",
            "34/34 [==============================] - 0s 3ms/step - loss: 2026.4719 - mae: 2026.4719\n"
          ]
        },
        {
          "output_type": "execute_result",
          "data": {
            "text/plain": [
              "<keras.callbacks.History at 0x7f881010a110>"
            ]
          },
          "metadata": {},
          "execution_count": 10
        }
      ]
    },
    {
      "cell_type": "code",
      "metadata": {
        "id": "TSnGcR2YShrz",
        "colab": {
          "base_uri": "https://localhost:8080/"
        },
        "outputId": "654ec639-65c4-41e6-95f1-51d8a2e1aff9"
      },
      "source": [
        "## evaluate on test data\n",
        "\n",
        "model1.evaluate(x_test,y_test)"
      ],
      "execution_count": null,
      "outputs": [
        {
          "output_type": "stream",
          "name": "stdout",
          "text": [
            "9/9 [==============================] - 0s 3ms/step - loss: 2351.4126 - mae: 2351.4126\n"
          ]
        },
        {
          "output_type": "execute_result",
          "data": {
            "text/plain": [
              "[2351.41259765625, 2351.41259765625]"
            ]
          },
          "metadata": {},
          "execution_count": 11
        }
      ]
    },
    {
      "cell_type": "code",
      "metadata": {
        "id": "-_Uj23JWLqtc",
        "colab": {
          "base_uri": "https://localhost:8080/"
        },
        "outputId": "f806298d-1300-4b7a-f58d-dff065d38a5c"
      },
      "source": [
        "tf.random.set_seed(42)\n",
        "\n",
        "model2 = tf.keras.Sequential([\n",
        "                              tf.keras.layers.Dense(100, activation=\"relu\"),\n",
        "                              tf.keras.layers.Dense(1)\n",
        "])\n",
        "\n",
        "model2.compile(loss=tf.keras.losses.mae,\n",
        "               optimizer= tf.keras.optimizers.Adam(learning_rate=0.1),\n",
        "               metrics=[\"mae\"])\n",
        "\n",
        "model2.fit(x_train,y_train,epochs=300)"
      ],
      "execution_count": null,
      "outputs": [
        {
          "output_type": "stream",
          "name": "stdout",
          "text": [
            "Epoch 1/300\n",
            "34/34 [==============================] - 2s 3ms/step - loss: 9047.3047 - mae: 9047.3047\n",
            "Epoch 2/300\n",
            "34/34 [==============================] - 0s 3ms/step - loss: 7123.3691 - mae: 7123.3691\n",
            "Epoch 3/300\n",
            "34/34 [==============================] - 0s 4ms/step - loss: 6545.3423 - mae: 6545.3423\n",
            "Epoch 4/300\n",
            "34/34 [==============================] - 0s 4ms/step - loss: 6177.9546 - mae: 6177.9546\n",
            "Epoch 5/300\n",
            "34/34 [==============================] - 0s 3ms/step - loss: 5874.8022 - mae: 5874.8022\n",
            "Epoch 6/300\n",
            "34/34 [==============================] - 0s 4ms/step - loss: 5501.1353 - mae: 5501.1353\n",
            "Epoch 7/300\n",
            "34/34 [==============================] - 0s 4ms/step - loss: 4975.3691 - mae: 4975.3691\n",
            "Epoch 8/300\n",
            "34/34 [==============================] - 0s 3ms/step - loss: 4284.0420 - mae: 4284.0420\n",
            "Epoch 9/300\n",
            "34/34 [==============================] - 0s 4ms/step - loss: 3761.2949 - mae: 3761.2949\n",
            "Epoch 10/300\n",
            "34/34 [==============================] - 0s 3ms/step - loss: 3687.4036 - mae: 3687.4036\n",
            "Epoch 11/300\n",
            "34/34 [==============================] - 0s 4ms/step - loss: 3585.0195 - mae: 3585.0195\n",
            "Epoch 12/300\n",
            "34/34 [==============================] - 0s 4ms/step - loss: 3481.5027 - mae: 3481.5027\n",
            "Epoch 13/300\n",
            "34/34 [==============================] - 0s 3ms/step - loss: 3393.9692 - mae: 3393.9692\n",
            "Epoch 14/300\n",
            "34/34 [==============================] - 0s 4ms/step - loss: 3368.6946 - mae: 3368.6946\n",
            "Epoch 15/300\n",
            "34/34 [==============================] - 0s 4ms/step - loss: 3320.9146 - mae: 3320.9146\n",
            "Epoch 16/300\n",
            "34/34 [==============================] - 0s 3ms/step - loss: 3327.4346 - mae: 3327.4346\n",
            "Epoch 17/300\n",
            "34/34 [==============================] - 0s 4ms/step - loss: 3460.2290 - mae: 3460.2290\n",
            "Epoch 18/300\n",
            "34/34 [==============================] - 0s 4ms/step - loss: 3318.1279 - mae: 3318.1279\n",
            "Epoch 19/300\n",
            "34/34 [==============================] - 0s 4ms/step - loss: 3219.2773 - mae: 3219.2773\n",
            "Epoch 20/300\n",
            "34/34 [==============================] - 0s 3ms/step - loss: 3262.9836 - mae: 3262.9836\n",
            "Epoch 21/300\n",
            "34/34 [==============================] - 0s 4ms/step - loss: 3175.7468 - mae: 3175.7468\n",
            "Epoch 22/300\n",
            "34/34 [==============================] - 0s 4ms/step - loss: 3174.2744 - mae: 3174.2744\n",
            "Epoch 23/300\n",
            "34/34 [==============================] - 0s 3ms/step - loss: 3108.6758 - mae: 3108.6758\n",
            "Epoch 24/300\n",
            "34/34 [==============================] - 0s 3ms/step - loss: 3095.0200 - mae: 3095.0200\n",
            "Epoch 25/300\n",
            "34/34 [==============================] - 0s 4ms/step - loss: 2956.5769 - mae: 2956.5769\n",
            "Epoch 26/300\n",
            "34/34 [==============================] - 0s 3ms/step - loss: 2956.6577 - mae: 2956.6577\n",
            "Epoch 27/300\n",
            "34/34 [==============================] - 0s 4ms/step - loss: 2896.1345 - mae: 2896.1345\n",
            "Epoch 28/300\n",
            "34/34 [==============================] - 0s 3ms/step - loss: 2798.5466 - mae: 2798.5466\n",
            "Epoch 29/300\n",
            "34/34 [==============================] - 0s 4ms/step - loss: 2828.2798 - mae: 2828.2798\n",
            "Epoch 30/300\n",
            "34/34 [==============================] - 0s 4ms/step - loss: 2792.0203 - mae: 2792.0203\n",
            "Epoch 31/300\n",
            "34/34 [==============================] - 0s 3ms/step - loss: 2784.4478 - mae: 2784.4478\n",
            "Epoch 32/300\n",
            "34/34 [==============================] - 0s 3ms/step - loss: 2697.9033 - mae: 2697.9033\n",
            "Epoch 33/300\n",
            "34/34 [==============================] - 0s 3ms/step - loss: 2751.2192 - mae: 2751.2192\n",
            "Epoch 34/300\n",
            "34/34 [==============================] - 0s 3ms/step - loss: 2707.7507 - mae: 2707.7507\n",
            "Epoch 35/300\n",
            "34/34 [==============================] - 0s 4ms/step - loss: 2679.2720 - mae: 2679.2720\n",
            "Epoch 36/300\n",
            "34/34 [==============================] - 0s 3ms/step - loss: 2678.2361 - mae: 2678.2361\n",
            "Epoch 37/300\n",
            "34/34 [==============================] - 0s 4ms/step - loss: 2640.3691 - mae: 2640.3691\n",
            "Epoch 38/300\n",
            "34/34 [==============================] - 0s 3ms/step - loss: 2739.0034 - mae: 2739.0034\n",
            "Epoch 39/300\n",
            "34/34 [==============================] - 0s 3ms/step - loss: 2609.4897 - mae: 2609.4897\n",
            "Epoch 40/300\n",
            "34/34 [==============================] - 0s 4ms/step - loss: 2555.0059 - mae: 2555.0059\n",
            "Epoch 41/300\n",
            "34/34 [==============================] - 0s 3ms/step - loss: 2572.5244 - mae: 2572.5244\n",
            "Epoch 42/300\n",
            "34/34 [==============================] - 0s 3ms/step - loss: 2527.7466 - mae: 2527.7466\n",
            "Epoch 43/300\n",
            "34/34 [==============================] - 0s 4ms/step - loss: 2571.4417 - mae: 2571.4417\n",
            "Epoch 44/300\n",
            "34/34 [==============================] - 0s 3ms/step - loss: 2547.5667 - mae: 2547.5667\n",
            "Epoch 45/300\n",
            "34/34 [==============================] - 0s 4ms/step - loss: 2437.0027 - mae: 2437.0027\n",
            "Epoch 46/300\n",
            "34/34 [==============================] - 0s 4ms/step - loss: 2504.7124 - mae: 2504.7124\n",
            "Epoch 47/300\n",
            "34/34 [==============================] - 0s 3ms/step - loss: 2397.7361 - mae: 2397.7361\n",
            "Epoch 48/300\n",
            "34/34 [==============================] - 0s 4ms/step - loss: 2344.6221 - mae: 2344.6221\n",
            "Epoch 49/300\n",
            "34/34 [==============================] - 0s 4ms/step - loss: 2329.2908 - mae: 2329.2908\n",
            "Epoch 50/300\n",
            "34/34 [==============================] - 0s 4ms/step - loss: 2294.0254 - mae: 2294.0254\n",
            "Epoch 51/300\n",
            "34/34 [==============================] - 0s 4ms/step - loss: 2411.6582 - mae: 2411.6582\n",
            "Epoch 52/300\n",
            "34/34 [==============================] - 0s 3ms/step - loss: 2289.3538 - mae: 2289.3538\n",
            "Epoch 53/300\n",
            "34/34 [==============================] - 0s 4ms/step - loss: 2317.2756 - mae: 2317.2756\n",
            "Epoch 54/300\n",
            "34/34 [==============================] - 0s 4ms/step - loss: 2267.8064 - mae: 2267.8064\n",
            "Epoch 55/300\n",
            "34/34 [==============================] - 0s 4ms/step - loss: 2241.4539 - mae: 2241.4539\n",
            "Epoch 56/300\n",
            "34/34 [==============================] - 0s 4ms/step - loss: 2231.0854 - mae: 2231.0854\n",
            "Epoch 57/300\n",
            "34/34 [==============================] - 0s 4ms/step - loss: 2233.7905 - mae: 2233.7905\n",
            "Epoch 58/300\n",
            "34/34 [==============================] - 0s 4ms/step - loss: 2215.2363 - mae: 2215.2363\n",
            "Epoch 59/300\n",
            "34/34 [==============================] - 0s 3ms/step - loss: 2162.4048 - mae: 2162.4048\n",
            "Epoch 60/300\n",
            "34/34 [==============================] - 0s 4ms/step - loss: 2180.3413 - mae: 2180.3413\n",
            "Epoch 61/300\n",
            "34/34 [==============================] - 0s 3ms/step - loss: 2116.1357 - mae: 2116.1357\n",
            "Epoch 62/300\n",
            "34/34 [==============================] - 0s 3ms/step - loss: 2120.0193 - mae: 2120.0193\n",
            "Epoch 63/300\n",
            "34/34 [==============================] - 0s 4ms/step - loss: 2087.0710 - mae: 2087.0710\n",
            "Epoch 64/300\n",
            "34/34 [==============================] - 0s 3ms/step - loss: 2268.4658 - mae: 2268.4658\n",
            "Epoch 65/300\n",
            "34/34 [==============================] - 0s 4ms/step - loss: 2124.4595 - mae: 2124.4595\n",
            "Epoch 66/300\n",
            "34/34 [==============================] - 0s 4ms/step - loss: 2150.6919 - mae: 2150.6919\n",
            "Epoch 67/300\n",
            "34/34 [==============================] - 0s 4ms/step - loss: 2156.3435 - mae: 2156.3435\n",
            "Epoch 68/300\n",
            "34/34 [==============================] - 0s 4ms/step - loss: 2122.3525 - mae: 2122.3525\n",
            "Epoch 69/300\n",
            "34/34 [==============================] - 0s 4ms/step - loss: 2059.9458 - mae: 2059.9458\n",
            "Epoch 70/300\n",
            "34/34 [==============================] - 0s 4ms/step - loss: 2062.0874 - mae: 2062.0874\n",
            "Epoch 71/300\n",
            "34/34 [==============================] - 0s 4ms/step - loss: 2046.8658 - mae: 2046.8658\n",
            "Epoch 72/300\n",
            "34/34 [==============================] - 0s 4ms/step - loss: 2047.8433 - mae: 2047.8433\n",
            "Epoch 73/300\n",
            "34/34 [==============================] - 0s 4ms/step - loss: 2061.9211 - mae: 2061.9211\n",
            "Epoch 74/300\n",
            "34/34 [==============================] - 0s 3ms/step - loss: 2053.8884 - mae: 2053.8884\n",
            "Epoch 75/300\n",
            "34/34 [==============================] - 0s 4ms/step - loss: 2021.5577 - mae: 2021.5577\n",
            "Epoch 76/300\n",
            "34/34 [==============================] - 0s 4ms/step - loss: 2010.6879 - mae: 2010.6879\n",
            "Epoch 77/300\n",
            "34/34 [==============================] - 0s 3ms/step - loss: 2028.7196 - mae: 2028.7196\n",
            "Epoch 78/300\n",
            "34/34 [==============================] - 0s 3ms/step - loss: 2055.0615 - mae: 2055.0615\n",
            "Epoch 79/300\n",
            "34/34 [==============================] - 0s 3ms/step - loss: 2107.0471 - mae: 2107.0471\n",
            "Epoch 80/300\n",
            "34/34 [==============================] - 0s 4ms/step - loss: 1981.8729 - mae: 1981.8729\n",
            "Epoch 81/300\n",
            "34/34 [==============================] - 0s 4ms/step - loss: 2025.0948 - mae: 2025.0948\n",
            "Epoch 82/300\n",
            "34/34 [==============================] - 0s 3ms/step - loss: 2071.5388 - mae: 2071.5388\n",
            "Epoch 83/300\n",
            "34/34 [==============================] - 0s 4ms/step - loss: 2036.0386 - mae: 2036.0386\n",
            "Epoch 84/300\n",
            "34/34 [==============================] - 0s 3ms/step - loss: 2033.3423 - mae: 2033.3423\n",
            "Epoch 85/300\n",
            "34/34 [==============================] - 0s 3ms/step - loss: 2033.7250 - mae: 2033.7250\n",
            "Epoch 86/300\n",
            "34/34 [==============================] - 0s 4ms/step - loss: 2008.2042 - mae: 2008.2042\n",
            "Epoch 87/300\n",
            "34/34 [==============================] - 0s 3ms/step - loss: 2107.4387 - mae: 2107.4387\n",
            "Epoch 88/300\n",
            "34/34 [==============================] - 0s 3ms/step - loss: 2062.3140 - mae: 2062.3140\n",
            "Epoch 89/300\n",
            "34/34 [==============================] - 0s 4ms/step - loss: 1967.5841 - mae: 1967.5841\n",
            "Epoch 90/300\n",
            "34/34 [==============================] - 0s 4ms/step - loss: 1955.3942 - mae: 1955.3942\n",
            "Epoch 91/300\n",
            "34/34 [==============================] - 0s 4ms/step - loss: 1964.8439 - mae: 1964.8439\n",
            "Epoch 92/300\n",
            "34/34 [==============================] - 0s 4ms/step - loss: 1991.6671 - mae: 1991.6671\n",
            "Epoch 93/300\n",
            "34/34 [==============================] - 0s 3ms/step - loss: 2088.5193 - mae: 2088.5193\n",
            "Epoch 94/300\n",
            "34/34 [==============================] - 0s 4ms/step - loss: 2047.8164 - mae: 2047.8164\n",
            "Epoch 95/300\n",
            "34/34 [==============================] - 0s 4ms/step - loss: 2085.9189 - mae: 2085.9189\n",
            "Epoch 96/300\n",
            "34/34 [==============================] - 0s 4ms/step - loss: 1979.9332 - mae: 1979.9332\n",
            "Epoch 97/300\n",
            "34/34 [==============================] - 0s 4ms/step - loss: 2055.2979 - mae: 2055.2979\n",
            "Epoch 98/300\n",
            "34/34 [==============================] - 0s 4ms/step - loss: 2013.4166 - mae: 2013.4166\n",
            "Epoch 99/300\n",
            "34/34 [==============================] - 0s 4ms/step - loss: 2018.0596 - mae: 2018.0596\n",
            "Epoch 100/300\n",
            "34/34 [==============================] - 0s 3ms/step - loss: 2026.4719 - mae: 2026.4719\n",
            "Epoch 101/300\n",
            "34/34 [==============================] - 0s 4ms/step - loss: 1945.9298 - mae: 1945.9298\n",
            "Epoch 102/300\n",
            "34/34 [==============================] - 0s 4ms/step - loss: 2073.8062 - mae: 2073.8062\n",
            "Epoch 103/300\n",
            "34/34 [==============================] - 0s 4ms/step - loss: 1992.1084 - mae: 1992.1084\n",
            "Epoch 104/300\n",
            "34/34 [==============================] - 0s 4ms/step - loss: 1965.6296 - mae: 1965.6296\n",
            "Epoch 105/300\n",
            "34/34 [==============================] - 0s 4ms/step - loss: 1950.9838 - mae: 1950.9838\n",
            "Epoch 106/300\n",
            "34/34 [==============================] - 0s 4ms/step - loss: 1933.4083 - mae: 1933.4083\n",
            "Epoch 107/300\n",
            "34/34 [==============================] - 0s 4ms/step - loss: 1946.1617 - mae: 1946.1617\n",
            "Epoch 108/300\n",
            "34/34 [==============================] - 0s 4ms/step - loss: 2021.7871 - mae: 2021.7871\n",
            "Epoch 109/300\n",
            "34/34 [==============================] - 0s 4ms/step - loss: 2112.1367 - mae: 2112.1367\n",
            "Epoch 110/300\n",
            "34/34 [==============================] - 0s 4ms/step - loss: 1997.0269 - mae: 1997.0269\n",
            "Epoch 111/300\n",
            "34/34 [==============================] - 0s 4ms/step - loss: 1943.4677 - mae: 1943.4677\n",
            "Epoch 112/300\n",
            "34/34 [==============================] - 0s 4ms/step - loss: 1989.0762 - mae: 1989.0762\n",
            "Epoch 113/300\n",
            "34/34 [==============================] - 0s 4ms/step - loss: 1947.8539 - mae: 1947.8539\n",
            "Epoch 114/300\n",
            "34/34 [==============================] - 0s 4ms/step - loss: 1941.8235 - mae: 1941.8235\n",
            "Epoch 115/300\n",
            "34/34 [==============================] - 0s 4ms/step - loss: 2184.8843 - mae: 2184.8843\n",
            "Epoch 116/300\n",
            "34/34 [==============================] - 0s 4ms/step - loss: 2009.8842 - mae: 2009.8842\n",
            "Epoch 117/300\n",
            "34/34 [==============================] - 0s 4ms/step - loss: 2017.6904 - mae: 2017.6904\n",
            "Epoch 118/300\n",
            "34/34 [==============================] - 0s 4ms/step - loss: 2102.8596 - mae: 2102.8596\n",
            "Epoch 119/300\n",
            "34/34 [==============================] - 0s 4ms/step - loss: 2020.9902 - mae: 2020.9902\n",
            "Epoch 120/300\n",
            "34/34 [==============================] - 0s 4ms/step - loss: 1962.3035 - mae: 1962.3035\n",
            "Epoch 121/300\n",
            "34/34 [==============================] - 0s 4ms/step - loss: 1963.0535 - mae: 1963.0535\n",
            "Epoch 122/300\n",
            "34/34 [==============================] - 0s 4ms/step - loss: 1908.8448 - mae: 1908.8448\n",
            "Epoch 123/300\n",
            "34/34 [==============================] - 0s 4ms/step - loss: 1994.9619 - mae: 1994.9619\n",
            "Epoch 124/300\n",
            "34/34 [==============================] - 0s 4ms/step - loss: 1977.6593 - mae: 1977.6593\n",
            "Epoch 125/300\n",
            "34/34 [==============================] - 0s 4ms/step - loss: 1949.2202 - mae: 1949.2202\n",
            "Epoch 126/300\n",
            "34/34 [==============================] - 0s 4ms/step - loss: 1991.4143 - mae: 1991.4143\n",
            "Epoch 127/300\n",
            "34/34 [==============================] - 0s 4ms/step - loss: 2138.4270 - mae: 2138.4270\n",
            "Epoch 128/300\n",
            "34/34 [==============================] - 0s 4ms/step - loss: 2054.6873 - mae: 2054.6873\n",
            "Epoch 129/300\n",
            "34/34 [==============================] - 0s 4ms/step - loss: 2006.2418 - mae: 2006.2418\n",
            "Epoch 130/300\n",
            "34/34 [==============================] - 0s 4ms/step - loss: 2075.2292 - mae: 2075.2292\n",
            "Epoch 131/300\n",
            "34/34 [==============================] - 0s 4ms/step - loss: 1975.5928 - mae: 1975.5928\n",
            "Epoch 132/300\n",
            "34/34 [==============================] - 0s 4ms/step - loss: 2027.7030 - mae: 2027.7030\n",
            "Epoch 133/300\n",
            "34/34 [==============================] - 0s 4ms/step - loss: 1933.3807 - mae: 1933.3807\n",
            "Epoch 134/300\n",
            "34/34 [==============================] - 0s 4ms/step - loss: 1956.5165 - mae: 1956.5165\n",
            "Epoch 135/300\n",
            "34/34 [==============================] - 0s 4ms/step - loss: 1931.9103 - mae: 1931.9103\n",
            "Epoch 136/300\n",
            "34/34 [==============================] - 0s 4ms/step - loss: 1993.9407 - mae: 1993.9407\n",
            "Epoch 137/300\n",
            "34/34 [==============================] - 0s 3ms/step - loss: 1989.2009 - mae: 1989.2009\n",
            "Epoch 138/300\n",
            "34/34 [==============================] - 0s 4ms/step - loss: 1973.9481 - mae: 1973.9481\n",
            "Epoch 139/300\n",
            "34/34 [==============================] - 0s 4ms/step - loss: 1952.0387 - mae: 1952.0387\n",
            "Epoch 140/300\n",
            "34/34 [==============================] - 0s 4ms/step - loss: 1935.5221 - mae: 1935.5221\n",
            "Epoch 141/300\n",
            "34/34 [==============================] - 0s 4ms/step - loss: 1949.5494 - mae: 1949.5494\n",
            "Epoch 142/300\n",
            "34/34 [==============================] - 0s 4ms/step - loss: 1930.5093 - mae: 1930.5093\n",
            "Epoch 143/300\n",
            "34/34 [==============================] - 0s 4ms/step - loss: 2026.7863 - mae: 2026.7863\n",
            "Epoch 144/300\n",
            "34/34 [==============================] - 0s 4ms/step - loss: 1928.9244 - mae: 1928.9244\n",
            "Epoch 145/300\n",
            "34/34 [==============================] - 0s 4ms/step - loss: 1993.8955 - mae: 1993.8955\n",
            "Epoch 146/300\n",
            "34/34 [==============================] - 0s 4ms/step - loss: 1937.2738 - mae: 1937.2738\n",
            "Epoch 147/300\n",
            "34/34 [==============================] - 0s 4ms/step - loss: 1980.6224 - mae: 1980.6224\n",
            "Epoch 148/300\n",
            "34/34 [==============================] - 0s 4ms/step - loss: 1978.7004 - mae: 1978.7004\n",
            "Epoch 149/300\n",
            "34/34 [==============================] - 0s 4ms/step - loss: 2080.1748 - mae: 2080.1748\n",
            "Epoch 150/300\n",
            "34/34 [==============================] - 0s 4ms/step - loss: 1958.6760 - mae: 1958.6760\n",
            "Epoch 151/300\n",
            "34/34 [==============================] - 0s 4ms/step - loss: 1933.0613 - mae: 1933.0613\n",
            "Epoch 152/300\n",
            "34/34 [==============================] - 0s 4ms/step - loss: 1959.2892 - mae: 1959.2892\n",
            "Epoch 153/300\n",
            "34/34 [==============================] - 0s 4ms/step - loss: 1941.5375 - mae: 1941.5375\n",
            "Epoch 154/300\n",
            "34/34 [==============================] - 0s 4ms/step - loss: 2015.3140 - mae: 2015.3140\n",
            "Epoch 155/300\n",
            "34/34 [==============================] - 0s 4ms/step - loss: 2026.8239 - mae: 2026.8239\n",
            "Epoch 156/300\n",
            "34/34 [==============================] - 0s 4ms/step - loss: 1950.7258 - mae: 1950.7258\n",
            "Epoch 157/300\n",
            "34/34 [==============================] - 0s 4ms/step - loss: 1997.7341 - mae: 1997.7341\n",
            "Epoch 158/300\n",
            "34/34 [==============================] - 0s 4ms/step - loss: 1971.6210 - mae: 1971.6210\n",
            "Epoch 159/300\n",
            "34/34 [==============================] - 0s 4ms/step - loss: 1977.2651 - mae: 1977.2651\n",
            "Epoch 160/300\n",
            "34/34 [==============================] - 0s 4ms/step - loss: 1978.8929 - mae: 1978.8929\n",
            "Epoch 161/300\n",
            "34/34 [==============================] - 0s 4ms/step - loss: 2045.1656 - mae: 2045.1656\n",
            "Epoch 162/300\n",
            "34/34 [==============================] - 0s 4ms/step - loss: 2065.7334 - mae: 2065.7334\n",
            "Epoch 163/300\n",
            "34/34 [==============================] - 0s 4ms/step - loss: 2015.7341 - mae: 2015.7341\n",
            "Epoch 164/300\n",
            "34/34 [==============================] - 0s 4ms/step - loss: 1954.8635 - mae: 1954.8635\n",
            "Epoch 165/300\n",
            "34/34 [==============================] - 0s 4ms/step - loss: 1958.9309 - mae: 1958.9309\n",
            "Epoch 166/300\n",
            "34/34 [==============================] - 0s 4ms/step - loss: 2057.0776 - mae: 2057.0776\n",
            "Epoch 167/300\n",
            "34/34 [==============================] - 0s 4ms/step - loss: 1979.1248 - mae: 1979.1248\n",
            "Epoch 168/300\n",
            "34/34 [==============================] - 0s 4ms/step - loss: 2131.0688 - mae: 2131.0688\n",
            "Epoch 169/300\n",
            "34/34 [==============================] - 0s 4ms/step - loss: 2109.1218 - mae: 2109.1218\n",
            "Epoch 170/300\n",
            "34/34 [==============================] - 0s 4ms/step - loss: 1970.0292 - mae: 1970.0292\n",
            "Epoch 171/300\n",
            "34/34 [==============================] - 0s 4ms/step - loss: 1962.2654 - mae: 1962.2654\n",
            "Epoch 172/300\n",
            "34/34 [==============================] - 0s 4ms/step - loss: 1927.2036 - mae: 1927.2036\n",
            "Epoch 173/300\n",
            "34/34 [==============================] - 0s 4ms/step - loss: 1952.8448 - mae: 1952.8448\n",
            "Epoch 174/300\n",
            "34/34 [==============================] - 0s 4ms/step - loss: 1954.0892 - mae: 1954.0892\n",
            "Epoch 175/300\n",
            "34/34 [==============================] - 0s 4ms/step - loss: 2016.6458 - mae: 2016.6458\n",
            "Epoch 176/300\n",
            "34/34 [==============================] - 0s 4ms/step - loss: 2094.9294 - mae: 2094.9294\n",
            "Epoch 177/300\n",
            "34/34 [==============================] - 0s 3ms/step - loss: 1940.5721 - mae: 1940.5721\n",
            "Epoch 178/300\n",
            "34/34 [==============================] - 0s 4ms/step - loss: 1946.6956 - mae: 1946.6956\n",
            "Epoch 179/300\n",
            "34/34 [==============================] - 0s 4ms/step - loss: 1928.7609 - mae: 1928.7609\n",
            "Epoch 180/300\n",
            "34/34 [==============================] - 0s 4ms/step - loss: 1991.1042 - mae: 1991.1042\n",
            "Epoch 181/300\n",
            "34/34 [==============================] - 0s 4ms/step - loss: 1963.1628 - mae: 1963.1628\n",
            "Epoch 182/300\n",
            "34/34 [==============================] - 0s 4ms/step - loss: 1916.0122 - mae: 1916.0122\n",
            "Epoch 183/300\n",
            "34/34 [==============================] - 0s 4ms/step - loss: 1920.5200 - mae: 1920.5200\n",
            "Epoch 184/300\n",
            "34/34 [==============================] - 0s 4ms/step - loss: 2083.9634 - mae: 2083.9634\n",
            "Epoch 185/300\n",
            "34/34 [==============================] - 0s 4ms/step - loss: 2023.6832 - mae: 2023.6832\n",
            "Epoch 186/300\n",
            "34/34 [==============================] - 0s 4ms/step - loss: 1943.2322 - mae: 1943.2322\n",
            "Epoch 187/300\n",
            "34/34 [==============================] - 0s 4ms/step - loss: 1897.2726 - mae: 1897.2726\n",
            "Epoch 188/300\n",
            "34/34 [==============================] - 0s 4ms/step - loss: 1957.1307 - mae: 1957.1307\n",
            "Epoch 189/300\n",
            "34/34 [==============================] - 0s 4ms/step - loss: 2145.3179 - mae: 2145.3179\n",
            "Epoch 190/300\n",
            "34/34 [==============================] - 0s 4ms/step - loss: 2040.9343 - mae: 2040.9343\n",
            "Epoch 191/300\n",
            "34/34 [==============================] - 0s 4ms/step - loss: 2005.6649 - mae: 2005.6649\n",
            "Epoch 192/300\n",
            "34/34 [==============================] - 0s 4ms/step - loss: 1961.9855 - mae: 1961.9855\n",
            "Epoch 193/300\n",
            "34/34 [==============================] - 0s 4ms/step - loss: 1982.2944 - mae: 1982.2944\n",
            "Epoch 194/300\n",
            "34/34 [==============================] - 0s 4ms/step - loss: 1980.5355 - mae: 1980.5355\n",
            "Epoch 195/300\n",
            "34/34 [==============================] - 0s 4ms/step - loss: 2060.4263 - mae: 2060.4263\n",
            "Epoch 196/300\n",
            "34/34 [==============================] - 0s 4ms/step - loss: 1992.9956 - mae: 1992.9956\n",
            "Epoch 197/300\n",
            "34/34 [==============================] - 0s 4ms/step - loss: 1979.3165 - mae: 1979.3165\n",
            "Epoch 198/300\n",
            "34/34 [==============================] - 0s 4ms/step - loss: 1926.3187 - mae: 1926.3187\n",
            "Epoch 199/300\n",
            "34/34 [==============================] - 0s 4ms/step - loss: 1925.5764 - mae: 1925.5764\n",
            "Epoch 200/300\n",
            "34/34 [==============================] - 0s 4ms/step - loss: 1974.7255 - mae: 1974.7255\n",
            "Epoch 201/300\n",
            "34/34 [==============================] - 0s 4ms/step - loss: 1975.8057 - mae: 1975.8057\n",
            "Epoch 202/300\n",
            "34/34 [==============================] - 0s 4ms/step - loss: 2150.5020 - mae: 2150.5020\n",
            "Epoch 203/300\n",
            "34/34 [==============================] - 0s 4ms/step - loss: 2004.9208 - mae: 2004.9208\n",
            "Epoch 204/300\n",
            "34/34 [==============================] - 0s 4ms/step - loss: 1963.0332 - mae: 1963.0332\n",
            "Epoch 205/300\n",
            "34/34 [==============================] - 0s 4ms/step - loss: 2016.1046 - mae: 2016.1046\n",
            "Epoch 206/300\n",
            "34/34 [==============================] - 0s 4ms/step - loss: 1963.0673 - mae: 1963.0673\n",
            "Epoch 207/300\n",
            "34/34 [==============================] - 0s 4ms/step - loss: 1995.1357 - mae: 1995.1357\n",
            "Epoch 208/300\n",
            "34/34 [==============================] - 0s 4ms/step - loss: 1977.4437 - mae: 1977.4437\n",
            "Epoch 209/300\n",
            "34/34 [==============================] - 0s 4ms/step - loss: 1942.4205 - mae: 1942.4205\n",
            "Epoch 210/300\n",
            "34/34 [==============================] - 0s 4ms/step - loss: 1940.5583 - mae: 1940.5583\n",
            "Epoch 211/300\n",
            "34/34 [==============================] - 0s 4ms/step - loss: 1936.3472 - mae: 1936.3472\n",
            "Epoch 212/300\n",
            "34/34 [==============================] - 0s 4ms/step - loss: 1997.1416 - mae: 1997.1416\n",
            "Epoch 213/300\n",
            "34/34 [==============================] - 0s 4ms/step - loss: 1955.7679 - mae: 1955.7679\n",
            "Epoch 214/300\n",
            "34/34 [==============================] - 0s 4ms/step - loss: 1952.6176 - mae: 1952.6176\n",
            "Epoch 215/300\n",
            "34/34 [==============================] - 0s 4ms/step - loss: 1952.4093 - mae: 1952.4093\n",
            "Epoch 216/300\n",
            "34/34 [==============================] - 0s 4ms/step - loss: 1934.9862 - mae: 1934.9862\n",
            "Epoch 217/300\n",
            "34/34 [==============================] - 0s 4ms/step - loss: 1939.3134 - mae: 1939.3134\n",
            "Epoch 218/300\n",
            "34/34 [==============================] - 0s 4ms/step - loss: 1897.0260 - mae: 1897.0260\n",
            "Epoch 219/300\n",
            "34/34 [==============================] - 0s 4ms/step - loss: 1895.9290 - mae: 1895.9290\n",
            "Epoch 220/300\n",
            "34/34 [==============================] - 0s 4ms/step - loss: 1936.9669 - mae: 1936.9669\n",
            "Epoch 221/300\n",
            "34/34 [==============================] - 0s 4ms/step - loss: 1956.5292 - mae: 1956.5292\n",
            "Epoch 222/300\n",
            "34/34 [==============================] - 0s 4ms/step - loss: 2041.5841 - mae: 2041.5841\n",
            "Epoch 223/300\n",
            "34/34 [==============================] - 0s 4ms/step - loss: 1975.1549 - mae: 1975.1549\n",
            "Epoch 224/300\n",
            "34/34 [==============================] - 0s 4ms/step - loss: 1999.0240 - mae: 1999.0240\n",
            "Epoch 225/300\n",
            "34/34 [==============================] - 0s 4ms/step - loss: 1936.5579 - mae: 1936.5579\n",
            "Epoch 226/300\n",
            "34/34 [==============================] - 0s 4ms/step - loss: 1946.1742 - mae: 1946.1742\n",
            "Epoch 227/300\n",
            "34/34 [==============================] - 0s 4ms/step - loss: 1919.4835 - mae: 1919.4835\n",
            "Epoch 228/300\n",
            "34/34 [==============================] - 0s 4ms/step - loss: 1945.6520 - mae: 1945.6520\n",
            "Epoch 229/300\n",
            "34/34 [==============================] - 0s 4ms/step - loss: 1970.3951 - mae: 1970.3951\n",
            "Epoch 230/300\n",
            "34/34 [==============================] - 0s 4ms/step - loss: 2089.0735 - mae: 2089.0735\n",
            "Epoch 231/300\n",
            "34/34 [==============================] - 0s 4ms/step - loss: 1990.0665 - mae: 1990.0665\n",
            "Epoch 232/300\n",
            "34/34 [==============================] - 0s 4ms/step - loss: 1946.1769 - mae: 1946.1769\n",
            "Epoch 233/300\n",
            "34/34 [==============================] - 0s 4ms/step - loss: 2058.1377 - mae: 2058.1377\n",
            "Epoch 234/300\n",
            "34/34 [==============================] - 0s 4ms/step - loss: 1971.9680 - mae: 1971.9680\n",
            "Epoch 235/300\n",
            "34/34 [==============================] - 0s 4ms/step - loss: 1962.5432 - mae: 1962.5432\n",
            "Epoch 236/300\n",
            "34/34 [==============================] - 0s 4ms/step - loss: 1951.4674 - mae: 1951.4674\n",
            "Epoch 237/300\n",
            "34/34 [==============================] - 0s 4ms/step - loss: 1962.8093 - mae: 1962.8093\n",
            "Epoch 238/300\n",
            "34/34 [==============================] - 0s 4ms/step - loss: 1936.1204 - mae: 1936.1204\n",
            "Epoch 239/300\n",
            "34/34 [==============================] - 0s 4ms/step - loss: 2052.3528 - mae: 2052.3528\n",
            "Epoch 240/300\n",
            "34/34 [==============================] - 0s 4ms/step - loss: 2072.3491 - mae: 2072.3491\n",
            "Epoch 241/300\n",
            "34/34 [==============================] - 0s 4ms/step - loss: 2045.5941 - mae: 2045.5941\n",
            "Epoch 242/300\n",
            "34/34 [==============================] - 0s 4ms/step - loss: 2060.9668 - mae: 2060.9668\n",
            "Epoch 243/300\n",
            "34/34 [==============================] - 0s 4ms/step - loss: 2041.5217 - mae: 2041.5217\n",
            "Epoch 244/300\n",
            "34/34 [==============================] - 0s 4ms/step - loss: 1985.8934 - mae: 1985.8934\n",
            "Epoch 245/300\n",
            "34/34 [==============================] - 0s 4ms/step - loss: 1933.0681 - mae: 1933.0681\n",
            "Epoch 246/300\n",
            "34/34 [==============================] - 0s 4ms/step - loss: 1974.0869 - mae: 1974.0869\n",
            "Epoch 247/300\n",
            "34/34 [==============================] - 0s 4ms/step - loss: 1943.5503 - mae: 1943.5503\n",
            "Epoch 248/300\n",
            "34/34 [==============================] - 0s 4ms/step - loss: 1987.2161 - mae: 1987.2161\n",
            "Epoch 249/300\n",
            "34/34 [==============================] - 0s 4ms/step - loss: 1934.9874 - mae: 1934.9874\n",
            "Epoch 250/300\n",
            "34/34 [==============================] - 0s 4ms/step - loss: 2013.4708 - mae: 2013.4708\n",
            "Epoch 251/300\n",
            "34/34 [==============================] - 0s 4ms/step - loss: 1965.6110 - mae: 1965.6110\n",
            "Epoch 252/300\n",
            "34/34 [==============================] - 0s 4ms/step - loss: 1947.4885 - mae: 1947.4885\n",
            "Epoch 253/300\n",
            "34/34 [==============================] - 0s 4ms/step - loss: 1964.7296 - mae: 1964.7296\n",
            "Epoch 254/300\n",
            "34/34 [==============================] - 0s 4ms/step - loss: 1969.2262 - mae: 1969.2262\n",
            "Epoch 255/300\n",
            "34/34 [==============================] - 0s 4ms/step - loss: 1978.9880 - mae: 1978.9880\n",
            "Epoch 256/300\n",
            "34/34 [==============================] - 0s 4ms/step - loss: 1944.4307 - mae: 1944.4307\n",
            "Epoch 257/300\n",
            "34/34 [==============================] - 0s 4ms/step - loss: 1925.6117 - mae: 1925.6117\n",
            "Epoch 258/300\n",
            "34/34 [==============================] - 0s 4ms/step - loss: 1957.9757 - mae: 1957.9757\n",
            "Epoch 259/300\n",
            "34/34 [==============================] - 0s 4ms/step - loss: 1970.6759 - mae: 1970.6759\n",
            "Epoch 260/300\n",
            "34/34 [==============================] - 0s 4ms/step - loss: 1967.7708 - mae: 1967.7708\n",
            "Epoch 261/300\n",
            "34/34 [==============================] - 0s 4ms/step - loss: 2026.5425 - mae: 2026.5425\n",
            "Epoch 262/300\n",
            "34/34 [==============================] - 0s 4ms/step - loss: 1926.1855 - mae: 1926.1855\n",
            "Epoch 263/300\n",
            "34/34 [==============================] - 0s 4ms/step - loss: 2083.1892 - mae: 2083.1892\n",
            "Epoch 264/300\n",
            "34/34 [==============================] - 0s 4ms/step - loss: 1977.6306 - mae: 1977.6306\n",
            "Epoch 265/300\n",
            "34/34 [==============================] - 0s 4ms/step - loss: 1899.6600 - mae: 1899.6600\n",
            "Epoch 266/300\n",
            "34/34 [==============================] - 0s 4ms/step - loss: 2053.0786 - mae: 2053.0786\n",
            "Epoch 267/300\n",
            "34/34 [==============================] - 0s 4ms/step - loss: 1919.5198 - mae: 1919.5198\n",
            "Epoch 268/300\n",
            "34/34 [==============================] - 0s 4ms/step - loss: 1903.0536 - mae: 1903.0536\n",
            "Epoch 269/300\n",
            "34/34 [==============================] - 0s 4ms/step - loss: 1976.7219 - mae: 1976.7219\n",
            "Epoch 270/300\n",
            "34/34 [==============================] - 0s 4ms/step - loss: 1915.6031 - mae: 1915.6031\n",
            "Epoch 271/300\n",
            "34/34 [==============================] - 0s 4ms/step - loss: 1934.6897 - mae: 1934.6897\n",
            "Epoch 272/300\n",
            "34/34 [==============================] - 0s 4ms/step - loss: 1916.5461 - mae: 1916.5461\n",
            "Epoch 273/300\n",
            "34/34 [==============================] - 0s 4ms/step - loss: 1996.0442 - mae: 1996.0442\n",
            "Epoch 274/300\n",
            "34/34 [==============================] - 0s 4ms/step - loss: 1904.3251 - mae: 1904.3251\n",
            "Epoch 275/300\n",
            "34/34 [==============================] - 0s 4ms/step - loss: 1999.5261 - mae: 1999.5261\n",
            "Epoch 276/300\n",
            "34/34 [==============================] - 0s 4ms/step - loss: 1922.1321 - mae: 1922.1321\n",
            "Epoch 277/300\n",
            "34/34 [==============================] - 0s 4ms/step - loss: 1907.5610 - mae: 1907.5610\n",
            "Epoch 278/300\n",
            "34/34 [==============================] - 0s 4ms/step - loss: 1960.8224 - mae: 1960.8224\n",
            "Epoch 279/300\n",
            "34/34 [==============================] - 0s 4ms/step - loss: 1898.1090 - mae: 1898.1090\n",
            "Epoch 280/300\n",
            "34/34 [==============================] - 0s 4ms/step - loss: 2000.9816 - mae: 2000.9816\n",
            "Epoch 281/300\n",
            "34/34 [==============================] - 0s 4ms/step - loss: 1921.5272 - mae: 1921.5272\n",
            "Epoch 282/300\n",
            "34/34 [==============================] - 0s 4ms/step - loss: 1954.8850 - mae: 1954.8850\n",
            "Epoch 283/300\n",
            "34/34 [==============================] - 0s 4ms/step - loss: 1958.9092 - mae: 1958.9092\n",
            "Epoch 284/300\n",
            "34/34 [==============================] - 0s 4ms/step - loss: 1972.6986 - mae: 1972.6986\n",
            "Epoch 285/300\n",
            "34/34 [==============================] - 0s 4ms/step - loss: 1919.7214 - mae: 1919.7214\n",
            "Epoch 286/300\n",
            "34/34 [==============================] - 0s 4ms/step - loss: 1950.8666 - mae: 1950.8666\n",
            "Epoch 287/300\n",
            "34/34 [==============================] - 0s 4ms/step - loss: 1872.0699 - mae: 1872.0699\n",
            "Epoch 288/300\n",
            "34/34 [==============================] - 0s 4ms/step - loss: 1927.2517 - mae: 1927.2517\n",
            "Epoch 289/300\n",
            "34/34 [==============================] - 0s 4ms/step - loss: 1928.4772 - mae: 1928.4772\n",
            "Epoch 290/300\n",
            "34/34 [==============================] - 0s 4ms/step - loss: 1972.3040 - mae: 1972.3040\n",
            "Epoch 291/300\n",
            "34/34 [==============================] - 0s 4ms/step - loss: 1918.2467 - mae: 1918.2467\n",
            "Epoch 292/300\n",
            "34/34 [==============================] - 0s 4ms/step - loss: 1941.4448 - mae: 1941.4448\n",
            "Epoch 293/300\n",
            "34/34 [==============================] - 0s 4ms/step - loss: 2022.3182 - mae: 2022.3182\n",
            "Epoch 294/300\n",
            "34/34 [==============================] - 0s 4ms/step - loss: 1945.2786 - mae: 1945.2786\n",
            "Epoch 295/300\n",
            "34/34 [==============================] - 0s 4ms/step - loss: 1933.8333 - mae: 1933.8333\n",
            "Epoch 296/300\n",
            "34/34 [==============================] - 0s 4ms/step - loss: 1990.0680 - mae: 1990.0680\n",
            "Epoch 297/300\n",
            "34/34 [==============================] - 0s 4ms/step - loss: 1938.5094 - mae: 1938.5094\n",
            "Epoch 298/300\n",
            "34/34 [==============================] - 0s 4ms/step - loss: 1928.9866 - mae: 1928.9866\n",
            "Epoch 299/300\n",
            "34/34 [==============================] - 0s 4ms/step - loss: 1992.3254 - mae: 1992.3254\n",
            "Epoch 300/300\n",
            "34/34 [==============================] - 0s 4ms/step - loss: 2008.6731 - mae: 2008.6731\n"
          ]
        },
        {
          "output_type": "execute_result",
          "data": {
            "text/plain": [
              "<keras.callbacks.History at 0x7fe5a036a290>"
            ]
          },
          "metadata": {},
          "execution_count": 8
        }
      ]
    },
    {
      "cell_type": "code",
      "metadata": {
        "id": "MUUWUJveNg51",
        "colab": {
          "base_uri": "https://localhost:8080/"
        },
        "outputId": "522e425c-f7a7-435a-cedc-dbed99cbf2d3"
      },
      "source": [
        "model2.evaluate(x_test,y_test)"
      ],
      "execution_count": null,
      "outputs": [
        {
          "output_type": "stream",
          "name": "stdout",
          "text": [
            "9/9 [==============================] - 0s 3ms/step - loss: 2268.8086 - mae: 2268.8086\n"
          ]
        },
        {
          "output_type": "execute_result",
          "data": {
            "text/plain": [
              "[2268.80859375, 2268.80859375]"
            ]
          },
          "metadata": {},
          "execution_count": 9
        }
      ]
    },
    {
      "cell_type": "code",
      "metadata": {
        "id": "suH-zmnYNuln",
        "colab": {
          "base_uri": "https://localhost:8080/"
        },
        "outputId": "85a90470-579b-423c-92b6-86bcf8e10bb7"
      },
      "source": [
        "tf.random.set_seed(42)\n",
        "\n",
        "model3 = tf.keras.Sequential([\n",
        "                              tf.keras.layers.Dense(100, activation=\"relu\"),\n",
        "                              tf.keras.layers.Dense(100,activation=\"relu\"),\n",
        "                              tf.keras.layers.Dense(1)\n",
        "])\n",
        "\n",
        "model3.compile(loss=tf.keras.losses.mae,\n",
        "               optimizer= tf.keras.optimizers.Adam(learning_rate=0.1),\n",
        "               metrics=[\"mae\"])\n",
        "\n",
        "history = model3.fit(x_train,y_train,epochs=300)"
      ],
      "execution_count": null,
      "outputs": [
        {
          "output_type": "stream",
          "name": "stdout",
          "text": [
            "Epoch 1/300\n",
            "34/34 [==============================] - 1s 4ms/step - loss: 8560.3770 - mae: 8560.3770\n",
            "Epoch 2/300\n",
            "34/34 [==============================] - 0s 4ms/step - loss: 6475.7729 - mae: 6475.7729\n",
            "Epoch 3/300\n",
            "34/34 [==============================] - 0s 4ms/step - loss: 4865.7842 - mae: 4865.7842\n",
            "Epoch 4/300\n",
            "34/34 [==============================] - 0s 4ms/step - loss: 3988.4597 - mae: 3988.4597\n",
            "Epoch 5/300\n",
            "34/34 [==============================] - 0s 4ms/step - loss: 3836.7290 - mae: 3836.7290\n",
            "Epoch 6/300\n",
            "34/34 [==============================] - 0s 4ms/step - loss: 3649.8303 - mae: 3649.8303\n",
            "Epoch 7/300\n",
            "34/34 [==============================] - 0s 4ms/step - loss: 3290.2451 - mae: 3290.2451\n",
            "Epoch 8/300\n",
            "34/34 [==============================] - 0s 4ms/step - loss: 3199.5010 - mae: 3199.5010\n",
            "Epoch 9/300\n",
            "34/34 [==============================] - 0s 4ms/step - loss: 3272.6411 - mae: 3272.6411\n",
            "Epoch 10/300\n",
            "34/34 [==============================] - 0s 4ms/step - loss: 3004.4607 - mae: 3004.4607\n",
            "Epoch 11/300\n",
            "34/34 [==============================] - 0s 4ms/step - loss: 2882.1353 - mae: 2882.1353\n",
            "Epoch 12/300\n",
            "34/34 [==============================] - 0s 4ms/step - loss: 2871.0325 - mae: 2871.0325\n",
            "Epoch 13/300\n",
            "34/34 [==============================] - 0s 4ms/step - loss: 2770.4812 - mae: 2770.4812\n",
            "Epoch 14/300\n",
            "34/34 [==============================] - 0s 4ms/step - loss: 2584.6921 - mae: 2584.6921\n",
            "Epoch 15/300\n",
            "34/34 [==============================] - 0s 4ms/step - loss: 3262.6672 - mae: 3262.6672\n",
            "Epoch 16/300\n",
            "34/34 [==============================] - 0s 4ms/step - loss: 2934.4336 - mae: 2934.4336\n",
            "Epoch 17/300\n",
            "34/34 [==============================] - 0s 4ms/step - loss: 2708.8459 - mae: 2708.8459\n",
            "Epoch 18/300\n",
            "34/34 [==============================] - 0s 4ms/step - loss: 2494.8179 - mae: 2494.8179\n",
            "Epoch 19/300\n",
            "34/34 [==============================] - 0s 4ms/step - loss: 2495.7024 - mae: 2495.7024\n",
            "Epoch 20/300\n",
            "34/34 [==============================] - 0s 4ms/step - loss: 2583.6650 - mae: 2583.6650\n",
            "Epoch 21/300\n",
            "34/34 [==============================] - 0s 4ms/step - loss: 2930.5435 - mae: 2930.5435\n",
            "Epoch 22/300\n",
            "34/34 [==============================] - 0s 4ms/step - loss: 3005.9104 - mae: 3005.9104\n",
            "Epoch 23/300\n",
            "34/34 [==============================] - 0s 4ms/step - loss: 2385.5996 - mae: 2385.5996\n",
            "Epoch 24/300\n",
            "34/34 [==============================] - 0s 4ms/step - loss: 2691.6033 - mae: 2691.6033\n",
            "Epoch 25/300\n",
            "34/34 [==============================] - 0s 3ms/step - loss: 2549.6079 - mae: 2549.6079\n",
            "Epoch 26/300\n",
            "34/34 [==============================] - 0s 3ms/step - loss: 2305.6951 - mae: 2305.6951\n",
            "Epoch 27/300\n",
            "34/34 [==============================] - 0s 4ms/step - loss: 2531.0046 - mae: 2531.0046\n",
            "Epoch 28/300\n",
            "34/34 [==============================] - 0s 4ms/step - loss: 2545.4021 - mae: 2545.4021\n",
            "Epoch 29/300\n",
            "34/34 [==============================] - 0s 4ms/step - loss: 2374.5110 - mae: 2374.5112\n",
            "Epoch 30/300\n",
            "34/34 [==============================] - 0s 4ms/step - loss: 2343.7649 - mae: 2343.7649\n",
            "Epoch 31/300\n",
            "34/34 [==============================] - 0s 4ms/step - loss: 2459.4587 - mae: 2459.4587\n",
            "Epoch 32/300\n",
            "34/34 [==============================] - 0s 4ms/step - loss: 2616.5742 - mae: 2616.5742\n",
            "Epoch 33/300\n",
            "34/34 [==============================] - 0s 4ms/step - loss: 2156.5933 - mae: 2156.5933\n",
            "Epoch 34/300\n",
            "34/34 [==============================] - 0s 4ms/step - loss: 2164.9802 - mae: 2164.9802\n",
            "Epoch 35/300\n",
            "34/34 [==============================] - 0s 4ms/step - loss: 2247.0071 - mae: 2247.0071\n",
            "Epoch 36/300\n",
            "34/34 [==============================] - 0s 4ms/step - loss: 2288.5667 - mae: 2288.5667\n",
            "Epoch 37/300\n",
            "34/34 [==============================] - 0s 3ms/step - loss: 2496.0796 - mae: 2496.0796\n",
            "Epoch 38/300\n",
            "34/34 [==============================] - 0s 4ms/step - loss: 2453.7363 - mae: 2453.7363\n",
            "Epoch 39/300\n",
            "34/34 [==============================] - 0s 4ms/step - loss: 2326.1274 - mae: 2326.1274\n",
            "Epoch 40/300\n",
            "34/34 [==============================] - 0s 4ms/step - loss: 2469.6956 - mae: 2469.6956\n",
            "Epoch 41/300\n",
            "34/34 [==============================] - 0s 4ms/step - loss: 2381.5486 - mae: 2381.5486\n",
            "Epoch 42/300\n",
            "34/34 [==============================] - 0s 4ms/step - loss: 2383.4319 - mae: 2383.4319\n",
            "Epoch 43/300\n",
            "34/34 [==============================] - 0s 4ms/step - loss: 2296.8030 - mae: 2296.8030\n",
            "Epoch 44/300\n",
            "34/34 [==============================] - 0s 4ms/step - loss: 2177.5022 - mae: 2177.5022\n",
            "Epoch 45/300\n",
            "34/34 [==============================] - 0s 4ms/step - loss: 2139.2268 - mae: 2139.2268\n",
            "Epoch 46/300\n",
            "34/34 [==============================] - 0s 4ms/step - loss: 2214.3892 - mae: 2214.3892\n",
            "Epoch 47/300\n",
            "34/34 [==============================] - 0s 4ms/step - loss: 2490.8435 - mae: 2490.8435\n",
            "Epoch 48/300\n",
            "34/34 [==============================] - 0s 4ms/step - loss: 2098.8879 - mae: 2098.8879\n",
            "Epoch 49/300\n",
            "34/34 [==============================] - 0s 4ms/step - loss: 2338.5710 - mae: 2338.5710\n",
            "Epoch 50/300\n",
            "34/34 [==============================] - 0s 4ms/step - loss: 2060.2173 - mae: 2060.2173\n",
            "Epoch 51/300\n",
            "34/34 [==============================] - 0s 4ms/step - loss: 2204.5955 - mae: 2204.5955\n",
            "Epoch 52/300\n",
            "34/34 [==============================] - 0s 4ms/step - loss: 2164.7249 - mae: 2164.7249\n",
            "Epoch 53/300\n",
            "34/34 [==============================] - 0s 4ms/step - loss: 2108.4617 - mae: 2108.4617\n",
            "Epoch 54/300\n",
            "34/34 [==============================] - 0s 4ms/step - loss: 2404.6238 - mae: 2404.6238\n",
            "Epoch 55/300\n",
            "34/34 [==============================] - 0s 4ms/step - loss: 2437.8154 - mae: 2437.8154\n",
            "Epoch 56/300\n",
            "34/34 [==============================] - 0s 4ms/step - loss: 2253.7678 - mae: 2253.7678\n",
            "Epoch 57/300\n",
            "34/34 [==============================] - 0s 4ms/step - loss: 2132.7832 - mae: 2132.7832\n",
            "Epoch 58/300\n",
            "34/34 [==============================] - 0s 4ms/step - loss: 2251.7415 - mae: 2251.7415\n",
            "Epoch 59/300\n",
            "34/34 [==============================] - 0s 4ms/step - loss: 2350.5237 - mae: 2350.5237\n",
            "Epoch 60/300\n",
            "34/34 [==============================] - 0s 4ms/step - loss: 2098.8093 - mae: 2098.8093\n",
            "Epoch 61/300\n",
            "34/34 [==============================] - 0s 4ms/step - loss: 2181.2595 - mae: 2181.2595\n",
            "Epoch 62/300\n",
            "34/34 [==============================] - 0s 4ms/step - loss: 2153.4106 - mae: 2153.4106\n",
            "Epoch 63/300\n",
            "34/34 [==============================] - 0s 4ms/step - loss: 2072.0925 - mae: 2072.0925\n",
            "Epoch 64/300\n",
            "34/34 [==============================] - 0s 4ms/step - loss: 2291.4578 - mae: 2291.4578\n",
            "Epoch 65/300\n",
            "34/34 [==============================] - 0s 4ms/step - loss: 2283.9956 - mae: 2283.9956\n",
            "Epoch 66/300\n",
            "34/34 [==============================] - 0s 4ms/step - loss: 1984.6481 - mae: 1984.6481\n",
            "Epoch 67/300\n",
            "34/34 [==============================] - 0s 4ms/step - loss: 2129.4233 - mae: 2129.4233\n",
            "Epoch 68/300\n",
            "34/34 [==============================] - 0s 4ms/step - loss: 2234.7712 - mae: 2234.7712\n",
            "Epoch 69/300\n",
            "34/34 [==============================] - 0s 4ms/step - loss: 1998.0212 - mae: 1998.0212\n",
            "Epoch 70/300\n",
            "34/34 [==============================] - 0s 4ms/step - loss: 2083.1921 - mae: 2083.1921\n",
            "Epoch 71/300\n",
            "34/34 [==============================] - 0s 4ms/step - loss: 1980.9392 - mae: 1980.9392\n",
            "Epoch 72/300\n",
            "34/34 [==============================] - 0s 4ms/step - loss: 2204.6743 - mae: 2204.6743\n",
            "Epoch 73/300\n",
            "34/34 [==============================] - 0s 4ms/step - loss: 1985.8962 - mae: 1985.8962\n",
            "Epoch 74/300\n",
            "34/34 [==============================] - 0s 4ms/step - loss: 2167.5972 - mae: 2167.5972\n",
            "Epoch 75/300\n",
            "34/34 [==============================] - 0s 4ms/step - loss: 2433.4453 - mae: 2433.4453\n",
            "Epoch 76/300\n",
            "34/34 [==============================] - 0s 4ms/step - loss: 2133.3687 - mae: 2133.3687\n",
            "Epoch 77/300\n",
            "34/34 [==============================] - 0s 4ms/step - loss: 2114.4443 - mae: 2114.4443\n",
            "Epoch 78/300\n",
            "34/34 [==============================] - 0s 4ms/step - loss: 2153.5850 - mae: 2153.5850\n",
            "Epoch 79/300\n",
            "34/34 [==============================] - 0s 4ms/step - loss: 2105.5852 - mae: 2105.5852\n",
            "Epoch 80/300\n",
            "34/34 [==============================] - 0s 4ms/step - loss: 2061.7859 - mae: 2061.7859\n",
            "Epoch 81/300\n",
            "34/34 [==============================] - 0s 4ms/step - loss: 2068.5403 - mae: 2068.5403\n",
            "Epoch 82/300\n",
            "34/34 [==============================] - 0s 4ms/step - loss: 1959.0903 - mae: 1959.0903\n",
            "Epoch 83/300\n",
            "34/34 [==============================] - 0s 4ms/step - loss: 2007.6089 - mae: 2007.6089\n",
            "Epoch 84/300\n",
            "34/34 [==============================] - 0s 4ms/step - loss: 2071.9631 - mae: 2071.9631\n",
            "Epoch 85/300\n",
            "34/34 [==============================] - 0s 4ms/step - loss: 1897.4635 - mae: 1897.4635\n",
            "Epoch 86/300\n",
            "34/34 [==============================] - 0s 4ms/step - loss: 1928.4985 - mae: 1928.4985\n",
            "Epoch 87/300\n",
            "34/34 [==============================] - 0s 4ms/step - loss: 1933.1360 - mae: 1933.1360\n",
            "Epoch 88/300\n",
            "34/34 [==============================] - 0s 4ms/step - loss: 2112.9248 - mae: 2112.9248\n",
            "Epoch 89/300\n",
            "34/34 [==============================] - 0s 4ms/step - loss: 1920.5923 - mae: 1920.5923\n",
            "Epoch 90/300\n",
            "34/34 [==============================] - 0s 4ms/step - loss: 1890.3374 - mae: 1890.3374\n",
            "Epoch 91/300\n",
            "34/34 [==============================] - 0s 4ms/step - loss: 2028.4811 - mae: 2028.4811\n",
            "Epoch 92/300\n",
            "34/34 [==============================] - 0s 4ms/step - loss: 1980.9965 - mae: 1980.9965\n",
            "Epoch 93/300\n",
            "34/34 [==============================] - 0s 4ms/step - loss: 1990.3691 - mae: 1990.3691\n",
            "Epoch 94/300\n",
            "34/34 [==============================] - 0s 4ms/step - loss: 2156.7429 - mae: 2156.7429\n",
            "Epoch 95/300\n",
            "34/34 [==============================] - 0s 4ms/step - loss: 1905.9095 - mae: 1905.9095\n",
            "Epoch 96/300\n",
            "34/34 [==============================] - 0s 4ms/step - loss: 1871.8491 - mae: 1871.8491\n",
            "Epoch 97/300\n",
            "34/34 [==============================] - 0s 4ms/step - loss: 2045.3303 - mae: 2045.3303\n",
            "Epoch 98/300\n",
            "34/34 [==============================] - 0s 4ms/step - loss: 2039.8878 - mae: 2039.8878\n",
            "Epoch 99/300\n",
            "34/34 [==============================] - 0s 4ms/step - loss: 1930.0391 - mae: 1930.0391\n",
            "Epoch 100/300\n",
            "34/34 [==============================] - 0s 4ms/step - loss: 2099.9539 - mae: 2099.9539\n",
            "Epoch 101/300\n",
            "34/34 [==============================] - 0s 4ms/step - loss: 1953.8689 - mae: 1953.8689\n",
            "Epoch 102/300\n",
            "34/34 [==============================] - 0s 4ms/step - loss: 1995.5696 - mae: 1995.5696\n",
            "Epoch 103/300\n",
            "34/34 [==============================] - 0s 4ms/step - loss: 1927.4163 - mae: 1927.4163\n",
            "Epoch 104/300\n",
            "34/34 [==============================] - 0s 4ms/step - loss: 2413.6938 - mae: 2413.6938\n",
            "Epoch 105/300\n",
            "34/34 [==============================] - 0s 4ms/step - loss: 2117.2617 - mae: 2117.2617\n",
            "Epoch 106/300\n",
            "34/34 [==============================] - 0s 4ms/step - loss: 2213.6953 - mae: 2213.6953\n",
            "Epoch 107/300\n",
            "34/34 [==============================] - 0s 4ms/step - loss: 1912.5182 - mae: 1912.5182\n",
            "Epoch 108/300\n",
            "34/34 [==============================] - 0s 4ms/step - loss: 2075.9067 - mae: 2075.9067\n",
            "Epoch 109/300\n",
            "34/34 [==============================] - 0s 4ms/step - loss: 1908.2444 - mae: 1908.2444\n",
            "Epoch 110/300\n",
            "34/34 [==============================] - 0s 4ms/step - loss: 1903.4723 - mae: 1903.4723\n",
            "Epoch 111/300\n",
            "34/34 [==============================] - 0s 4ms/step - loss: 1926.5924 - mae: 1926.5924\n",
            "Epoch 112/300\n",
            "34/34 [==============================] - 0s 4ms/step - loss: 1967.0271 - mae: 1967.0271\n",
            "Epoch 113/300\n",
            "34/34 [==============================] - 0s 4ms/step - loss: 1845.5349 - mae: 1845.5349\n",
            "Epoch 114/300\n",
            "34/34 [==============================] - 0s 4ms/step - loss: 1929.4303 - mae: 1929.4303\n",
            "Epoch 115/300\n",
            "34/34 [==============================] - 0s 4ms/step - loss: 1950.0820 - mae: 1950.0820\n",
            "Epoch 116/300\n",
            "34/34 [==============================] - 0s 4ms/step - loss: 2092.5771 - mae: 2092.5771\n",
            "Epoch 117/300\n",
            "34/34 [==============================] - 0s 4ms/step - loss: 2054.8831 - mae: 2054.8831\n",
            "Epoch 118/300\n",
            "34/34 [==============================] - 0s 4ms/step - loss: 2086.4277 - mae: 2086.4277\n",
            "Epoch 119/300\n",
            "34/34 [==============================] - 0s 4ms/step - loss: 1829.5936 - mae: 1829.5936\n",
            "Epoch 120/300\n",
            "34/34 [==============================] - 0s 4ms/step - loss: 1855.6660 - mae: 1855.6660\n",
            "Epoch 121/300\n",
            "34/34 [==============================] - 0s 4ms/step - loss: 1870.1581 - mae: 1870.1581\n",
            "Epoch 122/300\n",
            "34/34 [==============================] - 0s 4ms/step - loss: 2117.4175 - mae: 2117.4175\n",
            "Epoch 123/300\n",
            "34/34 [==============================] - 0s 4ms/step - loss: 2109.9949 - mae: 2109.9949\n",
            "Epoch 124/300\n",
            "34/34 [==============================] - 0s 4ms/step - loss: 1840.5388 - mae: 1840.5388\n",
            "Epoch 125/300\n",
            "34/34 [==============================] - 0s 4ms/step - loss: 2044.1002 - mae: 2044.1002\n",
            "Epoch 126/300\n",
            "34/34 [==============================] - 0s 4ms/step - loss: 1879.9370 - mae: 1879.9370\n",
            "Epoch 127/300\n",
            "34/34 [==============================] - 0s 4ms/step - loss: 1884.8529 - mae: 1884.8529\n",
            "Epoch 128/300\n",
            "34/34 [==============================] - 0s 4ms/step - loss: 1909.8492 - mae: 1909.8492\n",
            "Epoch 129/300\n",
            "34/34 [==============================] - 0s 4ms/step - loss: 1784.2749 - mae: 1784.2749\n",
            "Epoch 130/300\n",
            "34/34 [==============================] - 0s 4ms/step - loss: 1856.6993 - mae: 1856.6993\n",
            "Epoch 131/300\n",
            "34/34 [==============================] - 0s 4ms/step - loss: 1881.3694 - mae: 1881.3694\n",
            "Epoch 132/300\n",
            "34/34 [==============================] - 0s 4ms/step - loss: 1907.2561 - mae: 1907.2561\n",
            "Epoch 133/300\n",
            "34/34 [==============================] - 0s 4ms/step - loss: 1845.3003 - mae: 1845.3003\n",
            "Epoch 134/300\n",
            "34/34 [==============================] - 0s 4ms/step - loss: 1842.8654 - mae: 1842.8654\n",
            "Epoch 135/300\n",
            "34/34 [==============================] - 0s 4ms/step - loss: 1914.6727 - mae: 1914.6727\n",
            "Epoch 136/300\n",
            "34/34 [==============================] - 0s 4ms/step - loss: 1828.5852 - mae: 1828.5852\n",
            "Epoch 137/300\n",
            "34/34 [==============================] - 0s 4ms/step - loss: 1807.8007 - mae: 1807.8007\n",
            "Epoch 138/300\n",
            "34/34 [==============================] - 0s 4ms/step - loss: 1855.9581 - mae: 1855.9581\n",
            "Epoch 139/300\n",
            "34/34 [==============================] - 0s 4ms/step - loss: 2064.9348 - mae: 2064.9348\n",
            "Epoch 140/300\n",
            "34/34 [==============================] - 0s 4ms/step - loss: 1979.8638 - mae: 1979.8638\n",
            "Epoch 141/300\n",
            "34/34 [==============================] - 0s 4ms/step - loss: 1734.3291 - mae: 1734.3291\n",
            "Epoch 142/300\n",
            "34/34 [==============================] - 0s 4ms/step - loss: 1742.5992 - mae: 1742.5992\n",
            "Epoch 143/300\n",
            "34/34 [==============================] - 0s 4ms/step - loss: 1852.5593 - mae: 1852.5593\n",
            "Epoch 144/300\n",
            "34/34 [==============================] - 0s 4ms/step - loss: 1824.2164 - mae: 1824.2164\n",
            "Epoch 145/300\n",
            "34/34 [==============================] - 0s 4ms/step - loss: 1882.5920 - mae: 1882.5920\n",
            "Epoch 146/300\n",
            "34/34 [==============================] - 0s 4ms/step - loss: 1763.2948 - mae: 1763.2948\n",
            "Epoch 147/300\n",
            "34/34 [==============================] - 0s 4ms/step - loss: 1970.4668 - mae: 1970.4668\n",
            "Epoch 148/300\n",
            "34/34 [==============================] - 0s 4ms/step - loss: 1999.3944 - mae: 1999.3944\n",
            "Epoch 149/300\n",
            "34/34 [==============================] - 0s 4ms/step - loss: 2038.4343 - mae: 2038.4343\n",
            "Epoch 150/300\n",
            "34/34 [==============================] - 0s 4ms/step - loss: 1867.7731 - mae: 1867.7731\n",
            "Epoch 151/300\n",
            "34/34 [==============================] - 0s 4ms/step - loss: 1824.4657 - mae: 1824.4657\n",
            "Epoch 152/300\n",
            "34/34 [==============================] - 0s 4ms/step - loss: 1828.3972 - mae: 1828.3972\n",
            "Epoch 153/300\n",
            "34/34 [==============================] - 0s 4ms/step - loss: 1813.6281 - mae: 1813.6281\n",
            "Epoch 154/300\n",
            "34/34 [==============================] - 0s 4ms/step - loss: 1917.4839 - mae: 1917.4839\n",
            "Epoch 155/300\n",
            "34/34 [==============================] - 0s 4ms/step - loss: 1711.5840 - mae: 1711.5840\n",
            "Epoch 156/300\n",
            "34/34 [==============================] - 0s 4ms/step - loss: 1764.8136 - mae: 1764.8136\n",
            "Epoch 157/300\n",
            "34/34 [==============================] - 0s 4ms/step - loss: 1772.8567 - mae: 1772.8567\n",
            "Epoch 158/300\n",
            "34/34 [==============================] - 0s 4ms/step - loss: 1792.0206 - mae: 1792.0206\n",
            "Epoch 159/300\n",
            "34/34 [==============================] - 0s 4ms/step - loss: 1851.3616 - mae: 1851.3616\n",
            "Epoch 160/300\n",
            "34/34 [==============================] - 0s 4ms/step - loss: 1996.2078 - mae: 1996.2078\n",
            "Epoch 161/300\n",
            "34/34 [==============================] - 0s 4ms/step - loss: 1913.7542 - mae: 1913.7542\n",
            "Epoch 162/300\n",
            "34/34 [==============================] - 0s 4ms/step - loss: 1995.3439 - mae: 1995.3439\n",
            "Epoch 163/300\n",
            "34/34 [==============================] - 0s 4ms/step - loss: 1962.2355 - mae: 1962.2355\n",
            "Epoch 164/300\n",
            "34/34 [==============================] - 0s 4ms/step - loss: 1893.6072 - mae: 1893.6072\n",
            "Epoch 165/300\n",
            "34/34 [==============================] - 0s 4ms/step - loss: 1869.9052 - mae: 1869.9052\n",
            "Epoch 166/300\n",
            "34/34 [==============================] - 0s 4ms/step - loss: 1740.4955 - mae: 1740.4955\n",
            "Epoch 167/300\n",
            "34/34 [==============================] - 0s 4ms/step - loss: 1789.6733 - mae: 1789.6733\n",
            "Epoch 168/300\n",
            "34/34 [==============================] - 0s 4ms/step - loss: 1899.0903 - mae: 1899.0903\n",
            "Epoch 169/300\n",
            "34/34 [==============================] - 0s 4ms/step - loss: 1799.5306 - mae: 1799.5306\n",
            "Epoch 170/300\n",
            "34/34 [==============================] - 0s 4ms/step - loss: 1800.4967 - mae: 1800.4967\n",
            "Epoch 171/300\n",
            "34/34 [==============================] - 0s 4ms/step - loss: 1750.3643 - mae: 1750.3643\n",
            "Epoch 172/300\n",
            "34/34 [==============================] - 0s 4ms/step - loss: 1763.6237 - mae: 1763.6237\n",
            "Epoch 173/300\n",
            "34/34 [==============================] - 0s 4ms/step - loss: 1784.1434 - mae: 1784.1434\n",
            "Epoch 174/300\n",
            "34/34 [==============================] - 0s 4ms/step - loss: 1737.0072 - mae: 1737.0072\n",
            "Epoch 175/300\n",
            "34/34 [==============================] - 0s 4ms/step - loss: 1962.4504 - mae: 1962.4504\n",
            "Epoch 176/300\n",
            "34/34 [==============================] - 0s 4ms/step - loss: 1814.0900 - mae: 1814.0900\n",
            "Epoch 177/300\n",
            "34/34 [==============================] - 0s 4ms/step - loss: 1720.9342 - mae: 1720.9342\n",
            "Epoch 178/300\n",
            "34/34 [==============================] - 0s 4ms/step - loss: 1780.2242 - mae: 1780.2242\n",
            "Epoch 179/300\n",
            "34/34 [==============================] - 0s 4ms/step - loss: 1814.4893 - mae: 1814.4893\n",
            "Epoch 180/300\n",
            "34/34 [==============================] - 0s 4ms/step - loss: 2019.0544 - mae: 2019.0544\n",
            "Epoch 181/300\n",
            "34/34 [==============================] - 0s 4ms/step - loss: 1894.7390 - mae: 1894.7390\n",
            "Epoch 182/300\n",
            "34/34 [==============================] - 0s 4ms/step - loss: 1666.9733 - mae: 1666.9733\n",
            "Epoch 183/300\n",
            "34/34 [==============================] - 0s 4ms/step - loss: 1857.9893 - mae: 1857.9893\n",
            "Epoch 184/300\n",
            "34/34 [==============================] - 0s 4ms/step - loss: 1773.8206 - mae: 1773.8206\n",
            "Epoch 185/300\n",
            "34/34 [==============================] - 0s 4ms/step - loss: 1760.9113 - mae: 1760.9113\n",
            "Epoch 186/300\n",
            "34/34 [==============================] - 0s 4ms/step - loss: 1826.6858 - mae: 1826.6858\n",
            "Epoch 187/300\n",
            "34/34 [==============================] - 0s 4ms/step - loss: 1656.9763 - mae: 1656.9763\n",
            "Epoch 188/300\n",
            "34/34 [==============================] - 0s 4ms/step - loss: 1680.7795 - mae: 1680.7795\n",
            "Epoch 189/300\n",
            "34/34 [==============================] - 0s 4ms/step - loss: 1861.0944 - mae: 1861.0944\n",
            "Epoch 190/300\n",
            "34/34 [==============================] - 0s 4ms/step - loss: 1846.4050 - mae: 1846.4050\n",
            "Epoch 191/300\n",
            "34/34 [==============================] - 0s 4ms/step - loss: 1776.5870 - mae: 1776.5870\n",
            "Epoch 192/300\n",
            "34/34 [==============================] - 0s 4ms/step - loss: 1725.8944 - mae: 1725.8944\n",
            "Epoch 193/300\n",
            "34/34 [==============================] - 0s 4ms/step - loss: 1723.1487 - mae: 1723.1487\n",
            "Epoch 194/300\n",
            "34/34 [==============================] - 0s 4ms/step - loss: 1680.7262 - mae: 1680.7262\n",
            "Epoch 195/300\n",
            "34/34 [==============================] - 0s 4ms/step - loss: 1698.9043 - mae: 1698.9043\n",
            "Epoch 196/300\n",
            "34/34 [==============================] - 0s 4ms/step - loss: 1804.3411 - mae: 1804.3411\n",
            "Epoch 197/300\n",
            "34/34 [==============================] - 0s 4ms/step - loss: 1886.4652 - mae: 1886.4652\n",
            "Epoch 198/300\n",
            "34/34 [==============================] - 0s 4ms/step - loss: 1687.0688 - mae: 1687.0688\n",
            "Epoch 199/300\n",
            "34/34 [==============================] - 0s 4ms/step - loss: 1713.9984 - mae: 1713.9984\n",
            "Epoch 200/300\n",
            "34/34 [==============================] - 0s 4ms/step - loss: 1756.2726 - mae: 1756.2726\n",
            "Epoch 201/300\n",
            "34/34 [==============================] - 0s 4ms/step - loss: 1737.5692 - mae: 1737.5692\n",
            "Epoch 202/300\n",
            "34/34 [==============================] - 0s 4ms/step - loss: 1864.1497 - mae: 1864.1497\n",
            "Epoch 203/300\n",
            "34/34 [==============================] - 0s 4ms/step - loss: 2067.6680 - mae: 2067.6680\n",
            "Epoch 204/300\n",
            "34/34 [==============================] - 0s 4ms/step - loss: 1809.0881 - mae: 1809.0881\n",
            "Epoch 205/300\n",
            "34/34 [==============================] - 0s 4ms/step - loss: 1848.9240 - mae: 1848.9240\n",
            "Epoch 206/300\n",
            "34/34 [==============================] - 0s 4ms/step - loss: 1993.6997 - mae: 1993.6997\n",
            "Epoch 207/300\n",
            "34/34 [==============================] - 0s 4ms/step - loss: 1749.0428 - mae: 1749.0428\n",
            "Epoch 208/300\n",
            "34/34 [==============================] - 0s 4ms/step - loss: 1750.3561 - mae: 1750.3561\n",
            "Epoch 209/300\n",
            "34/34 [==============================] - 0s 4ms/step - loss: 1785.8525 - mae: 1785.8525\n",
            "Epoch 210/300\n",
            "34/34 [==============================] - 0s 4ms/step - loss: 1774.4406 - mae: 1774.4406\n",
            "Epoch 211/300\n",
            "34/34 [==============================] - 0s 4ms/step - loss: 1898.2566 - mae: 1898.2566\n",
            "Epoch 212/300\n",
            "34/34 [==============================] - 0s 4ms/step - loss: 1753.5394 - mae: 1753.5394\n",
            "Epoch 213/300\n",
            "34/34 [==============================] - 0s 4ms/step - loss: 1705.5914 - mae: 1705.5914\n",
            "Epoch 214/300\n",
            "34/34 [==============================] - 0s 4ms/step - loss: 1733.6006 - mae: 1733.6006\n",
            "Epoch 215/300\n",
            "34/34 [==============================] - 0s 4ms/step - loss: 1859.8374 - mae: 1859.8374\n",
            "Epoch 216/300\n",
            "34/34 [==============================] - 0s 4ms/step - loss: 1811.2843 - mae: 1811.2843\n",
            "Epoch 217/300\n",
            "34/34 [==============================] - 0s 4ms/step - loss: 1806.8055 - mae: 1806.8055\n",
            "Epoch 218/300\n",
            "34/34 [==============================] - 0s 4ms/step - loss: 2024.1045 - mae: 2024.1045\n",
            "Epoch 219/300\n",
            "34/34 [==============================] - 0s 4ms/step - loss: 1779.3733 - mae: 1779.3733\n",
            "Epoch 220/300\n",
            "34/34 [==============================] - 0s 4ms/step - loss: 1616.5448 - mae: 1616.5448\n",
            "Epoch 221/300\n",
            "34/34 [==============================] - 0s 4ms/step - loss: 1705.7217 - mae: 1705.7217\n",
            "Epoch 222/300\n",
            "34/34 [==============================] - 0s 4ms/step - loss: 1692.7432 - mae: 1692.7432\n",
            "Epoch 223/300\n",
            "34/34 [==============================] - 0s 4ms/step - loss: 1822.5519 - mae: 1822.5519\n",
            "Epoch 224/300\n",
            "34/34 [==============================] - 0s 4ms/step - loss: 1873.0051 - mae: 1873.0051\n",
            "Epoch 225/300\n",
            "34/34 [==============================] - 0s 4ms/step - loss: 1712.0602 - mae: 1712.0602\n",
            "Epoch 226/300\n",
            "34/34 [==============================] - 0s 4ms/step - loss: 1712.0695 - mae: 1712.0695\n",
            "Epoch 227/300\n",
            "34/34 [==============================] - 0s 4ms/step - loss: 1787.6417 - mae: 1787.6417\n",
            "Epoch 228/300\n",
            "34/34 [==============================] - 0s 4ms/step - loss: 1833.6842 - mae: 1833.6842\n",
            "Epoch 229/300\n",
            "34/34 [==============================] - 0s 4ms/step - loss: 1814.9792 - mae: 1814.9792\n",
            "Epoch 230/300\n",
            "34/34 [==============================] - 0s 4ms/step - loss: 1716.3295 - mae: 1716.3295\n",
            "Epoch 231/300\n",
            "34/34 [==============================] - 0s 4ms/step - loss: 1964.4072 - mae: 1964.4072\n",
            "Epoch 232/300\n",
            "34/34 [==============================] - 0s 4ms/step - loss: 1872.6250 - mae: 1872.6250\n",
            "Epoch 233/300\n",
            "34/34 [==============================] - 0s 4ms/step - loss: 1821.9854 - mae: 1821.9854\n",
            "Epoch 234/300\n",
            "34/34 [==============================] - 0s 4ms/step - loss: 1778.6003 - mae: 1778.6003\n",
            "Epoch 235/300\n",
            "34/34 [==============================] - 0s 4ms/step - loss: 1784.3864 - mae: 1784.3864\n",
            "Epoch 236/300\n",
            "34/34 [==============================] - 0s 4ms/step - loss: 1978.5399 - mae: 1978.5399\n",
            "Epoch 237/300\n",
            "34/34 [==============================] - 0s 4ms/step - loss: 1758.8816 - mae: 1758.8816\n",
            "Epoch 238/300\n",
            "34/34 [==============================] - 0s 4ms/step - loss: 1731.7694 - mae: 1731.7694\n",
            "Epoch 239/300\n",
            "34/34 [==============================] - 0s 4ms/step - loss: 1887.1671 - mae: 1887.1671\n",
            "Epoch 240/300\n",
            "34/34 [==============================] - 0s 4ms/step - loss: 1801.5978 - mae: 1801.5978\n",
            "Epoch 241/300\n",
            "34/34 [==============================] - 0s 4ms/step - loss: 1689.8636 - mae: 1689.8636\n",
            "Epoch 242/300\n",
            "34/34 [==============================] - 0s 4ms/step - loss: 1789.2192 - mae: 1789.2192\n",
            "Epoch 243/300\n",
            "34/34 [==============================] - 0s 4ms/step - loss: 1891.5729 - mae: 1891.5729\n",
            "Epoch 244/300\n",
            "34/34 [==============================] - 0s 4ms/step - loss: 1815.3064 - mae: 1815.3064\n",
            "Epoch 245/300\n",
            "34/34 [==============================] - 0s 4ms/step - loss: 1752.5725 - mae: 1752.5725\n",
            "Epoch 246/300\n",
            "34/34 [==============================] - 0s 4ms/step - loss: 1791.4933 - mae: 1791.4933\n",
            "Epoch 247/300\n",
            "34/34 [==============================] - 0s 4ms/step - loss: 1792.6646 - mae: 1792.6646\n",
            "Epoch 248/300\n",
            "34/34 [==============================] - 0s 4ms/step - loss: 1679.0508 - mae: 1679.0508\n",
            "Epoch 249/300\n",
            "34/34 [==============================] - 0s 4ms/step - loss: 1791.1768 - mae: 1791.1768\n",
            "Epoch 250/300\n",
            "34/34 [==============================] - 0s 4ms/step - loss: 1881.8723 - mae: 1881.8723\n",
            "Epoch 251/300\n",
            "34/34 [==============================] - 0s 4ms/step - loss: 1764.1859 - mae: 1764.1859\n",
            "Epoch 252/300\n",
            "34/34 [==============================] - 0s 4ms/step - loss: 1770.8595 - mae: 1770.8595\n",
            "Epoch 253/300\n",
            "34/34 [==============================] - 0s 4ms/step - loss: 1787.7737 - mae: 1787.7737\n",
            "Epoch 254/300\n",
            "34/34 [==============================] - 0s 4ms/step - loss: 1952.7333 - mae: 1952.7333\n",
            "Epoch 255/300\n",
            "34/34 [==============================] - 0s 4ms/step - loss: 1765.5469 - mae: 1765.5469\n",
            "Epoch 256/300\n",
            "34/34 [==============================] - 0s 4ms/step - loss: 1679.5220 - mae: 1679.5220\n",
            "Epoch 257/300\n",
            "34/34 [==============================] - 0s 4ms/step - loss: 1640.8081 - mae: 1640.8081\n",
            "Epoch 258/300\n",
            "34/34 [==============================] - 0s 4ms/step - loss: 1794.9921 - mae: 1794.9921\n",
            "Epoch 259/300\n",
            "34/34 [==============================] - 0s 4ms/step - loss: 1922.5227 - mae: 1922.5227\n",
            "Epoch 260/300\n",
            "34/34 [==============================] - 0s 4ms/step - loss: 1943.5823 - mae: 1943.5823\n",
            "Epoch 261/300\n",
            "34/34 [==============================] - 0s 4ms/step - loss: 1700.0953 - mae: 1700.0953\n",
            "Epoch 262/300\n",
            "34/34 [==============================] - 0s 4ms/step - loss: 1855.7664 - mae: 1855.7664\n",
            "Epoch 263/300\n",
            "34/34 [==============================] - 0s 4ms/step - loss: 1784.4231 - mae: 1784.4231\n",
            "Epoch 264/300\n",
            "34/34 [==============================] - 0s 4ms/step - loss: 1878.9895 - mae: 1878.9895\n",
            "Epoch 265/300\n",
            "34/34 [==============================] - 0s 4ms/step - loss: 1952.5077 - mae: 1952.5077\n",
            "Epoch 266/300\n",
            "34/34 [==============================] - 0s 4ms/step - loss: 1834.6097 - mae: 1834.6097\n",
            "Epoch 267/300\n",
            "34/34 [==============================] - 0s 4ms/step - loss: 1754.9561 - mae: 1754.9561\n",
            "Epoch 268/300\n",
            "34/34 [==============================] - 0s 4ms/step - loss: 1680.2709 - mae: 1680.2709\n",
            "Epoch 269/300\n",
            "34/34 [==============================] - 0s 4ms/step - loss: 1824.6235 - mae: 1824.6235\n",
            "Epoch 270/300\n",
            "34/34 [==============================] - 0s 4ms/step - loss: 1700.6104 - mae: 1700.6104\n",
            "Epoch 271/300\n",
            "34/34 [==============================] - 0s 4ms/step - loss: 1873.3506 - mae: 1873.3506\n",
            "Epoch 272/300\n",
            "34/34 [==============================] - 0s 4ms/step - loss: 1758.2692 - mae: 1758.2692\n",
            "Epoch 273/300\n",
            "34/34 [==============================] - 0s 4ms/step - loss: 1666.8375 - mae: 1666.8375\n",
            "Epoch 274/300\n",
            "34/34 [==============================] - 0s 4ms/step - loss: 1748.2867 - mae: 1748.2867\n",
            "Epoch 275/300\n",
            "34/34 [==============================] - 0s 4ms/step - loss: 1999.8082 - mae: 1999.8082\n",
            "Epoch 276/300\n",
            "34/34 [==============================] - 0s 4ms/step - loss: 1688.9038 - mae: 1688.9038\n",
            "Epoch 277/300\n",
            "34/34 [==============================] - 0s 4ms/step - loss: 1752.6533 - mae: 1752.6533\n",
            "Epoch 278/300\n",
            "34/34 [==============================] - 0s 4ms/step - loss: 1814.2598 - mae: 1814.2598\n",
            "Epoch 279/300\n",
            "34/34 [==============================] - 0s 4ms/step - loss: 1726.0438 - mae: 1726.0438\n",
            "Epoch 280/300\n",
            "34/34 [==============================] - 0s 4ms/step - loss: 1766.6927 - mae: 1766.6927\n",
            "Epoch 281/300\n",
            "34/34 [==============================] - 0s 4ms/step - loss: 1805.4304 - mae: 1805.4304\n",
            "Epoch 282/300\n",
            "34/34 [==============================] - 0s 4ms/step - loss: 1767.8711 - mae: 1767.8711\n",
            "Epoch 283/300\n",
            "34/34 [==============================] - 0s 4ms/step - loss: 1951.5295 - mae: 1951.5295\n",
            "Epoch 284/300\n",
            "34/34 [==============================] - 0s 4ms/step - loss: 1920.3099 - mae: 1920.3101\n",
            "Epoch 285/300\n",
            "34/34 [==============================] - 0s 5ms/step - loss: 1641.9984 - mae: 1641.9984\n",
            "Epoch 286/300\n",
            "34/34 [==============================] - 0s 4ms/step - loss: 1602.5457 - mae: 1602.5457\n",
            "Epoch 287/300\n",
            "34/34 [==============================] - 0s 4ms/step - loss: 1647.2899 - mae: 1647.2899\n",
            "Epoch 288/300\n",
            "34/34 [==============================] - 0s 4ms/step - loss: 1682.5610 - mae: 1682.5610\n",
            "Epoch 289/300\n",
            "34/34 [==============================] - 0s 4ms/step - loss: 1654.4459 - mae: 1654.4459\n",
            "Epoch 290/300\n",
            "34/34 [==============================] - 0s 4ms/step - loss: 1612.5442 - mae: 1612.5442\n",
            "Epoch 291/300\n",
            "34/34 [==============================] - 0s 4ms/step - loss: 1709.2052 - mae: 1709.2052\n",
            "Epoch 292/300\n",
            "34/34 [==============================] - 0s 4ms/step - loss: 1649.3597 - mae: 1649.3597\n",
            "Epoch 293/300\n",
            "34/34 [==============================] - 0s 4ms/step - loss: 1686.1199 - mae: 1686.1199\n",
            "Epoch 294/300\n",
            "34/34 [==============================] - 0s 4ms/step - loss: 1682.5143 - mae: 1682.5143\n",
            "Epoch 295/300\n",
            "34/34 [==============================] - 0s 4ms/step - loss: 1675.7490 - mae: 1675.7490\n",
            "Epoch 296/300\n",
            "34/34 [==============================] - 0s 4ms/step - loss: 1681.6699 - mae: 1681.6699\n",
            "Epoch 297/300\n",
            "34/34 [==============================] - 0s 4ms/step - loss: 1807.6373 - mae: 1807.6373\n",
            "Epoch 298/300\n",
            "34/34 [==============================] - 0s 5ms/step - loss: 1757.0326 - mae: 1757.0326\n",
            "Epoch 299/300\n",
            "34/34 [==============================] - 0s 4ms/step - loss: 1752.8047 - mae: 1752.8047\n",
            "Epoch 300/300\n",
            "34/34 [==============================] - 0s 5ms/step - loss: 1780.1558 - mae: 1780.1558\n"
          ]
        }
      ]
    },
    {
      "cell_type": "code",
      "metadata": {
        "id": "eUPIJVd1N39W",
        "colab": {
          "base_uri": "https://localhost:8080/"
        },
        "outputId": "134c78d7-0047-4740-fbb5-35331f6e9476"
      },
      "source": [
        "model3.evaluate(x_test,y_test)"
      ],
      "execution_count": null,
      "outputs": [
        {
          "output_type": "stream",
          "name": "stdout",
          "text": [
            "9/9 [==============================] - 0s 4ms/step - loss: 2255.6101 - mae: 2255.6101\n"
          ]
        },
        {
          "output_type": "execute_result",
          "data": {
            "text/plain": [
              "[2255.610107421875, 2255.610107421875]"
            ]
          },
          "metadata": {},
          "execution_count": 11
        }
      ]
    },
    {
      "cell_type": "code",
      "metadata": {
        "id": "Ag5ObxfrOK7V",
        "colab": {
          "base_uri": "https://localhost:8080/",
          "height": 296
        },
        "outputId": "205ab19c-510b-45b4-8eef-6eab35f3f0d2"
      },
      "source": [
        "## plotting loss or training curve\n",
        "\n",
        "pd.DataFrame(history.history).plot()\n",
        "plt.xlabel(\"epochs\")\n",
        "plt.ylabel(\"loss\")"
      ],
      "execution_count": null,
      "outputs": [
        {
          "output_type": "execute_result",
          "data": {
            "text/plain": [
              "Text(0, 0.5, 'loss')"
            ]
          },
          "metadata": {},
          "execution_count": 18
        },
        {
          "output_type": "display_data",
          "data": {
            "image/png": "[encoded data removed]",
            "text/plain": [
              "<Figure size 432x288 with 1 Axes>"
            ]
          },
          "metadata": {
            "needs_background": "light"
          }
        }
      ]
    },
    {
      "cell_type": "markdown",
      "source": [
        "### feature scaling\n",
        "\n",
        "**Normalisation** :- it brings down all the valuses to between 0 and 1 keeping them on same scale without effecting the main values\n",
        "\n",
        "**Standardisation** :- removes the mean and divides each value by standar deviation. transforms a feature close to **normal distribution** the problem will be it effects the outliers( the values which lies outside normal curve) "
      ],
      "metadata": {
        "id": "WHCEPTIdPKv2"
      }
    },
    {
      "cell_type": "code",
      "source": [
        "insurance1 = pd.read_csv(\"/content/insurance.csv\")\n",
        "insurance1.head()"
      ],
      "metadata": {
        "colab": {
          "base_uri": "https://localhost:8080/",
          "height": 206
        },
        "id": "EG2qI98wK5XS",
        "outputId": "3a124a8f-9f0a-47e0-b638-c3051c2d4169"
      },
      "execution_count": null,
      "outputs": [
        {
          "output_type": "execute_result",
          "data": {
            "text/html": [
              "<div>\n",
              "<style scoped>\n",
              "    .dataframe tbody tr th:only-of-type {\n",
              "        vertical-align: middle;\n",
              "    }\n",
              "\n",
              "    .dataframe tbody tr th {\n",
              "        vertical-align: top;\n",
              "    }\n",
              "\n",
              "    .dataframe thead th {\n",
              "        text-align: right;\n",
              "    }\n",
              "</style>\n",
              "<table border=\"1\" class=\"dataframe\">\n",
              "  <thead>\n",
              "    <tr style=\"text-align: right;\">\n",
              "      <th></th>\n",
              "      <th>age</th>\n",
              "      <th>sex</th>\n",
              "      <th>bmi</th>\n",
              "      <th>children</th>\n",
              "      <th>smoker</th>\n",
              "      <th>region</th>\n",
              "      <th>charges</th>\n",
              "    </tr>\n",
              "  </thead>\n",
              "  <tbody>\n",
              "    <tr>\n",
              "      <th>0</th>\n",
              "      <td>19</td>\n",
              "      <td>female</td>\n",
              "      <td>27.900</td>\n",
              "      <td>0</td>\n",
              "      <td>yes</td>\n",
              "      <td>southwest</td>\n",
              "      <td>16884.92400</td>\n",
              "    </tr>\n",
              "    <tr>\n",
              "      <th>1</th>\n",
              "      <td>18</td>\n",
              "      <td>male</td>\n",
              "      <td>33.770</td>\n",
              "      <td>1</td>\n",
              "      <td>no</td>\n",
              "      <td>southeast</td>\n",
              "      <td>1725.55230</td>\n",
              "    </tr>\n",
              "    <tr>\n",
              "      <th>2</th>\n",
              "      <td>28</td>\n",
              "      <td>male</td>\n",
              "      <td>33.000</td>\n",
              "      <td>3</td>\n",
              "      <td>no</td>\n",
              "      <td>southeast</td>\n",
              "      <td>4449.46200</td>\n",
              "    </tr>\n",
              "    <tr>\n",
              "      <th>3</th>\n",
              "      <td>33</td>\n",
              "      <td>male</td>\n",
              "      <td>22.705</td>\n",
              "      <td>0</td>\n",
              "      <td>no</td>\n",
              "      <td>northwest</td>\n",
              "      <td>21984.47061</td>\n",
              "    </tr>\n",
              "    <tr>\n",
              "      <th>4</th>\n",
              "      <td>32</td>\n",
              "      <td>male</td>\n",
              "      <td>28.880</td>\n",
              "      <td>0</td>\n",
              "      <td>no</td>\n",
              "      <td>northwest</td>\n",
              "      <td>3866.85520</td>\n",
              "    </tr>\n",
              "  </tbody>\n",
              "</table>\n",
              "</div>"
            ],
            "text/plain": [
              "   age     sex     bmi  children smoker     region      charges\n",
              "0   19  female  27.900         0    yes  southwest  16884.92400\n",
              "1   18    male  33.770         1     no  southeast   1725.55230\n",
              "2   28    male  33.000         3     no  southeast   4449.46200\n",
              "3   33    male  22.705         0     no  northwest  21984.47061\n",
              "4   32    male  28.880         0     no  northwest   3866.85520"
            ]
          },
          "metadata": {},
          "execution_count": 12
        }
      ]
    },
    {
      "cell_type": "code",
      "source": [
        "## lets normalize\n",
        "from sklearn.compose import make_column_transformer\n",
        "from sklearn.preprocessing import MinMaxScaler,OneHotEncoder\n",
        "from sklearn.model_selection import train_test_split\n",
        "\n",
        "## intializing column transformer\n",
        "ct = make_column_transformer(\n",
        "    (MinMaxScaler(),['age','children','bmi']),\n",
        "    (OneHotEncoder(handle_unknown=\"ignore\"),['sex','smoker','region'])\n",
        "     \n",
        ")\n",
        "\n",
        "## split the data\n",
        "x1 = insurance1.drop(\"charges\",axis=1)\n",
        "y1 = insurance1['charges']\n",
        "\n",
        "x_train1,x_test1,y_train1,y_test1 = train_test_split(x1,y1,test_size=0.2)\n",
        "\n",
        "## fit on train\n",
        "\n",
        "ct.fit(x_train1)\n",
        "\n",
        "## transform\n",
        "\n",
        "x_train_transform = ct.transform(x_train1)\n",
        "x_test_transform = ct.transform(x_test1)"
      ],
      "metadata": {
        "id": "sWkDhHcvNupq"
      },
      "execution_count": null,
      "outputs": []
    },
    {
      "cell_type": "code",
      "source": [
        "x_train_transform[2]"
      ],
      "metadata": {
        "colab": {
          "base_uri": "https://localhost:8080/"
        },
        "id": "Z8gZGZQEOGZc",
        "outputId": "ae1ed837-63b9-4b0a-da01-81a205de506a"
      },
      "execution_count": null,
      "outputs": [
        {
          "output_type": "execute_result",
          "data": {
            "text/plain": [
              "array([0.60869565, 0.2       , 0.4677159 , 0.        , 1.        ,\n",
              "       1.        , 0.        , 1.        , 0.        , 0.        ,\n",
              "       0.        ])"
            ]
          },
          "metadata": {},
          "execution_count": 18
        }
      ]
    },
    {
      "cell_type": "code",
      "source": [
        "tf.random.set_seed(42)\n",
        "\n",
        "model4 = tf.keras.Sequential([\n",
        "                              tf.keras.layers.Dense(100, activation=\"relu\"),\n",
        "                              tf.keras.layers.Dense(100,activation=\"relu\"),\n",
        "                              tf.keras.layers.Dense(1)\n",
        "])\n",
        "\n",
        "model4.compile(loss=tf.keras.losses.mae,\n",
        "               optimizer= tf.keras.optimizers.Adam(learning_rate=0.1),\n",
        "               metrics=[\"mae\"])\n",
        "\n",
        "history = model4.fit(x_train_transform,y_train1,epochs=100)"
      ],
      "metadata": {
        "colab": {
          "base_uri": "https://localhost:8080/"
        },
        "id": "6spcDEBbPfG5",
        "outputId": "d95badb7-2d75-4e39-977b-daa89253a448"
      },
      "execution_count": null,
      "outputs": [
        {
          "output_type": "stream",
          "name": "stdout",
          "text": [
            "Epoch 1/100\n",
            "34/34 [==============================] - 1s 4ms/step - loss: 8867.3945 - mae: 8867.3945\n",
            "Epoch 2/100\n",
            "34/34 [==============================] - 0s 4ms/step - loss: 3803.3008 - mae: 3803.3008\n",
            "Epoch 3/100\n",
            "34/34 [==============================] - 0s 4ms/step - loss: 3323.4534 - mae: 3323.4534\n",
            "Epoch 4/100\n",
            "34/34 [==============================] - 0s 4ms/step - loss: 3277.2812 - mae: 3277.2812\n",
            "Epoch 5/100\n",
            "34/34 [==============================] - 0s 4ms/step - loss: 3022.4905 - mae: 3022.4905\n",
            "Epoch 6/100\n",
            "34/34 [==============================] - 0s 4ms/step - loss: 3111.3267 - mae: 3111.3267\n",
            "Epoch 7/100\n",
            "34/34 [==============================] - 0s 4ms/step - loss: 2960.4458 - mae: 2960.4458\n",
            "Epoch 8/100\n",
            "34/34 [==============================] - 0s 4ms/step - loss: 2964.1853 - mae: 2964.1853\n",
            "Epoch 9/100\n",
            "34/34 [==============================] - 0s 4ms/step - loss: 2979.3638 - mae: 2979.3638\n",
            "Epoch 10/100\n",
            "34/34 [==============================] - 0s 4ms/step - loss: 2611.7773 - mae: 2611.7773\n",
            "Epoch 11/100\n",
            "34/34 [==============================] - 0s 3ms/step - loss: 2461.5662 - mae: 2461.5662\n",
            "Epoch 12/100\n",
            "34/34 [==============================] - 0s 4ms/step - loss: 2370.8813 - mae: 2370.8813\n",
            "Epoch 13/100\n",
            "34/34 [==============================] - 0s 4ms/step - loss: 2173.3330 - mae: 2173.3330\n",
            "Epoch 14/100\n",
            "34/34 [==============================] - 0s 4ms/step - loss: 2253.0278 - mae: 2253.0278\n",
            "Epoch 15/100\n",
            "34/34 [==============================] - 0s 4ms/step - loss: 2170.2209 - mae: 2170.2209\n",
            "Epoch 16/100\n",
            "34/34 [==============================] - 0s 4ms/step - loss: 2101.7993 - mae: 2101.7993\n",
            "Epoch 17/100\n",
            "34/34 [==============================] - 0s 4ms/step - loss: 2198.3145 - mae: 2198.3145\n",
            "Epoch 18/100\n",
            "34/34 [==============================] - 0s 4ms/step - loss: 2141.7444 - mae: 2141.7444\n",
            "Epoch 19/100\n",
            "34/34 [==============================] - 0s 4ms/step - loss: 2054.8069 - mae: 2054.8069\n",
            "Epoch 20/100\n",
            "34/34 [==============================] - 0s 4ms/step - loss: 2159.9766 - mae: 2159.9766\n",
            "Epoch 21/100\n",
            "34/34 [==============================] - 0s 4ms/step - loss: 2057.2661 - mae: 2057.2661\n",
            "Epoch 22/100\n",
            "34/34 [==============================] - 0s 4ms/step - loss: 1989.1294 - mae: 1989.1294\n",
            "Epoch 23/100\n",
            "34/34 [==============================] - 0s 4ms/step - loss: 1936.2454 - mae: 1936.2454\n",
            "Epoch 24/100\n",
            "34/34 [==============================] - 0s 4ms/step - loss: 2000.5570 - mae: 2000.5570\n",
            "Epoch 25/100\n",
            "34/34 [==============================] - 0s 4ms/step - loss: 2015.0261 - mae: 2015.0261\n",
            "Epoch 26/100\n",
            "34/34 [==============================] - 0s 4ms/step - loss: 1989.4198 - mae: 1989.4198\n",
            "Epoch 27/100\n",
            "34/34 [==============================] - 0s 4ms/step - loss: 1923.5864 - mae: 1923.5864\n",
            "Epoch 28/100\n",
            "34/34 [==============================] - 0s 4ms/step - loss: 2071.7954 - mae: 2071.7954\n",
            "Epoch 29/100\n",
            "34/34 [==============================] - 0s 4ms/step - loss: 2007.0042 - mae: 2007.0042\n",
            "Epoch 30/100\n",
            "34/34 [==============================] - 0s 4ms/step - loss: 1974.5192 - mae: 1974.5192\n",
            "Epoch 31/100\n",
            "34/34 [==============================] - 0s 4ms/step - loss: 1997.5610 - mae: 1997.5610\n",
            "Epoch 32/100\n",
            "34/34 [==============================] - 0s 4ms/step - loss: 2069.3569 - mae: 2069.3569\n",
            "Epoch 33/100\n",
            "34/34 [==============================] - 0s 4ms/step - loss: 2173.5959 - mae: 2173.5959\n",
            "Epoch 34/100\n",
            "34/34 [==============================] - 0s 4ms/step - loss: 2156.9890 - mae: 2156.9890\n",
            "Epoch 35/100\n",
            "34/34 [==============================] - 0s 4ms/step - loss: 1962.4771 - mae: 1962.4771\n",
            "Epoch 36/100\n",
            "34/34 [==============================] - 0s 4ms/step - loss: 1950.4209 - mae: 1950.4209\n",
            "Epoch 37/100\n",
            "34/34 [==============================] - 0s 4ms/step - loss: 2008.0573 - mae: 2008.0573\n",
            "Epoch 38/100\n",
            "34/34 [==============================] - 0s 4ms/step - loss: 1897.7548 - mae: 1897.7548\n",
            "Epoch 39/100\n",
            "34/34 [==============================] - 0s 4ms/step - loss: 1919.6886 - mae: 1919.6886\n",
            "Epoch 40/100\n",
            "34/34 [==============================] - 0s 4ms/step - loss: 1962.6150 - mae: 1962.6150\n",
            "Epoch 41/100\n",
            "34/34 [==============================] - 0s 4ms/step - loss: 2003.3157 - mae: 2003.3157\n",
            "Epoch 42/100\n",
            "34/34 [==============================] - 0s 4ms/step - loss: 1964.1481 - mae: 1964.1481\n",
            "Epoch 43/100\n",
            "34/34 [==============================] - 0s 4ms/step - loss: 2025.7626 - mae: 2025.7626\n",
            "Epoch 44/100\n",
            "34/34 [==============================] - 0s 4ms/step - loss: 1969.3145 - mae: 1969.3145\n",
            "Epoch 45/100\n",
            "34/34 [==============================] - 0s 4ms/step - loss: 2221.9482 - mae: 2221.9482\n",
            "Epoch 46/100\n",
            "34/34 [==============================] - 0s 4ms/step - loss: 2071.5442 - mae: 2071.5442\n",
            "Epoch 47/100\n",
            "34/34 [==============================] - 0s 4ms/step - loss: 2077.8013 - mae: 2077.8013\n",
            "Epoch 48/100\n",
            "34/34 [==============================] - 0s 4ms/step - loss: 1928.4347 - mae: 1928.4347\n",
            "Epoch 49/100\n",
            "34/34 [==============================] - 0s 4ms/step - loss: 1984.0636 - mae: 1984.0636\n",
            "Epoch 50/100\n",
            "34/34 [==============================] - 0s 4ms/step - loss: 2022.2377 - mae: 2022.2377\n",
            "Epoch 51/100\n",
            "34/34 [==============================] - 0s 4ms/step - loss: 1881.8490 - mae: 1881.8490\n",
            "Epoch 52/100\n",
            "34/34 [==============================] - 0s 4ms/step - loss: 1887.2986 - mae: 1887.2986\n",
            "Epoch 53/100\n",
            "34/34 [==============================] - 0s 4ms/step - loss: 1880.0278 - mae: 1880.0278\n",
            "Epoch 54/100\n",
            "34/34 [==============================] - 0s 4ms/step - loss: 1922.9430 - mae: 1922.9430\n",
            "Epoch 55/100\n",
            "34/34 [==============================] - 0s 4ms/step - loss: 1984.2299 - mae: 1984.2299\n",
            "Epoch 56/100\n",
            "34/34 [==============================] - 0s 4ms/step - loss: 1897.1726 - mae: 1897.1726\n",
            "Epoch 57/100\n",
            "34/34 [==============================] - 0s 4ms/step - loss: 1949.0121 - mae: 1949.0121\n",
            "Epoch 58/100\n",
            "34/34 [==============================] - 0s 4ms/step - loss: 2043.7600 - mae: 2043.7600\n",
            "Epoch 59/100\n",
            "34/34 [==============================] - 0s 4ms/step - loss: 2000.1411 - mae: 2000.1411\n",
            "Epoch 60/100\n",
            "34/34 [==============================] - 0s 4ms/step - loss: 1928.8214 - mae: 1928.8214\n",
            "Epoch 61/100\n",
            "34/34 [==============================] - 0s 4ms/step - loss: 2037.3525 - mae: 2037.3525\n",
            "Epoch 62/100\n",
            "34/34 [==============================] - 0s 4ms/step - loss: 1913.2513 - mae: 1913.2513\n",
            "Epoch 63/100\n",
            "34/34 [==============================] - 0s 4ms/step - loss: 1987.3187 - mae: 1987.3187\n",
            "Epoch 64/100\n",
            "34/34 [==============================] - 0s 4ms/step - loss: 1921.3292 - mae: 1921.3292\n",
            "Epoch 65/100\n",
            "34/34 [==============================] - 0s 4ms/step - loss: 1972.0867 - mae: 1972.0867\n",
            "Epoch 66/100\n",
            "34/34 [==============================] - 0s 4ms/step - loss: 1890.7991 - mae: 1890.7991\n",
            "Epoch 67/100\n",
            "34/34 [==============================] - 0s 4ms/step - loss: 1890.8900 - mae: 1890.8900\n",
            "Epoch 68/100\n",
            "34/34 [==============================] - 0s 4ms/step - loss: 1981.9655 - mae: 1981.9655\n",
            "Epoch 69/100\n",
            "34/34 [==============================] - 0s 4ms/step - loss: 1899.3724 - mae: 1899.3724\n",
            "Epoch 70/100\n",
            "34/34 [==============================] - 0s 4ms/step - loss: 1973.7911 - mae: 1973.7911\n",
            "Epoch 71/100\n",
            "34/34 [==============================] - 0s 4ms/step - loss: 1911.6064 - mae: 1911.6064\n",
            "Epoch 72/100\n",
            "34/34 [==============================] - 0s 4ms/step - loss: 1895.6984 - mae: 1895.6984\n",
            "Epoch 73/100\n",
            "34/34 [==============================] - 0s 4ms/step - loss: 1947.2419 - mae: 1947.2419\n",
            "Epoch 74/100\n",
            "34/34 [==============================] - 0s 4ms/step - loss: 1939.8333 - mae: 1939.8333\n",
            "Epoch 75/100\n",
            "34/34 [==============================] - 0s 4ms/step - loss: 1962.7306 - mae: 1962.7306\n",
            "Epoch 76/100\n",
            "34/34 [==============================] - 0s 4ms/step - loss: 1958.3680 - mae: 1958.3680\n",
            "Epoch 77/100\n",
            "34/34 [==============================] - 0s 4ms/step - loss: 1946.5822 - mae: 1946.5822\n",
            "Epoch 78/100\n",
            "34/34 [==============================] - 0s 4ms/step - loss: 1955.8921 - mae: 1955.8921\n",
            "Epoch 79/100\n",
            "34/34 [==============================] - 0s 4ms/step - loss: 1900.2587 - mae: 1900.2587\n",
            "Epoch 80/100\n",
            "34/34 [==============================] - 0s 4ms/step - loss: 1949.2639 - mae: 1949.2639\n",
            "Epoch 81/100\n",
            "34/34 [==============================] - 0s 4ms/step - loss: 1913.6998 - mae: 1913.6998\n",
            "Epoch 82/100\n",
            "34/34 [==============================] - 0s 4ms/step - loss: 1949.7168 - mae: 1949.7168\n",
            "Epoch 83/100\n",
            "34/34 [==============================] - 0s 4ms/step - loss: 2034.6033 - mae: 2034.6033\n",
            "Epoch 84/100\n",
            "34/34 [==============================] - 0s 4ms/step - loss: 1919.7981 - mae: 1919.7981\n",
            "Epoch 85/100\n",
            "34/34 [==============================] - 0s 5ms/step - loss: 1940.9270 - mae: 1940.9270\n",
            "Epoch 86/100\n",
            "34/34 [==============================] - 0s 4ms/step - loss: 1921.4802 - mae: 1921.4802\n",
            "Epoch 87/100\n",
            "34/34 [==============================] - 0s 4ms/step - loss: 1995.9659 - mae: 1995.9659\n",
            "Epoch 88/100\n",
            "34/34 [==============================] - 0s 4ms/step - loss: 1873.3965 - mae: 1873.3965\n",
            "Epoch 89/100\n",
            "34/34 [==============================] - 0s 4ms/step - loss: 1915.5361 - mae: 1915.5361\n",
            "Epoch 90/100\n",
            "34/34 [==============================] - 0s 4ms/step - loss: 1971.3444 - mae: 1971.3444\n",
            "Epoch 91/100\n",
            "34/34 [==============================] - 0s 4ms/step - loss: 1862.1279 - mae: 1862.1279\n",
            "Epoch 92/100\n",
            "34/34 [==============================] - 0s 4ms/step - loss: 1842.9608 - mae: 1842.9608\n",
            "Epoch 93/100\n",
            "34/34 [==============================] - 0s 4ms/step - loss: 1897.4089 - mae: 1897.4089\n",
            "Epoch 94/100\n",
            "34/34 [==============================] - 0s 4ms/step - loss: 1913.4851 - mae: 1913.4851\n",
            "Epoch 95/100\n",
            "34/34 [==============================] - 0s 4ms/step - loss: 2018.1017 - mae: 2018.1017\n",
            "Epoch 96/100\n",
            "34/34 [==============================] - 0s 4ms/step - loss: 2031.3704 - mae: 2031.3704\n",
            "Epoch 97/100\n",
            "34/34 [==============================] - 0s 4ms/step - loss: 1885.6650 - mae: 1885.6650\n",
            "Epoch 98/100\n",
            "34/34 [==============================] - 0s 4ms/step - loss: 1893.0354 - mae: 1893.0354\n",
            "Epoch 99/100\n",
            "34/34 [==============================] - 0s 4ms/step - loss: 1959.4128 - mae: 1959.4128\n",
            "Epoch 100/100\n",
            "34/34 [==============================] - 0s 4ms/step - loss: 1919.8431 - mae: 1919.8431\n"
          ]
        }
      ]
    },
    {
      "cell_type": "code",
      "source": [
        "model4.evaluate(x_test_transform,y_test1)"
      ],
      "metadata": {
        "colab": {
          "base_uri": "https://localhost:8080/"
        },
        "id": "TGstIvHTQf6Q",
        "outputId": "e0185ae9-09a3-4abd-89dd-09be6bf47895"
      },
      "execution_count": null,
      "outputs": [
        {
          "output_type": "stream",
          "name": "stdout",
          "text": [
            "9/9 [==============================] - 0s 3ms/step - loss: 2535.5620 - mae: 2535.5620\n"
          ]
        },
        {
          "output_type": "execute_result",
          "data": {
            "text/plain": [
              "[2535.56201171875, 2535.56201171875]"
            ]
          },
          "metadata": {},
          "execution_count": 32
        }
      ]
    },
    {
      "cell_type": "code",
      "source": [
        ""
      ],
      "metadata": {
        "id": "h8FLEppzQxqH"
      },
      "execution_count": null,
      "outputs": []
    }
  ]
}